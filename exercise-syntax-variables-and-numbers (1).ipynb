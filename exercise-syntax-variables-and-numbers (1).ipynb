{
 "cells": [
  {
   "cell_type": "markdown",
   "metadata": {},
   "source": [
    "## Project: Heart Diseases Prediction Model"
   ]
  },
  {
   "cell_type": "markdown",
   "metadata": {},
   "source": [
    "## 1.Project objective\n",
    "\n",
    "The goal of this project is to build a model that can predict the probability of heart disease occurrence, based on a combination of features that describes the disease. In order to achieve the goal, we used data sets that was collected by Cleveland Clinic Foundation in Switzerland.\n",
    "The dataset used in this project is part of a database contains 14 features from Cleveland Clinic Foundation for heart disease. The dataset shows different levels of heart disease presence from 1 to 4 and 0 for the absence of the disease. We have 303 rows of people data with 13 continuous observation of different symptoms. \n",
    "When I was doing my master degree in biomedical engineering years ago, I created many models for my thesis projects, which was about drug repurposing, by using data sets to predict or discover new uses for existing drugs. From those days, I saw the success of machine learning in biomedicine domain, which enriched the computational biology field. \n",
    "In this study, we look into different classic machine learning models, and their discoveries in diseases risks. We have developed two algorithms using linear regression and decision trees, on Cleveland dataset."
   ]
  },
  {
   "cell_type": "markdown",
   "metadata": {},
   "source": [
    "## Import libraries"
   ]
  },
  {
   "cell_type": "code",
   "execution_count": 1,
   "metadata": {},
   "outputs": [],
   "source": [
    "import pandas as pnd\n",
    "import numpy as np\n",
    "from sklearn import preprocessing\n",
    "from sklearn import neighbors, datasets\n",
    "from sklearn import model_selection\n",
    "from sklearn.linear_model import SGDClassifier\n",
    "from sklearn import svm\n",
    "import random\n",
    "import operator\n",
    "\n",
    "from sklearn.model_selection import KFold\n",
    "\n",
    "import itertools\n",
    "import numpy as np\n",
    "import matplotlib.pyplot as plt\n",
    "\n",
    "from sklearn import metrics\n",
    "from sklearn.metrics import confusion_matrix\n",
    "\n",
    "from sklearn import tree\n",
    "import seaborn as sns\n",
    "\n",
    "from IPython.display import Image\n",
    "import warnings\n",
    "warnings.filterwarnings('ignore')\n",
    "\n",
    "%matplotlib inline"
   ]
  },
  {
   "cell_type": "markdown",
   "metadata": {},
   "source": [
    "## Main functions defining"
   ]
  },
  {
   "cell_type": "code",
   "execution_count": 2,
   "metadata": {},
   "outputs": [],
   "source": [
    "# function for confusion matrix building\n",
    "def plot_confusion_matrix(cm, classes,\n",
    "                          normalize=False,\n",
    "                          title='Confusion matrix',\n",
    "                          cmap=plt.cm.Blues):\n",
    "    \"\"\"\n",
    "    This function prints and plots the confusion matrix.\n",
    "    Normalization can be applied by setting `normalize=True`.\n",
    "    \"\"\"\n",
    "    plt.imshow(cm, interpolation='nearest', cmap=cmap)\n",
    "    plt.title(title)\n",
    "    plt.colorbar()\n",
    "    tick_marks = np.arange(len(classes))\n",
    "    plt.xticks(tick_marks, classes, rotation=45)\n",
    "    plt.yticks(tick_marks, classes)\n",
    "\n",
    "    if normalize:\n",
    "        cm = cm.astype('float') / cm.sum(axis=1)[:, np.newaxis]\n",
    "        print(\"Normalized confusion matrix\")\n",
    "    else:\n",
    "        print('Confusion matrix, without normalization')\n",
    "\n",
    "    print(cm)\n",
    "\n",
    "    thresh = cm.max() / 2.\n",
    "    for i, j in itertools.product(range(cm.shape[0]), range(cm.shape[1])):\n",
    "        plt.text(j, i, cm[i, j],\n",
    "                 horizontalalignment=\"center\",\n",
    "                 color=\"white\" if cm[i, j] > thresh else \"black\")\n",
    "\n",
    "    plt.tight_layout()\n",
    "    plt.ylabel('True label')\n",
    "    plt.xlabel('Predicted label')\n",
    "    \n",
    "    \n",
    "\n",
    "def visualize_tree(tr, feature_names):\n",
    "    \"\"\"Create tree png using graphviz.\n",
    "\n",
    "    Args\n",
    "    ----\n",
    "    tree -- scikit-learn DecsisionTree.\n",
    "    feature_names -- list of feature names.\n",
    "    \"\"\"\n",
    "    with open(\"dt.dot\", 'w') as f:\n",
    "        tree.export_graphviz(tr, out_file=f,\n",
    "                        feature_names=feature_names)\n",
    "\n",
    "    command = [\"dot\", \"-Tpng\", \"dt.dot\", \"-o\", \"dt.png\"]"
   ]
  },
  {
   "cell_type": "markdown",
   "metadata": {},
   "source": [
    "## 2.Problem Statement\n",
    "A set of disease-predicting parameters {Ak} k=1,2..n is decided upon based on observed correlation with disease diagnosis (heart diseases in our case), where n is the number of such parameters.\n",
    "We also have a set of N patients {xi} that have been diagnosed with heart disease or not, and the dataset consists of the {Ak(xi)} parameter readings. where {wk}k=1,2..n is a set of weights for each of the n disease-predicting parameters (to be determined by fitting the dataset to the model).\n",
    "The models are aiming to predict the probability that a given patient x will be diagnosed as heart disease, and predict the weights of the features on finding the probability. When our data was a small data sets, then we hope that the model will fit the data without the risk of overfitting.  \n"
   ]
  },
  {
   "cell_type": "markdown",
   "metadata": {},
   "source": [
    "## 3.Dataset Description\n",
    "The dataset used in this project is part of a database contains 14 features from Cleveland Clinic Foundation for heart disease [1]. The dataset shows different levels of heart disease presence from 1 to 4 and 0 for the absence of the disease. Experiments with the Cleveland database have concentrated on simply attempting to distinguish presence (values 1, 2, 3, 4) from absence (value 0). We have 303 rows of people data with 13 continuous observation of different symptoms. \n"
   ]
  },
  {
   "cell_type": "code",
   "execution_count": 3,
   "metadata": {},
   "outputs": [
    {
     "data": {
      "text/html": [
       "<div>\n",
       "<style scoped>\n",
       "    .dataframe tbody tr th:only-of-type {\n",
       "        vertical-align: middle;\n",
       "    }\n",
       "\n",
       "    .dataframe tbody tr th {\n",
       "        vertical-align: top;\n",
       "    }\n",
       "\n",
       "    .dataframe thead th {\n",
       "        text-align: right;\n",
       "    }\n",
       "</style>\n",
       "<table border=\"1\" class=\"dataframe\">\n",
       "  <thead>\n",
       "    <tr style=\"text-align: right;\">\n",
       "      <th></th>\n",
       "      <th>age</th>\n",
       "      <th>sex</th>\n",
       "      <th>chest_pain</th>\n",
       "      <th>blood pressure</th>\n",
       "      <th>serum_cholestoral</th>\n",
       "      <th>fasting_blood_sugar</th>\n",
       "      <th>electrocardiographic</th>\n",
       "      <th>max_heart_rate</th>\n",
       "      <th>induced_angina</th>\n",
       "      <th>ST_depression</th>\n",
       "      <th>slope</th>\n",
       "      <th>vessels</th>\n",
       "      <th>thal</th>\n",
       "      <th>diagnosis</th>\n",
       "    </tr>\n",
       "  </thead>\n",
       "  <tbody>\n",
       "    <tr>\n",
       "      <th>0</th>\n",
       "      <td>63</td>\n",
       "      <td>1</td>\n",
       "      <td>1</td>\n",
       "      <td>145</td>\n",
       "      <td>233</td>\n",
       "      <td>1</td>\n",
       "      <td>2</td>\n",
       "      <td>150</td>\n",
       "      <td>0</td>\n",
       "      <td>2.3</td>\n",
       "      <td>3</td>\n",
       "      <td>0</td>\n",
       "      <td>6</td>\n",
       "      <td>0</td>\n",
       "    </tr>\n",
       "    <tr>\n",
       "      <th>1</th>\n",
       "      <td>67</td>\n",
       "      <td>1</td>\n",
       "      <td>4</td>\n",
       "      <td>160</td>\n",
       "      <td>286</td>\n",
       "      <td>0</td>\n",
       "      <td>2</td>\n",
       "      <td>108</td>\n",
       "      <td>1</td>\n",
       "      <td>1.5</td>\n",
       "      <td>2</td>\n",
       "      <td>3</td>\n",
       "      <td>3</td>\n",
       "      <td>2</td>\n",
       "    </tr>\n",
       "    <tr>\n",
       "      <th>2</th>\n",
       "      <td>67</td>\n",
       "      <td>1</td>\n",
       "      <td>4</td>\n",
       "      <td>120</td>\n",
       "      <td>229</td>\n",
       "      <td>0</td>\n",
       "      <td>2</td>\n",
       "      <td>129</td>\n",
       "      <td>1</td>\n",
       "      <td>2.6</td>\n",
       "      <td>2</td>\n",
       "      <td>2</td>\n",
       "      <td>7</td>\n",
       "      <td>1</td>\n",
       "    </tr>\n",
       "    <tr>\n",
       "      <th>3</th>\n",
       "      <td>37</td>\n",
       "      <td>1</td>\n",
       "      <td>3</td>\n",
       "      <td>130</td>\n",
       "      <td>250</td>\n",
       "      <td>0</td>\n",
       "      <td>0</td>\n",
       "      <td>187</td>\n",
       "      <td>0</td>\n",
       "      <td>3.5</td>\n",
       "      <td>3</td>\n",
       "      <td>0</td>\n",
       "      <td>3</td>\n",
       "      <td>0</td>\n",
       "    </tr>\n",
       "    <tr>\n",
       "      <th>4</th>\n",
       "      <td>41</td>\n",
       "      <td>0</td>\n",
       "      <td>2</td>\n",
       "      <td>130</td>\n",
       "      <td>204</td>\n",
       "      <td>0</td>\n",
       "      <td>2</td>\n",
       "      <td>172</td>\n",
       "      <td>0</td>\n",
       "      <td>1.4</td>\n",
       "      <td>1</td>\n",
       "      <td>0</td>\n",
       "      <td>3</td>\n",
       "      <td>0</td>\n",
       "    </tr>\n",
       "  </tbody>\n",
       "</table>\n",
       "</div>"
      ],
      "text/plain": [
       "   age  sex  chest_pain    ...      vessels  thal  diagnosis\n",
       "0   63    1           1    ...            0     6          0\n",
       "1   67    1           4    ...            3     3          2\n",
       "2   67    1           4    ...            2     7          1\n",
       "3   37    1           3    ...            0     3          0\n",
       "4   41    0           2    ...            0     3          0\n",
       "\n",
       "[5 rows x 14 columns]"
      ]
     },
     "execution_count": 3,
     "metadata": {},
     "output_type": "execute_result"
    }
   ],
   "source": [
    "# add the rows names\n",
    "import pandas as pnd\n",
    "header_row = ['age','sex','chest_pain','blood pressure','serum_cholestoral','fasting_blood_sugar',\\\n",
    "               'electrocardiographic','max_heart_rate','induced_angina','ST_depression','slope','vessels','thal','diagnosis']\n",
    "\n",
    "# read csv file with Cleveland heart diseases data\n",
    "heart = pnd.read_csv(\"../input/cleveland/processed.cleveland.data.csv\", names=header_row)\n",
    "heart[:5]"
   ]
  },
  {
   "cell_type": "code",
   "execution_count": 4,
   "metadata": {},
   "outputs": [
    {
     "data": {
      "text/plain": [
       "303"
      ]
     },
     "execution_count": 4,
     "metadata": {},
     "output_type": "execute_result"
    }
   ],
   "source": [
    "len(heart)"
   ]
  },
  {
   "cell_type": "markdown",
   "metadata": {},
   "source": [
    "#### As shown above, we have 303 rows of people data with 13 continous observation of different symptoms. "
   ]
  },
  {
   "cell_type": "markdown",
   "metadata": {},
   "source": [
    "## 4.Features Description\n",
    "The table below, summarizes the features information:\n",
    "\n",
    "| Feature  | Detail           | \n",
    "| ------------- |:-------------:| \n",
    "| Age      | Age in years | \n",
    "| Sex      | 1 for male; 0 for female    |  \n",
    "| Chest pain type | Value1: typical angina. Value2: atypical angina. Value3: non-anginal pain. Vlaue4: asymptomatic|\n",
    "| Resting blood pressure| In mm hg on admission to the hospital| \n",
    "| Serum cholesterol|In mg/dI|  \n",
    "| Fasting blood sugar > 120 mg/dI|1 for true; 0 for false|  \n",
    "| Resting electrocardiographic results|Value0: normal. Value1: having ST-T wave abnormality (T-wave inversions and/or ST elevation or depression of > 0.05 mV). Value2: showing probable or definite left ventricular hypertrophy by Estes’s criteria| \n",
    "|Maximum heart rate achieved| centered      |  \n",
    "|Exercise-induced angina|1 for yes; 0 for no|  \n",
    "|ST depression induced by exercise relative to rest|In mm Hg on admission to the hospital| \n",
    "|Number of major vessels| (0-3) colored by fluoroscopy|  \n",
    "|The slope of the peak exercise ST segment|Value1: upsloping. Value2: flat. Value3: downsloping|  \n",
    "|Thallium heart scan|3 for normal; 6 for fixed defect; 7 for reversible defect| \n",
    "|Diagnosis heart disease (angiographic disease)|Value0: no disease. Value1: heart disease|   "
   ]
  },
  {
   "cell_type": "markdown",
   "metadata": {},
   "source": [
    "## 5.Data Exploration"
   ]
  },
  {
   "cell_type": "code",
   "execution_count": 5,
   "metadata": {},
   "outputs": [
    {
     "data": {
      "text/html": [
       "<div>\n",
       "<style scoped>\n",
       "    .dataframe tbody tr th:only-of-type {\n",
       "        vertical-align: middle;\n",
       "    }\n",
       "\n",
       "    .dataframe tbody tr th {\n",
       "        vertical-align: top;\n",
       "    }\n",
       "\n",
       "    .dataframe thead th {\n",
       "        text-align: right;\n",
       "    }\n",
       "</style>\n",
       "<table border=\"1\" class=\"dataframe\">\n",
       "  <thead>\n",
       "    <tr style=\"text-align: right;\">\n",
       "      <th></th>\n",
       "      <th>age</th>\n",
       "      <th>sex</th>\n",
       "      <th>chest_pain</th>\n",
       "      <th>blood pressure</th>\n",
       "      <th>serum_cholestoral</th>\n",
       "      <th>fasting_blood_sugar</th>\n",
       "      <th>electrocardiographic</th>\n",
       "      <th>max_heart_rate</th>\n",
       "      <th>induced_angina</th>\n",
       "      <th>ST_depression</th>\n",
       "      <th>slope</th>\n",
       "      <th>diagnosis</th>\n",
       "    </tr>\n",
       "  </thead>\n",
       "  <tbody>\n",
       "    <tr>\n",
       "      <th>count</th>\n",
       "      <td>303.000000</td>\n",
       "      <td>303.000000</td>\n",
       "      <td>303.000000</td>\n",
       "      <td>303.000000</td>\n",
       "      <td>303.000000</td>\n",
       "      <td>303.000000</td>\n",
       "      <td>303.000000</td>\n",
       "      <td>303.000000</td>\n",
       "      <td>303.000000</td>\n",
       "      <td>303.000000</td>\n",
       "      <td>303.000000</td>\n",
       "      <td>303.000000</td>\n",
       "    </tr>\n",
       "    <tr>\n",
       "      <th>mean</th>\n",
       "      <td>54.438944</td>\n",
       "      <td>0.679868</td>\n",
       "      <td>3.158416</td>\n",
       "      <td>131.689769</td>\n",
       "      <td>246.693069</td>\n",
       "      <td>0.148515</td>\n",
       "      <td>0.990099</td>\n",
       "      <td>149.607261</td>\n",
       "      <td>0.326733</td>\n",
       "      <td>1.039604</td>\n",
       "      <td>1.600660</td>\n",
       "      <td>0.937294</td>\n",
       "    </tr>\n",
       "    <tr>\n",
       "      <th>std</th>\n",
       "      <td>9.038662</td>\n",
       "      <td>0.467299</td>\n",
       "      <td>0.960126</td>\n",
       "      <td>17.599748</td>\n",
       "      <td>51.776918</td>\n",
       "      <td>0.356198</td>\n",
       "      <td>0.994971</td>\n",
       "      <td>22.875003</td>\n",
       "      <td>0.469794</td>\n",
       "      <td>1.161075</td>\n",
       "      <td>0.616226</td>\n",
       "      <td>1.228536</td>\n",
       "    </tr>\n",
       "    <tr>\n",
       "      <th>min</th>\n",
       "      <td>29.000000</td>\n",
       "      <td>0.000000</td>\n",
       "      <td>1.000000</td>\n",
       "      <td>94.000000</td>\n",
       "      <td>126.000000</td>\n",
       "      <td>0.000000</td>\n",
       "      <td>0.000000</td>\n",
       "      <td>71.000000</td>\n",
       "      <td>0.000000</td>\n",
       "      <td>0.000000</td>\n",
       "      <td>1.000000</td>\n",
       "      <td>0.000000</td>\n",
       "    </tr>\n",
       "    <tr>\n",
       "      <th>25%</th>\n",
       "      <td>48.000000</td>\n",
       "      <td>0.000000</td>\n",
       "      <td>3.000000</td>\n",
       "      <td>120.000000</td>\n",
       "      <td>211.000000</td>\n",
       "      <td>0.000000</td>\n",
       "      <td>0.000000</td>\n",
       "      <td>133.500000</td>\n",
       "      <td>0.000000</td>\n",
       "      <td>0.000000</td>\n",
       "      <td>1.000000</td>\n",
       "      <td>0.000000</td>\n",
       "    </tr>\n",
       "    <tr>\n",
       "      <th>50%</th>\n",
       "      <td>56.000000</td>\n",
       "      <td>1.000000</td>\n",
       "      <td>3.000000</td>\n",
       "      <td>130.000000</td>\n",
       "      <td>241.000000</td>\n",
       "      <td>0.000000</td>\n",
       "      <td>1.000000</td>\n",
       "      <td>153.000000</td>\n",
       "      <td>0.000000</td>\n",
       "      <td>0.800000</td>\n",
       "      <td>2.000000</td>\n",
       "      <td>0.000000</td>\n",
       "    </tr>\n",
       "    <tr>\n",
       "      <th>75%</th>\n",
       "      <td>61.000000</td>\n",
       "      <td>1.000000</td>\n",
       "      <td>4.000000</td>\n",
       "      <td>140.000000</td>\n",
       "      <td>275.000000</td>\n",
       "      <td>0.000000</td>\n",
       "      <td>2.000000</td>\n",
       "      <td>166.000000</td>\n",
       "      <td>1.000000</td>\n",
       "      <td>1.600000</td>\n",
       "      <td>2.000000</td>\n",
       "      <td>2.000000</td>\n",
       "    </tr>\n",
       "    <tr>\n",
       "      <th>max</th>\n",
       "      <td>77.000000</td>\n",
       "      <td>1.000000</td>\n",
       "      <td>4.000000</td>\n",
       "      <td>200.000000</td>\n",
       "      <td>564.000000</td>\n",
       "      <td>1.000000</td>\n",
       "      <td>2.000000</td>\n",
       "      <td>202.000000</td>\n",
       "      <td>1.000000</td>\n",
       "      <td>6.200000</td>\n",
       "      <td>3.000000</td>\n",
       "      <td>4.000000</td>\n",
       "    </tr>\n",
       "  </tbody>\n",
       "</table>\n",
       "</div>"
      ],
      "text/plain": [
       "              age         sex     ...           slope   diagnosis\n",
       "count  303.000000  303.000000     ...      303.000000  303.000000\n",
       "mean    54.438944    0.679868     ...        1.600660    0.937294\n",
       "std      9.038662    0.467299     ...        0.616226    1.228536\n",
       "min     29.000000    0.000000     ...        1.000000    0.000000\n",
       "25%     48.000000    0.000000     ...        1.000000    0.000000\n",
       "50%     56.000000    1.000000     ...        2.000000    0.000000\n",
       "75%     61.000000    1.000000     ...        2.000000    2.000000\n",
       "max     77.000000    1.000000     ...        3.000000    4.000000\n",
       "\n",
       "[8 rows x 12 columns]"
      ]
     },
     "execution_count": 5,
     "metadata": {},
     "output_type": "execute_result"
    }
   ],
   "source": [
    "# get statistics values\n",
    "heart.describe()"
   ]
  },
  {
   "cell_type": "code",
   "execution_count": 6,
   "metadata": {},
   "outputs": [
    {
     "name": "stdout",
     "output_type": "stream",
     "text": [
      "sex\n",
      "0     97\n",
      "1    206\n",
      "Name: age, dtype: int64\n",
      "chest_pain\n",
      "1     23\n",
      "2     50\n",
      "3     86\n",
      "4    144\n",
      "Name: age, dtype: int64\n",
      "fasting_blood_sugar\n",
      "0    258\n",
      "1     45\n",
      "Name: age, dtype: int64\n",
      "electrocardiographic\n",
      "0    151\n",
      "1      4\n",
      "2    148\n",
      "Name: age, dtype: int64\n",
      "induced_angina\n",
      "0    204\n",
      "1     99\n",
      "Name: age, dtype: int64\n",
      "slope\n",
      "1    142\n",
      "2    140\n",
      "3     21\n",
      "Name: age, dtype: int64\n",
      "vessels\n",
      "0    176\n",
      "1     65\n",
      "2     38\n",
      "3     20\n",
      "?      4\n",
      "Name: age, dtype: int64\n",
      "thal\n",
      "3    166\n",
      "6     18\n",
      "7    117\n",
      "?      2\n",
      "Name: age, dtype: int64\n",
      "diagnosis\n",
      "0    164\n",
      "1     55\n",
      "2     36\n",
      "3     35\n",
      "4     13\n",
      "Name: age, dtype: int64\n"
     ]
    }
   ],
   "source": [
    "# get number of people with symptom X_k\n",
    "names_descr = dict()\n",
    "categorical_columns = [\"sex\", \"chest_pain\", \"fasting_blood_sugar\", \"electrocardiographic\", \"induced_angina\", \"slope\", \"vessels\", \\\n",
    "                       \"thal\", \"diagnosis\"]\n",
    "for c in categorical_columns:\n",
    "    print  (heart.groupby([c])[\"age\"].count())"
   ]
  },
  {
   "cell_type": "markdown",
   "metadata": {},
   "source": [
    "#### Here we can see how many people which symptom have"
   ]
  },
  {
   "cell_type": "markdown",
   "metadata": {},
   "source": [
    "### 5.1 preprocess the data, to change the missing data into mean value, using simple mean imputation methods"
   ]
  },
  {
   "cell_type": "code",
   "execution_count": 7,
   "metadata": {},
   "outputs": [],
   "source": [
    "# we have unknown values '?'\n",
    "# change unrecognized value '?' into mean value through the column\n",
    "for c in heart.columns[:-1]:\n",
    "    heart[c] = heart[c].apply(lambda x: heart[heart[c]!='?'][c].astype(float).mean() if x == \"?\" else x)\n",
    "    heart[c] = heart[c].astype(float)\n",
    "    "
   ]
  },
  {
   "cell_type": "markdown",
   "metadata": {},
   "source": [
    "### 5.2 Heart disease types discovering"
   ]
  },
  {
   "cell_type": "code",
   "execution_count": 8,
   "metadata": {},
   "outputs": [
    {
     "data": {
      "text/plain": [
       "{0, 1, 2, 3, 4}"
      ]
     },
     "execution_count": 8,
     "metadata": {},
     "output_type": "execute_result"
    }
   ],
   "source": [
    "# print the types of heart disease\n",
    "set(heart.loc[:, \"diagnosis\"].values)"
   ]
  },
  {
   "cell_type": "markdown",
   "metadata": {},
   "source": [
    "#### 0 - no disease\n",
    "#### 1,2,3,4 - types of disease by severity in ascending"
   ]
  },
  {
   "cell_type": "code",
   "execution_count": 9,
   "metadata": {},
   "outputs": [],
   "source": [
    "# let's calculate similarities between 1,2,3,4 levels \n",
    "# we will use euclidean distance \n",
    "vecs_1 = heart[heart[\"diagnosis\"] == 1 ].median().values[:-2]\n",
    "vecs_2 = heart[heart[\"diagnosis\"] == 2 ].median().values[:-2]\n",
    "vecs_3 = heart[heart[\"diagnosis\"] == 3 ].median().values[:-2]\n",
    "vecs_4 = heart[heart[\"diagnosis\"] == 4 ].median().values[:-2]"
   ]
  },
  {
   "cell_type": "code",
   "execution_count": 10,
   "metadata": {},
   "outputs": [
    {
     "data": {
      "text/plain": [
       "array([ 57. ,   1. ,   4. , 130. , 249. ,   0. ,   2. , 150. ,   0. ,\n",
       "         0.8,   2. ,   1. ])"
      ]
     },
     "execution_count": 10,
     "metadata": {},
     "output_type": "execute_result"
    }
   ],
   "source": [
    "vecs_1"
   ]
  },
  {
   "cell_type": "code",
   "execution_count": 11,
   "metadata": {},
   "outputs": [
    {
     "name": "stdout",
     "output_type": "stream",
     "text": [
      "Similarity between type 1 and type 2 is  10.383159442096611\n",
      "Similarity between type 1 and type 3 is  21.283796653792763\n",
      "Similarity between type 1 and type 4 is  29.76390431378249\n",
      "Similarity between type 2 and type 3 is  13.077079184588582\n",
      "Similarity between type 2 and type 4 is  27.939935576160515\n",
      "Similarity between type 3 and type 4 is  29.521009467834936\n"
     ]
    }
   ],
   "source": [
    "print (\"Similarity between type 1 and type 2 is \", np.linalg.norm(vecs_1-vecs_2))\n",
    "print (\"Similarity between type 1 and type 3 is \", np.linalg.norm(vecs_1-vecs_3))\n",
    "print (\"Similarity between type 1 and type 4 is \", np.linalg.norm(vecs_1-vecs_4))\n",
    "print (\"Similarity between type 2 and type 3 is \", np.linalg.norm(vecs_2-vecs_3))\n",
    "print (\"Similarity between type 2 and type 4 is \", np.linalg.norm(vecs_2-vecs_4))\n",
    "print (\"Similarity between type 3 and type 4 is \", np.linalg.norm(vecs_3-vecs_4))"
   ]
  },
  {
   "cell_type": "code",
   "execution_count": 12,
   "metadata": {},
   "outputs": [],
   "source": [
    "sim = {\"(1,2)\": np.linalg.norm(vecs_1-vecs_2), \\\n",
    "       \"(1,3)\": np.linalg.norm(vecs_1-vecs_3),\\\n",
    "       \"(1,4)\": np.linalg.norm(vecs_1-vecs_4),\\\n",
    "       \"(2,3)\": np.linalg.norm(vecs_2-vecs_3),\\\n",
    "       \"(2,4)\": np.linalg.norm(vecs_2-vecs_4),\\\n",
    "       \"(3,4)\": np.linalg.norm(vecs_3-vecs_4)    \n",
    "      }"
   ]
  },
  {
   "cell_type": "code",
   "execution_count": 13,
   "metadata": {},
   "outputs": [
    {
     "data": {
      "text/plain": [
       "[('(1,2)', 10.383159442096611),\n",
       " ('(2,3)', 13.077079184588582),\n",
       " ('(1,3)', 21.283796653792763),\n",
       " ('(2,4)', 27.939935576160515),\n",
       " ('(3,4)', 29.521009467834936),\n",
       " ('(1,4)', 29.76390431378249)]"
      ]
     },
     "execution_count": 13,
     "metadata": {},
     "output_type": "execute_result"
    }
   ],
   "source": [
    "# sort by the closest types\n",
    "sorted_sim = sorted(sim.items(), key=operator.itemgetter(1))\n",
    "sorted_sim"
   ]
  },
  {
   "cell_type": "markdown",
   "metadata": {},
   "source": [
    "#### We can see that the mild forms of disease are more similar than 4 type of heart disease and others"
   ]
  },
  {
   "cell_type": "code",
   "execution_count": 14,
   "metadata": {},
   "outputs": [
    {
     "data": {
      "text/html": [
       "<div>\n",
       "<style scoped>\n",
       "    .dataframe tbody tr th:only-of-type {\n",
       "        vertical-align: middle;\n",
       "    }\n",
       "\n",
       "    .dataframe tbody tr th {\n",
       "        vertical-align: top;\n",
       "    }\n",
       "\n",
       "    .dataframe thead th {\n",
       "        text-align: right;\n",
       "    }\n",
       "</style>\n",
       "<table border=\"1\" class=\"dataframe\">\n",
       "  <thead>\n",
       "    <tr style=\"text-align: right;\">\n",
       "      <th></th>\n",
       "      <th>age</th>\n",
       "      <th>sex</th>\n",
       "      <th>chest_pain</th>\n",
       "      <th>blood pressure</th>\n",
       "      <th>serum_cholestoral</th>\n",
       "      <th>fasting_blood_sugar</th>\n",
       "      <th>electrocardiographic</th>\n",
       "      <th>max_heart_rate</th>\n",
       "      <th>induced_angina</th>\n",
       "      <th>ST_depression</th>\n",
       "      <th>slope</th>\n",
       "      <th>vessels</th>\n",
       "      <th>thal</th>\n",
       "      <th>diagnosis</th>\n",
       "    </tr>\n",
       "  </thead>\n",
       "  <tbody>\n",
       "    <tr>\n",
       "      <th>1</th>\n",
       "      <td>67.0</td>\n",
       "      <td>1.0</td>\n",
       "      <td>4.0</td>\n",
       "      <td>160.0</td>\n",
       "      <td>286.0</td>\n",
       "      <td>0.0</td>\n",
       "      <td>2.0</td>\n",
       "      <td>108.0</td>\n",
       "      <td>1.0</td>\n",
       "      <td>1.5</td>\n",
       "      <td>2.0</td>\n",
       "      <td>3.0</td>\n",
       "      <td>3.0</td>\n",
       "      <td>2</td>\n",
       "    </tr>\n",
       "    <tr>\n",
       "      <th>2</th>\n",
       "      <td>67.0</td>\n",
       "      <td>1.0</td>\n",
       "      <td>4.0</td>\n",
       "      <td>120.0</td>\n",
       "      <td>229.0</td>\n",
       "      <td>0.0</td>\n",
       "      <td>2.0</td>\n",
       "      <td>129.0</td>\n",
       "      <td>1.0</td>\n",
       "      <td>2.6</td>\n",
       "      <td>2.0</td>\n",
       "      <td>2.0</td>\n",
       "      <td>7.0</td>\n",
       "      <td>1</td>\n",
       "    </tr>\n",
       "    <tr>\n",
       "      <th>6</th>\n",
       "      <td>62.0</td>\n",
       "      <td>0.0</td>\n",
       "      <td>4.0</td>\n",
       "      <td>140.0</td>\n",
       "      <td>268.0</td>\n",
       "      <td>0.0</td>\n",
       "      <td>2.0</td>\n",
       "      <td>160.0</td>\n",
       "      <td>0.0</td>\n",
       "      <td>3.6</td>\n",
       "      <td>3.0</td>\n",
       "      <td>2.0</td>\n",
       "      <td>3.0</td>\n",
       "      <td>3</td>\n",
       "    </tr>\n",
       "    <tr>\n",
       "      <th>8</th>\n",
       "      <td>63.0</td>\n",
       "      <td>1.0</td>\n",
       "      <td>4.0</td>\n",
       "      <td>130.0</td>\n",
       "      <td>254.0</td>\n",
       "      <td>0.0</td>\n",
       "      <td>2.0</td>\n",
       "      <td>147.0</td>\n",
       "      <td>0.0</td>\n",
       "      <td>1.4</td>\n",
       "      <td>2.0</td>\n",
       "      <td>1.0</td>\n",
       "      <td>7.0</td>\n",
       "      <td>2</td>\n",
       "    </tr>\n",
       "    <tr>\n",
       "      <th>9</th>\n",
       "      <td>53.0</td>\n",
       "      <td>1.0</td>\n",
       "      <td>4.0</td>\n",
       "      <td>140.0</td>\n",
       "      <td>203.0</td>\n",
       "      <td>1.0</td>\n",
       "      <td>2.0</td>\n",
       "      <td>155.0</td>\n",
       "      <td>1.0</td>\n",
       "      <td>3.1</td>\n",
       "      <td>3.0</td>\n",
       "      <td>0.0</td>\n",
       "      <td>7.0</td>\n",
       "      <td>1</td>\n",
       "    </tr>\n",
       "  </tbody>\n",
       "</table>\n",
       "</div>"
      ],
      "text/plain": [
       "    age  sex  chest_pain    ...      vessels  thal  diagnosis\n",
       "1  67.0  1.0         4.0    ...          3.0   3.0          2\n",
       "2  67.0  1.0         4.0    ...          2.0   7.0          1\n",
       "6  62.0  0.0         4.0    ...          2.0   3.0          3\n",
       "8  63.0  1.0         4.0    ...          1.0   7.0          2\n",
       "9  53.0  1.0         4.0    ...          0.0   7.0          1\n",
       "\n",
       "[5 rows x 14 columns]"
      ]
     },
     "execution_count": 14,
     "metadata": {},
     "output_type": "execute_result"
    }
   ],
   "source": [
    "# we can compare the types of heart disease by using values of each feature separately \n",
    "\n",
    "heart_d = heart[heart[\"diagnosis\"] >= 1 ]\n",
    "heart_d[:5]"
   ]
  },
  {
   "cell_type": "markdown",
   "metadata": {},
   "source": [
    "### 5.3 Let's find the ranges of each feature by disease type "
   ]
  },
  {
   "cell_type": "markdown",
   "metadata": {},
   "source": [
    "#### 5.3.1 Age"
   ]
  },
  {
   "cell_type": "code",
   "execution_count": 15,
   "metadata": {},
   "outputs": [
    {
     "name": "stdout",
     "output_type": "stream",
     "text": [
      "Minimum age to Maximum age per disease type\n"
     ]
    },
    {
     "data": {
      "text/plain": [
       "diagnosis\n",
       "1    35.0, 70.0\n",
       "2    42.0, 69.0\n",
       "3    39.0, 70.0\n",
       "4    38.0, 77.0\n",
       "Name: age, dtype: object"
      ]
     },
     "execution_count": 15,
     "metadata": {},
     "output_type": "execute_result"
    }
   ],
   "source": [
    "print (\"Minimum age to Maximum age per disease type\")\n",
    "\n",
    "heart_d.groupby([\"diagnosis\", ])[\"age\"].min().astype(str) + ', ' +  heart_d.groupby([\"diagnosis\", ])[\"age\"].max().astype(str)"
   ]
  },
  {
   "cell_type": "code",
   "execution_count": 16,
   "metadata": {},
   "outputs": [
    {
     "name": "stdout",
     "output_type": "stream",
     "text": [
      "Mean age per disease type\n"
     ]
    },
    {
     "data": {
      "text/plain": [
       "diagnosis\n",
       "1    55.381818\n",
       "2    58.027778\n",
       "3    56.000000\n",
       "4    59.692308\n",
       "Name: age, dtype: float64"
      ]
     },
     "execution_count": 16,
     "metadata": {},
     "output_type": "execute_result"
    }
   ],
   "source": [
    "print (\"Mean age per disease type\")\n",
    "heart_d.groupby([\"diagnosis\", ])[\"age\"].mean()"
   ]
  },
  {
   "cell_type": "markdown",
   "metadata": {},
   "source": [
    "#### We can see that heart disease with type 3 can be present in lower age then type 2"
   ]
  },
  {
   "cell_type": "markdown",
   "metadata": {},
   "source": [
    "#### 5.3.2 Sex"
   ]
  },
  {
   "cell_type": "code",
   "execution_count": 17,
   "metadata": {},
   "outputs": [
    {
     "name": "stdout",
     "output_type": "stream",
     "text": [
      "Count each sex per heart disease type\n"
     ]
    },
    {
     "data": {
      "text/plain": [
       "diagnosis  sex\n",
       "1          0.0     9\n",
       "           1.0    46\n",
       "2          0.0     7\n",
       "           1.0    29\n",
       "3          0.0     7\n",
       "           1.0    28\n",
       "4          0.0     2\n",
       "           1.0    11\n",
       "Name: age, dtype: int64"
      ]
     },
     "execution_count": 17,
     "metadata": {},
     "output_type": "execute_result"
    }
   ],
   "source": [
    "print (\"Count each sex per heart disease type\")\n",
    "heart_d.groupby([\"diagnosis\", \"sex\"])[\"age\"].count()"
   ]
  },
  {
   "cell_type": "markdown",
   "metadata": {},
   "source": [
    "#### We can see that heart disease all types can be present in men with higher probability than in women"
   ]
  },
  {
   "cell_type": "markdown",
   "metadata": {},
   "source": [
    "#### 5.3.3 chest_pain"
   ]
  },
  {
   "cell_type": "code",
   "execution_count": 18,
   "metadata": {},
   "outputs": [
    {
     "name": "stdout",
     "output_type": "stream",
     "text": [
      "Count each chest pain value per heart disease type\n"
     ]
    },
    {
     "data": {
      "text/plain": [
       "diagnosis  chest_pain\n",
       "1          1.0            5\n",
       "           2.0            6\n",
       "           3.0            9\n",
       "           4.0           35\n",
       "2          1.0            1\n",
       "           2.0            1\n",
       "           3.0            4\n",
       "           4.0           30\n",
       "3          2.0            2\n",
       "           3.0            4\n",
       "           4.0           29\n",
       "4          1.0            1\n",
       "           3.0            1\n",
       "           4.0           11\n",
       "Name: age, dtype: int64"
      ]
     },
     "execution_count": 18,
     "metadata": {},
     "output_type": "execute_result"
    }
   ],
   "source": [
    "print (\"Count each chest pain value per heart disease type\")\n",
    "heart_d.groupby([\"diagnosis\", \"chest_pain\"])[\"age\"].count()"
   ]
  },
  {
   "cell_type": "markdown",
   "metadata": {},
   "source": [
    "#### The people with chest pain = 4 often have heart disease.  "
   ]
  },
  {
   "cell_type": "markdown",
   "metadata": {},
   "source": [
    "#### 5.3.4 blood pressure"
   ]
  },
  {
   "cell_type": "code",
   "execution_count": 19,
   "metadata": {},
   "outputs": [
    {
     "name": "stdout",
     "output_type": "stream",
     "text": [
      "Minimum blood pressure to Maximum  blood pressure per disease type\n"
     ]
    },
    {
     "data": {
      "text/plain": [
       "diagnosis\n",
       "1    108.0, 192.0\n",
       "2    100.0, 180.0\n",
       "3    100.0, 200.0\n",
       "4    112.0, 165.0\n",
       "Name: blood pressure, dtype: object"
      ]
     },
     "execution_count": 19,
     "metadata": {},
     "output_type": "execute_result"
    }
   ],
   "source": [
    "print (\"Minimum blood pressure to Maximum  blood pressure per disease type\")\n",
    "\n",
    "heart_d.groupby([\"diagnosis\"])[\"blood pressure\"].min().astype(str) + ', ' +  heart_d.groupby([\"diagnosis\"])[\"blood pressure\"].max().astype(str)"
   ]
  },
  {
   "cell_type": "code",
   "execution_count": 20,
   "metadata": {},
   "outputs": [
    {
     "name": "stdout",
     "output_type": "stream",
     "text": [
      "Mean blood pressure per disease type\n"
     ]
    },
    {
     "data": {
      "text/plain": [
       "diagnosis\n",
       "1    133.254545\n",
       "2    134.194444\n",
       "3    135.457143\n",
       "4    138.769231\n",
       "Name: blood pressure, dtype: float64"
      ]
     },
     "execution_count": 20,
     "metadata": {},
     "output_type": "execute_result"
    }
   ],
   "source": [
    "print (\"Mean blood pressure per disease type\")\n",
    "heart_d.groupby([\"diagnosis\", ])[\"blood pressure\"].mean()"
   ]
  },
  {
   "cell_type": "markdown",
   "metadata": {},
   "source": [
    "#### As bigger is mean blood pressure as higher is type of heart disease"
   ]
  },
  {
   "cell_type": "markdown",
   "metadata": {},
   "source": [
    "#### 5.3.5 serum_cholestoral"
   ]
  },
  {
   "cell_type": "code",
   "execution_count": 21,
   "metadata": {},
   "outputs": [
    {
     "name": "stdout",
     "output_type": "stream",
     "text": [
      "Minimum serum_cholestoral to Maximum serum_cholestoral per disease type\n"
     ]
    },
    {
     "data": {
      "text/plain": [
       "diagnosis\n",
       "1    149.0, 335.0\n",
       "2    169.0, 409.0\n",
       "3    131.0, 353.0\n",
       "4    166.0, 407.0\n",
       "Name: serum_cholestoral, dtype: object"
      ]
     },
     "execution_count": 21,
     "metadata": {},
     "output_type": "execute_result"
    }
   ],
   "source": [
    "print (\"Minimum serum_cholestoral to Maximum serum_cholestoral per disease type\")\n",
    "heart_d.groupby([\"diagnosis\"])[\"serum_cholestoral\"].min().astype(str) + ', ' +  heart_d.groupby([\"diagnosis\"])[\"serum_cholestoral\"].max().astype(str)"
   ]
  },
  {
   "cell_type": "code",
   "execution_count": 22,
   "metadata": {},
   "outputs": [
    {
     "name": "stdout",
     "output_type": "stream",
     "text": [
      "Mean serum_cholestoral per disease type\n"
     ]
    },
    {
     "data": {
      "text/plain": [
       "diagnosis\n",
       "1    249.109091\n",
       "2    259.277778\n",
       "3    246.457143\n",
       "4    253.384615\n",
       "Name: serum_cholestoral, dtype: float64"
      ]
     },
     "execution_count": 22,
     "metadata": {},
     "output_type": "execute_result"
    }
   ],
   "source": [
    "print (\"Mean serum_cholestoral per disease type\")\n",
    "heart_d.groupby([\"diagnosis\", ])[\"serum_cholestoral\"].mean()"
   ]
  },
  {
   "cell_type": "markdown",
   "metadata": {},
   "source": [
    "#### 5.3.6 fasting_blood_sugar"
   ]
  },
  {
   "cell_type": "code",
   "execution_count": 23,
   "metadata": {},
   "outputs": [
    {
     "name": "stdout",
     "output_type": "stream",
     "text": [
      "Count each fasting_blood_sugar per heart disease type\n"
     ]
    },
    {
     "data": {
      "text/plain": [
       "diagnosis  fasting_blood_sugar\n",
       "1          0.0                    51\n",
       "           1.0                     4\n",
       "2          0.0                    27\n",
       "           1.0                     9\n",
       "3          0.0                    27\n",
       "           1.0                     8\n",
       "4          0.0                    12\n",
       "           1.0                     1\n",
       "Name: age, dtype: int64"
      ]
     },
     "execution_count": 23,
     "metadata": {},
     "output_type": "execute_result"
    }
   ],
   "source": [
    "print (\"Count each fasting_blood_sugar per heart disease type\")\n",
    "heart_d.groupby([\"diagnosis\", \"fasting_blood_sugar\"])[\"age\"].count()"
   ]
  },
  {
   "cell_type": "markdown",
   "metadata": {},
   "source": [
    "#### 5.3.7 electrocardiographic results"
   ]
  },
  {
   "cell_type": "code",
   "execution_count": 24,
   "metadata": {},
   "outputs": [
    {
     "name": "stdout",
     "output_type": "stream",
     "text": [
      "Count each electrocardiographic per heart disease type\n"
     ]
    },
    {
     "data": {
      "text/plain": [
       "diagnosis  electrocardiographic\n",
       "1          0.0                     23\n",
       "           2.0                     32\n",
       "2          0.0                     19\n",
       "           1.0                      1\n",
       "           2.0                     16\n",
       "3          0.0                     12\n",
       "           1.0                      1\n",
       "           2.0                     22\n",
       "4          0.0                      2\n",
       "           1.0                      1\n",
       "           2.0                     10\n",
       "Name: age, dtype: int64"
      ]
     },
     "execution_count": 24,
     "metadata": {},
     "output_type": "execute_result"
    }
   ],
   "source": [
    "print (\"Count each electrocardiographic per heart disease type\")\n",
    "heart_d.groupby([\"diagnosis\", \"electrocardiographic\"])[\"age\"].count()"
   ]
  },
  {
   "cell_type": "markdown",
   "metadata": {},
   "source": [
    "#### 5.3.8 max_heart_rate"
   ]
  },
  {
   "cell_type": "code",
   "execution_count": 25,
   "metadata": {},
   "outputs": [
    {
     "name": "stdout",
     "output_type": "stream",
     "text": [
      "Minimum max_heart_rate to Maximum max_heart_rate per disease type\n"
     ]
    },
    {
     "data": {
      "text/plain": [
       "diagnosis\n",
       "1     88.0, 195.0\n",
       "2     71.0, 170.0\n",
       "3     90.0, 173.0\n",
       "4    114.0, 182.0\n",
       "Name: max_heart_rate, dtype: object"
      ]
     },
     "execution_count": 25,
     "metadata": {},
     "output_type": "execute_result"
    }
   ],
   "source": [
    "print (\"Minimum max_heart_rate to Maximum max_heart_rate per disease type\")\n",
    "\n",
    "heart_d.groupby([\"diagnosis\"])[\"max_heart_rate\"].min().astype(str) + ', ' +  heart_d.groupby([\"diagnosis\"])[\"max_heart_rate\"].max().astype(str)"
   ]
  },
  {
   "cell_type": "code",
   "execution_count": 26,
   "metadata": {},
   "outputs": [
    {
     "name": "stdout",
     "output_type": "stream",
     "text": [
      "Mean max_heart_rate per disease type\n"
     ]
    },
    {
     "data": {
      "text/plain": [
       "diagnosis\n",
       "1    145.927273\n",
       "2    135.583333\n",
       "3    132.057143\n",
       "4    140.615385\n",
       "Name: max_heart_rate, dtype: float64"
      ]
     },
     "execution_count": 26,
     "metadata": {},
     "output_type": "execute_result"
    }
   ],
   "source": [
    "print (\"Mean max_heart_rate per disease type\")\n",
    "heart_d.groupby([\"diagnosis\", ])[\"max_heart_rate\"].mean()"
   ]
  },
  {
   "cell_type": "markdown",
   "metadata": {},
   "source": [
    "#### 5.3.9 induced_angina"
   ]
  },
  {
   "cell_type": "code",
   "execution_count": 27,
   "metadata": {},
   "outputs": [
    {
     "name": "stdout",
     "output_type": "stream",
     "text": [
      "Count  induced_angina per heart disease type\n"
     ]
    },
    {
     "data": {
      "text/plain": [
       "diagnosis  induced_angina\n",
       "1          0.0               30\n",
       "           1.0               25\n",
       "2          0.0               14\n",
       "           1.0               22\n",
       "3          0.0               12\n",
       "           1.0               23\n",
       "4          0.0                7\n",
       "           1.0                6\n",
       "Name: age, dtype: int64"
      ]
     },
     "execution_count": 27,
     "metadata": {},
     "output_type": "execute_result"
    }
   ],
   "source": [
    "print (\"Count  induced_angina per heart disease type\")\n",
    "heart_d.groupby([\"diagnosis\", \"induced_angina\"])[\"age\"].count()"
   ]
  },
  {
   "cell_type": "markdown",
   "metadata": {},
   "source": [
    "#### 5.3.10 ST_depression"
   ]
  },
  {
   "cell_type": "code",
   "execution_count": 28,
   "metadata": {},
   "outputs": [
    {
     "name": "stdout",
     "output_type": "stream",
     "text": [
      "Count  mean ST_depression per heart disease type\n"
     ]
    },
    {
     "data": {
      "text/plain": [
       "diagnosis\n",
       "1    1.005455\n",
       "2    1.780556\n",
       "3    1.962857\n",
       "4    2.361538\n",
       "Name: ST_depression, dtype: float64"
      ]
     },
     "execution_count": 28,
     "metadata": {},
     "output_type": "execute_result"
    }
   ],
   "source": [
    "print (\"Count  mean ST_depression per heart disease type\")\n",
    "heart_d.groupby([\"diagnosis\"])[\"ST_depression\"].mean()"
   ]
  },
  {
   "cell_type": "code",
   "execution_count": 29,
   "metadata": {},
   "outputs": [
    {
     "data": {
      "text/html": [
       "<div>\n",
       "<style scoped>\n",
       "    .dataframe tbody tr th:only-of-type {\n",
       "        vertical-align: middle;\n",
       "    }\n",
       "\n",
       "    .dataframe tbody tr th {\n",
       "        vertical-align: top;\n",
       "    }\n",
       "\n",
       "    .dataframe thead th {\n",
       "        text-align: right;\n",
       "    }\n",
       "</style>\n",
       "<table border=\"1\" class=\"dataframe\">\n",
       "  <thead>\n",
       "    <tr style=\"text-align: right;\">\n",
       "      <th></th>\n",
       "      <th>age</th>\n",
       "      <th>sex</th>\n",
       "      <th>chest_pain</th>\n",
       "      <th>blood pressure</th>\n",
       "      <th>serum_cholestoral</th>\n",
       "      <th>fasting_blood_sugar</th>\n",
       "      <th>electrocardiographic</th>\n",
       "      <th>max_heart_rate</th>\n",
       "      <th>induced_angina</th>\n",
       "      <th>ST_depression</th>\n",
       "      <th>slope</th>\n",
       "      <th>vessels</th>\n",
       "      <th>thal</th>\n",
       "      <th>diagnosis</th>\n",
       "    </tr>\n",
       "  </thead>\n",
       "  <tbody>\n",
       "    <tr>\n",
       "      <th>1</th>\n",
       "      <td>67.0</td>\n",
       "      <td>1.0</td>\n",
       "      <td>4.0</td>\n",
       "      <td>160.0</td>\n",
       "      <td>286.0</td>\n",
       "      <td>0.0</td>\n",
       "      <td>2.0</td>\n",
       "      <td>108.0</td>\n",
       "      <td>1.0</td>\n",
       "      <td>1.5</td>\n",
       "      <td>2.0</td>\n",
       "      <td>3.0</td>\n",
       "      <td>3.0</td>\n",
       "      <td>2</td>\n",
       "    </tr>\n",
       "    <tr>\n",
       "      <th>2</th>\n",
       "      <td>67.0</td>\n",
       "      <td>1.0</td>\n",
       "      <td>4.0</td>\n",
       "      <td>120.0</td>\n",
       "      <td>229.0</td>\n",
       "      <td>0.0</td>\n",
       "      <td>2.0</td>\n",
       "      <td>129.0</td>\n",
       "      <td>1.0</td>\n",
       "      <td>2.6</td>\n",
       "      <td>2.0</td>\n",
       "      <td>2.0</td>\n",
       "      <td>7.0</td>\n",
       "      <td>1</td>\n",
       "    </tr>\n",
       "  </tbody>\n",
       "</table>\n",
       "</div>"
      ],
      "text/plain": [
       "    age  sex  chest_pain    ...      vessels  thal  diagnosis\n",
       "1  67.0  1.0         4.0    ...          3.0   3.0          2\n",
       "2  67.0  1.0         4.0    ...          2.0   7.0          1\n",
       "\n",
       "[2 rows x 14 columns]"
      ]
     },
     "execution_count": 29,
     "metadata": {},
     "output_type": "execute_result"
    }
   ],
   "source": [
    "heart_d[:2]"
   ]
  },
  {
   "cell_type": "markdown",
   "metadata": {},
   "source": [
    "#### 5.3.11 slope"
   ]
  },
  {
   "cell_type": "code",
   "execution_count": 30,
   "metadata": {},
   "outputs": [
    {
     "name": "stdout",
     "output_type": "stream",
     "text": [
      "Count slope per heart disease type\n"
     ]
    },
    {
     "data": {
      "text/plain": [
       "diagnosis  slope\n",
       "1          1.0      22\n",
       "           2.0      31\n",
       "           3.0       2\n",
       "2          1.0       7\n",
       "           2.0      26\n",
       "           3.0       3\n",
       "3          1.0       6\n",
       "           2.0      24\n",
       "           3.0       5\n",
       "4          1.0       1\n",
       "           2.0      10\n",
       "           3.0       2\n",
       "Name: age, dtype: int64"
      ]
     },
     "execution_count": 30,
     "metadata": {},
     "output_type": "execute_result"
    }
   ],
   "source": [
    "print (\"Count slope per heart disease type\")\n",
    "heart_d.groupby([\"diagnosis\", \"slope\"])[\"age\"].count()"
   ]
  },
  {
   "cell_type": "markdown",
   "metadata": {},
   "source": [
    "#### 5.3.12 vessels"
   ]
  },
  {
   "cell_type": "code",
   "execution_count": 31,
   "metadata": {},
   "outputs": [
    {
     "name": "stdout",
     "output_type": "stream",
     "text": [
      "Count  mean vessels per heart disease type\n"
     ]
    },
    {
     "data": {
      "text/plain": [
       "diagnosis\n",
       "1    0.739495\n",
       "2    1.222222\n",
       "3    1.457143\n",
       "4    1.692308\n",
       "Name: vessels, dtype: float64"
      ]
     },
     "execution_count": 31,
     "metadata": {},
     "output_type": "execute_result"
    }
   ],
   "source": [
    "print (\"Count  mean vessels per heart disease type\")\n",
    "heart_d.groupby([\"diagnosis\"])[\"vessels\"].mean()"
   ]
  },
  {
   "cell_type": "markdown",
   "metadata": {},
   "source": [
    "#### 5.3.13 thal"
   ]
  },
  {
   "cell_type": "code",
   "execution_count": 32,
   "metadata": {},
   "outputs": [
    {
     "name": "stdout",
     "output_type": "stream",
     "text": [
      "Count  mean thal per heart disease type\n"
     ]
    },
    {
     "data": {
      "text/plain": [
       "diagnosis\n",
       "1    5.345455\n",
       "2    5.992617\n",
       "3    6.285714\n",
       "4    6.230769\n",
       "Name: thal, dtype: float64"
      ]
     },
     "execution_count": 32,
     "metadata": {},
     "output_type": "execute_result"
    }
   ],
   "source": [
    "print (\"Count  mean thal per heart disease type\")\n",
    "heart_d.groupby([\"diagnosis\"])[\"thal\"].mean()"
   ]
  },
  {
   "cell_type": "code",
   "execution_count": 33,
   "metadata": {},
   "outputs": [
    {
     "data": {
      "text/plain": [
       "array([[<matplotlib.axes._subplots.AxesSubplot object at 0x7f831787b940>,\n",
       "        <matplotlib.axes._subplots.AxesSubplot object at 0x7f830f5abe80>,\n",
       "        <matplotlib.axes._subplots.AxesSubplot object at 0x7f830f55f2b0>,\n",
       "        <matplotlib.axes._subplots.AxesSubplot object at 0x7f830f5877f0>],\n",
       "       [<matplotlib.axes._subplots.AxesSubplot object at 0x7f830f52fd30>,\n",
       "        <matplotlib.axes._subplots.AxesSubplot object at 0x7f830f4dd2e8>,\n",
       "        <matplotlib.axes._subplots.AxesSubplot object at 0x7f830f505828>,\n",
       "        <matplotlib.axes._subplots.AxesSubplot object at 0x7f830f4afdd8>],\n",
       "       [<matplotlib.axes._subplots.AxesSubplot object at 0x7f830f4afe10>,\n",
       "        <matplotlib.axes._subplots.AxesSubplot object at 0x7f830f485898>,\n",
       "        <matplotlib.axes._subplots.AxesSubplot object at 0x7f830f42de10>,\n",
       "        <matplotlib.axes._subplots.AxesSubplot object at 0x7f830f3dc3c8>],\n",
       "       [<matplotlib.axes._subplots.AxesSubplot object at 0x7f830f403940>,\n",
       "        <matplotlib.axes._subplots.AxesSubplot object at 0x7f830f3aceb8>,\n",
       "        <matplotlib.axes._subplots.AxesSubplot object at 0x7f830f35c400>,\n",
       "        <matplotlib.axes._subplots.AxesSubplot object at 0x7f830f382940>]],\n",
       "      dtype=object)"
      ]
     },
     "execution_count": 33,
     "metadata": {},
     "output_type": "execute_result"
    },
    {
     "data": {
      "image/png": "[encoded data removed]",
      "text/plain": [
       "<Figure size 864x864 with 16 Axes>"
      ]
     },
     "metadata": {},
     "output_type": "display_data"
    }
   ],
   "source": [
    "heart.hist(figsize=(12,12))"
   ]
  },
  {
   "cell_type": "code",
   "execution_count": 34,
   "metadata": {},
   "outputs": [
    {
     "data": {
      "text/plain": [
       "age                         AxesSubplot(0.125,0.71587;0.168478x0.16413)\n",
       "sex                      AxesSubplot(0.327174,0.71587;0.168478x0.16413)\n",
       "chest_pain               AxesSubplot(0.529348,0.71587;0.168478x0.16413)\n",
       "blood pressure           AxesSubplot(0.731522,0.71587;0.168478x0.16413)\n",
       "serum_cholestoral          AxesSubplot(0.125,0.518913;0.168478x0.16413)\n",
       "fasting_blood_sugar     AxesSubplot(0.327174,0.518913;0.168478x0.16413)\n",
       "electrocardiographic    AxesSubplot(0.529348,0.518913;0.168478x0.16413)\n",
       "max_heart_rate          AxesSubplot(0.731522,0.518913;0.168478x0.16413)\n",
       "induced_angina             AxesSubplot(0.125,0.321957;0.168478x0.16413)\n",
       "ST_depression           AxesSubplot(0.327174,0.321957;0.168478x0.16413)\n",
       "slope                   AxesSubplot(0.529348,0.321957;0.168478x0.16413)\n",
       "vessels                 AxesSubplot(0.731522,0.321957;0.168478x0.16413)\n",
       "thal                          AxesSubplot(0.125,0.125;0.168478x0.16413)\n",
       "diagnosis                  AxesSubplot(0.327174,0.125;0.168478x0.16413)\n",
       "dtype: object"
      ]
     },
     "execution_count": 34,
     "metadata": {},
     "output_type": "execute_result"
    },
    {
     "data": {
      "image/png": "[encoded data removed]",
      "text/plain": [
       "<Figure size 1296x1296 with 16 Axes>"
      ]
     },
     "metadata": {},
     "output_type": "display_data"
    }
   ],
   "source": [
    "heart.plot(kind='box',subplots=True,layout=(4,4),sharex=False,sharey=False,figsize=(18,18))"
   ]
  },
  {
   "cell_type": "markdown",
   "metadata": {},
   "source": [
    "## 6 Data preprocessing"
   ]
  },
  {
   "cell_type": "markdown",
   "metadata": {},
   "source": [
    "### 6.1 map dependent variable y = \"diagnosis\" into binary label"
   ]
  },
  {
   "cell_type": "code",
   "execution_count": 35,
   "metadata": {},
   "outputs": [],
   "source": [
    "# if \"diagnosis\" == 0, member does not have disease A - we put 0\n",
    "# if \"diagnosis\" >= 1, member possess the disease A - we put 1\n",
    "heart.loc[:, \"diag_int\"] = heart.loc[:, \"diagnosis\"].apply(lambda x: 1 if x >= 1 else 0)"
   ]
  },
  {
   "cell_type": "markdown",
   "metadata": {},
   "source": [
    "### 6.2 normalize the data"
   ]
  },
  {
   "cell_type": "code",
   "execution_count": 36,
   "metadata": {},
   "outputs": [
    {
     "data": {
      "text/plain": [
       "array([[0.19741527, 0.00313358, 0.00313358, ..., 0.01880145, 0.        ,\n",
       "        0.        ],\n",
       "       [0.19057465, 0.0028444 , 0.01137759, ..., 0.00853319, 0.0056888 ,\n",
       "        0.0028444 ],\n",
       "       [0.22578159, 0.00336987, 0.0134795 , ..., 0.02358912, 0.00336987,\n",
       "        0.00336987],\n",
       "       ...,\n",
       "       [0.25334975, 0.00444473, 0.01777893, ..., 0.03111313, 0.0133342 ,\n",
       "        0.00444473],\n",
       "       [0.17495449, 0.        , 0.00613875, ..., 0.00920813, 0.00306938,\n",
       "        0.00306938],\n",
       "       [0.13346695, 0.00351229, 0.01053686, ..., 0.01053686, 0.        ,\n",
       "        0.        ]])"
      ]
     },
     "execution_count": 36,
     "metadata": {},
     "output_type": "execute_result"
    }
   ],
   "source": [
    "# create the normalizer and fit it \n",
    "preprocessing.Normalizer().fit_transform(heart)"
   ]
  },
  {
   "cell_type": "markdown",
   "metadata": {},
   "source": [
    "## 7  Constructing the sample set"
   ]
  },
  {
   "cell_type": "code",
   "execution_count": 37,
   "metadata": {},
   "outputs": [],
   "source": [
    "# split dataset into train and test\n",
    "heart_train, heart_test, goal_train, goal_test = model_selection.train_test_split(heart.loc[:,'age':'thal'], \\\n",
    "                                                 heart.loc[:,'diag_int'], test_size=0.33, random_state=0) "
   ]
  },
  {
   "cell_type": "markdown",
   "metadata": {},
   "source": [
    "## 8 Attribute sets decomposing"
   ]
  },
  {
   "cell_type": "code",
   "execution_count": 38,
   "metadata": {},
   "outputs": [
    {
     "data": {
      "text/html": [
       "<div>\n",
       "<style scoped>\n",
       "    .dataframe tbody tr th:only-of-type {\n",
       "        vertical-align: middle;\n",
       "    }\n",
       "\n",
       "    .dataframe tbody tr th {\n",
       "        vertical-align: top;\n",
       "    }\n",
       "\n",
       "    .dataframe thead th {\n",
       "        text-align: right;\n",
       "    }\n",
       "</style>\n",
       "<table border=\"1\" class=\"dataframe\">\n",
       "  <thead>\n",
       "    <tr style=\"text-align: right;\">\n",
       "      <th></th>\n",
       "      <th>age</th>\n",
       "      <th>sex</th>\n",
       "      <th>chest_pain</th>\n",
       "      <th>blood pressure</th>\n",
       "      <th>serum_cholestoral</th>\n",
       "      <th>fasting_blood_sugar</th>\n",
       "      <th>electrocardiographic</th>\n",
       "      <th>max_heart_rate</th>\n",
       "      <th>induced_angina</th>\n",
       "      <th>ST_depression</th>\n",
       "      <th>slope</th>\n",
       "      <th>vessels</th>\n",
       "      <th>thal</th>\n",
       "      <th>diagnosis</th>\n",
       "      <th>diag_int</th>\n",
       "    </tr>\n",
       "  </thead>\n",
       "  <tbody>\n",
       "    <tr>\n",
       "      <th>age</th>\n",
       "      <td>1.000000</td>\n",
       "      <td>-0.097542</td>\n",
       "      <td>0.104139</td>\n",
       "      <td>0.284946</td>\n",
       "      <td>0.208950</td>\n",
       "      <td>0.118530</td>\n",
       "      <td>0.148868</td>\n",
       "      <td>-0.393806</td>\n",
       "      <td>0.091661</td>\n",
       "      <td>0.203805</td>\n",
       "      <td>0.161770</td>\n",
       "      <td>0.359489</td>\n",
       "      <td>0.127368</td>\n",
       "      <td>0.222853</td>\n",
       "      <td>0.223120</td>\n",
       "    </tr>\n",
       "    <tr>\n",
       "      <th>sex</th>\n",
       "      <td>-0.097542</td>\n",
       "      <td>1.000000</td>\n",
       "      <td>0.010084</td>\n",
       "      <td>-0.064456</td>\n",
       "      <td>-0.199915</td>\n",
       "      <td>0.047862</td>\n",
       "      <td>0.021647</td>\n",
       "      <td>-0.048663</td>\n",
       "      <td>0.146201</td>\n",
       "      <td>0.102173</td>\n",
       "      <td>0.037533</td>\n",
       "      <td>0.092891</td>\n",
       "      <td>0.379300</td>\n",
       "      <td>0.224469</td>\n",
       "      <td>0.276816</td>\n",
       "    </tr>\n",
       "    <tr>\n",
       "      <th>chest_pain</th>\n",
       "      <td>0.104139</td>\n",
       "      <td>0.010084</td>\n",
       "      <td>1.000000</td>\n",
       "      <td>-0.036077</td>\n",
       "      <td>0.072319</td>\n",
       "      <td>-0.039975</td>\n",
       "      <td>0.067505</td>\n",
       "      <td>-0.334422</td>\n",
       "      <td>0.384060</td>\n",
       "      <td>0.202277</td>\n",
       "      <td>0.152050</td>\n",
       "      <td>0.232332</td>\n",
       "      <td>0.264895</td>\n",
       "      <td>0.407075</td>\n",
       "      <td>0.414446</td>\n",
       "    </tr>\n",
       "    <tr>\n",
       "      <th>blood pressure</th>\n",
       "      <td>0.284946</td>\n",
       "      <td>-0.064456</td>\n",
       "      <td>-0.036077</td>\n",
       "      <td>1.000000</td>\n",
       "      <td>0.130120</td>\n",
       "      <td>0.175340</td>\n",
       "      <td>0.146560</td>\n",
       "      <td>-0.045351</td>\n",
       "      <td>0.064762</td>\n",
       "      <td>0.189171</td>\n",
       "      <td>0.117382</td>\n",
       "      <td>0.098707</td>\n",
       "      <td>0.133534</td>\n",
       "      <td>0.157754</td>\n",
       "      <td>0.150825</td>\n",
       "    </tr>\n",
       "    <tr>\n",
       "      <th>serum_cholestoral</th>\n",
       "      <td>0.208950</td>\n",
       "      <td>-0.199915</td>\n",
       "      <td>0.072319</td>\n",
       "      <td>0.130120</td>\n",
       "      <td>1.000000</td>\n",
       "      <td>0.009841</td>\n",
       "      <td>0.171043</td>\n",
       "      <td>-0.003432</td>\n",
       "      <td>0.061310</td>\n",
       "      <td>0.046564</td>\n",
       "      <td>-0.004062</td>\n",
       "      <td>0.118525</td>\n",
       "      <td>0.014190</td>\n",
       "      <td>0.070909</td>\n",
       "      <td>0.085164</td>\n",
       "    </tr>\n",
       "    <tr>\n",
       "      <th>fasting_blood_sugar</th>\n",
       "      <td>0.118530</td>\n",
       "      <td>0.047862</td>\n",
       "      <td>-0.039975</td>\n",
       "      <td>0.175340</td>\n",
       "      <td>0.009841</td>\n",
       "      <td>1.000000</td>\n",
       "      <td>0.069564</td>\n",
       "      <td>-0.007854</td>\n",
       "      <td>0.025665</td>\n",
       "      <td>0.005747</td>\n",
       "      <td>0.059894</td>\n",
       "      <td>0.143967</td>\n",
       "      <td>0.070658</td>\n",
       "      <td>0.059186</td>\n",
       "      <td>0.025264</td>\n",
       "    </tr>\n",
       "    <tr>\n",
       "      <th>electrocardiographic</th>\n",
       "      <td>0.148868</td>\n",
       "      <td>0.021647</td>\n",
       "      <td>0.067505</td>\n",
       "      <td>0.146560</td>\n",
       "      <td>0.171043</td>\n",
       "      <td>0.069564</td>\n",
       "      <td>1.000000</td>\n",
       "      <td>-0.083389</td>\n",
       "      <td>0.084867</td>\n",
       "      <td>0.114133</td>\n",
       "      <td>0.133946</td>\n",
       "      <td>0.127487</td>\n",
       "      <td>0.024449</td>\n",
       "      <td>0.183696</td>\n",
       "      <td>0.169202</td>\n",
       "    </tr>\n",
       "    <tr>\n",
       "      <th>max_heart_rate</th>\n",
       "      <td>-0.393806</td>\n",
       "      <td>-0.048663</td>\n",
       "      <td>-0.334422</td>\n",
       "      <td>-0.045351</td>\n",
       "      <td>-0.003432</td>\n",
       "      <td>-0.007854</td>\n",
       "      <td>-0.083389</td>\n",
       "      <td>1.000000</td>\n",
       "      <td>-0.378103</td>\n",
       "      <td>-0.343085</td>\n",
       "      <td>-0.385601</td>\n",
       "      <td>-0.263408</td>\n",
       "      <td>-0.278530</td>\n",
       "      <td>-0.415040</td>\n",
       "      <td>-0.417167</td>\n",
       "    </tr>\n",
       "    <tr>\n",
       "      <th>induced_angina</th>\n",
       "      <td>0.091661</td>\n",
       "      <td>0.146201</td>\n",
       "      <td>0.384060</td>\n",
       "      <td>0.064762</td>\n",
       "      <td>0.061310</td>\n",
       "      <td>0.025665</td>\n",
       "      <td>0.084867</td>\n",
       "      <td>-0.378103</td>\n",
       "      <td>1.000000</td>\n",
       "      <td>0.288223</td>\n",
       "      <td>0.257748</td>\n",
       "      <td>0.144722</td>\n",
       "      <td>0.328291</td>\n",
       "      <td>0.397057</td>\n",
       "      <td>0.431894</td>\n",
       "    </tr>\n",
       "    <tr>\n",
       "      <th>ST_depression</th>\n",
       "      <td>0.203805</td>\n",
       "      <td>0.102173</td>\n",
       "      <td>0.202277</td>\n",
       "      <td>0.189171</td>\n",
       "      <td>0.046564</td>\n",
       "      <td>0.005747</td>\n",
       "      <td>0.114133</td>\n",
       "      <td>-0.343085</td>\n",
       "      <td>0.288223</td>\n",
       "      <td>1.000000</td>\n",
       "      <td>0.577537</td>\n",
       "      <td>0.294558</td>\n",
       "      <td>0.340549</td>\n",
       "      <td>0.504092</td>\n",
       "      <td>0.424510</td>\n",
       "    </tr>\n",
       "    <tr>\n",
       "      <th>slope</th>\n",
       "      <td>0.161770</td>\n",
       "      <td>0.037533</td>\n",
       "      <td>0.152050</td>\n",
       "      <td>0.117382</td>\n",
       "      <td>-0.004062</td>\n",
       "      <td>0.059894</td>\n",
       "      <td>0.133946</td>\n",
       "      <td>-0.385601</td>\n",
       "      <td>0.257748</td>\n",
       "      <td>0.577537</td>\n",
       "      <td>1.000000</td>\n",
       "      <td>0.109618</td>\n",
       "      <td>0.286580</td>\n",
       "      <td>0.377957</td>\n",
       "      <td>0.339213</td>\n",
       "    </tr>\n",
       "    <tr>\n",
       "      <th>vessels</th>\n",
       "      <td>0.359489</td>\n",
       "      <td>0.092891</td>\n",
       "      <td>0.232332</td>\n",
       "      <td>0.098707</td>\n",
       "      <td>0.118525</td>\n",
       "      <td>0.143967</td>\n",
       "      <td>0.127487</td>\n",
       "      <td>-0.263408</td>\n",
       "      <td>0.144722</td>\n",
       "      <td>0.294558</td>\n",
       "      <td>0.109618</td>\n",
       "      <td>1.000000</td>\n",
       "      <td>0.254075</td>\n",
       "      <td>0.517390</td>\n",
       "      <td>0.457598</td>\n",
       "    </tr>\n",
       "    <tr>\n",
       "      <th>thal</th>\n",
       "      <td>0.127368</td>\n",
       "      <td>0.379300</td>\n",
       "      <td>0.264895</td>\n",
       "      <td>0.133534</td>\n",
       "      <td>0.014190</td>\n",
       "      <td>0.070658</td>\n",
       "      <td>0.024449</td>\n",
       "      <td>-0.278530</td>\n",
       "      <td>0.328291</td>\n",
       "      <td>0.340549</td>\n",
       "      <td>0.286580</td>\n",
       "      <td>0.254075</td>\n",
       "      <td>1.000000</td>\n",
       "      <td>0.508799</td>\n",
       "      <td>0.523928</td>\n",
       "    </tr>\n",
       "    <tr>\n",
       "      <th>diagnosis</th>\n",
       "      <td>0.222853</td>\n",
       "      <td>0.224469</td>\n",
       "      <td>0.407075</td>\n",
       "      <td>0.157754</td>\n",
       "      <td>0.070909</td>\n",
       "      <td>0.059186</td>\n",
       "      <td>0.183696</td>\n",
       "      <td>-0.415040</td>\n",
       "      <td>0.397057</td>\n",
       "      <td>0.504092</td>\n",
       "      <td>0.377957</td>\n",
       "      <td>0.517390</td>\n",
       "      <td>0.508799</td>\n",
       "      <td>1.000000</td>\n",
       "      <td>0.830081</td>\n",
       "    </tr>\n",
       "    <tr>\n",
       "      <th>diag_int</th>\n",
       "      <td>0.223120</td>\n",
       "      <td>0.276816</td>\n",
       "      <td>0.414446</td>\n",
       "      <td>0.150825</td>\n",
       "      <td>0.085164</td>\n",
       "      <td>0.025264</td>\n",
       "      <td>0.169202</td>\n",
       "      <td>-0.417167</td>\n",
       "      <td>0.431894</td>\n",
       "      <td>0.424510</td>\n",
       "      <td>0.339213</td>\n",
       "      <td>0.457598</td>\n",
       "      <td>0.523928</td>\n",
       "      <td>0.830081</td>\n",
       "      <td>1.000000</td>\n",
       "    </tr>\n",
       "  </tbody>\n",
       "</table>\n",
       "</div>"
      ],
      "text/plain": [
       "                           age       sex    ...     diagnosis  diag_int\n",
       "age                   1.000000 -0.097542    ...      0.222853  0.223120\n",
       "sex                  -0.097542  1.000000    ...      0.224469  0.276816\n",
       "chest_pain            0.104139  0.010084    ...      0.407075  0.414446\n",
       "blood pressure        0.284946 -0.064456    ...      0.157754  0.150825\n",
       "serum_cholestoral     0.208950 -0.199915    ...      0.070909  0.085164\n",
       "fasting_blood_sugar   0.118530  0.047862    ...      0.059186  0.025264\n",
       "electrocardiographic  0.148868  0.021647    ...      0.183696  0.169202\n",
       "max_heart_rate       -0.393806 -0.048663    ...     -0.415040 -0.417167\n",
       "induced_angina        0.091661  0.146201    ...      0.397057  0.431894\n",
       "ST_depression         0.203805  0.102173    ...      0.504092  0.424510\n",
       "slope                 0.161770  0.037533    ...      0.377957  0.339213\n",
       "vessels               0.359489  0.092891    ...      0.517390  0.457598\n",
       "thal                  0.127368  0.379300    ...      0.508799  0.523928\n",
       "diagnosis             0.222853  0.224469    ...      1.000000  0.830081\n",
       "diag_int              0.223120  0.276816    ...      0.830081  1.000000\n",
       "\n",
       "[15 rows x 15 columns]"
      ]
     },
     "execution_count": 38,
     "metadata": {},
     "output_type": "execute_result"
    }
   ],
   "source": [
    "# calculate the correlation between features\n",
    "\n",
    "corr = heart.corr()\n",
    "heart.corr()"
   ]
  },
  {
   "cell_type": "code",
   "execution_count": 39,
   "metadata": {},
   "outputs": [
    {
     "data": {
      "text/html": [
       "<style  type=\"text/css\" >\n",
       "    #T_17143ff6_659e_11e9_9848_0242ac130002 th {\n",
       "          font-size: 7pt;\n",
       "    }    #T_17143ff6_659e_11e9_9848_0242ac130002 td {\n",
       "          padding: 0em 0em;\n",
       "    }    #T_17143ff6_659e_11e9_9848_0242ac130002 th:hover {\n",
       "          font-size: 12pt;\n",
       "    }    #T_17143ff6_659e_11e9_9848_0242ac130002 tr:hover td:hover {\n",
       "          max-width: 200px;\n",
       "          font-size: 12pt;\n",
       "    }    #T_17143ff6_659e_11e9_9848_0242ac130002row0_col0 {\n",
       "            background-color:  #da3b46;\n",
       "            max-width:  80px;\n",
       "            font-size:  10pt;\n",
       "        }    #T_17143ff6_659e_11e9_9848_0242ac130002row0_col1 {\n",
       "            background-color:  #8faed6;\n",
       "            max-width:  80px;\n",
       "            font-size:  10pt;\n",
       "        }    #T_17143ff6_659e_11e9_9848_0242ac130002row0_col2 {\n",
       "            background-color:  #c1d3e8;\n",
       "            max-width:  80px;\n",
       "            font-size:  10pt;\n",
       "        }    #T_17143ff6_659e_11e9_9848_0242ac130002row0_col3 {\n",
       "            background-color:  #f2f2f2;\n",
       "            max-width:  80px;\n",
       "            font-size:  10pt;\n",
       "        }    #T_17143ff6_659e_11e9_9848_0242ac130002row0_col4 {\n",
       "            background-color:  #dce6f2;\n",
       "            max-width:  80px;\n",
       "            font-size:  10pt;\n",
       "        }    #T_17143ff6_659e_11e9_9848_0242ac130002row0_col5 {\n",
       "            background-color:  #c6d6ea;\n",
       "            max-width:  80px;\n",
       "            font-size:  10pt;\n",
       "        }    #T_17143ff6_659e_11e9_9848_0242ac130002row0_col6 {\n",
       "            background-color:  #cddbed;\n",
       "            max-width:  80px;\n",
       "            font-size:  10pt;\n",
       "        }    #T_17143ff6_659e_11e9_9848_0242ac130002row0_col7 {\n",
       "            background-color:  #4479bb;\n",
       "            max-width:  80px;\n",
       "            font-size:  10pt;\n",
       "        }    #T_17143ff6_659e_11e9_9848_0242ac130002row0_col8 {\n",
       "            background-color:  #bfd1e8;\n",
       "            max-width:  80px;\n",
       "            font-size:  10pt;\n",
       "        }    #T_17143ff6_659e_11e9_9848_0242ac130002row0_col9 {\n",
       "            background-color:  #dae5f2;\n",
       "            max-width:  80px;\n",
       "            font-size:  10pt;\n",
       "        }    #T_17143ff6_659e_11e9_9848_0242ac130002row0_col10 {\n",
       "            background-color:  #d1deee;\n",
       "            max-width:  80px;\n",
       "            font-size:  10pt;\n",
       "        }    #T_17143ff6_659e_11e9_9848_0242ac130002row0_col11 {\n",
       "            background-color:  #fae3e4;\n",
       "            max-width:  80px;\n",
       "            font-size:  10pt;\n",
       "        }    #T_17143ff6_659e_11e9_9848_0242ac130002row0_col12 {\n",
       "            background-color:  #c7d7eb;\n",
       "            max-width:  80px;\n",
       "            font-size:  10pt;\n",
       "        }    #T_17143ff6_659e_11e9_9848_0242ac130002row0_col13 {\n",
       "            background-color:  #e0e9f4;\n",
       "            max-width:  80px;\n",
       "            font-size:  10pt;\n",
       "        }    #T_17143ff6_659e_11e9_9848_0242ac130002row0_col14 {\n",
       "            background-color:  #e0e9f4;\n",
       "            max-width:  80px;\n",
       "            font-size:  10pt;\n",
       "        }    #T_17143ff6_659e_11e9_9848_0242ac130002row1_col0 {\n",
       "            background-color:  #618ec5;\n",
       "            max-width:  80px;\n",
       "            font-size:  10pt;\n",
       "        }    #T_17143ff6_659e_11e9_9848_0242ac130002row1_col1 {\n",
       "            background-color:  #da3b46;\n",
       "            max-width:  80px;\n",
       "            font-size:  10pt;\n",
       "        }    #T_17143ff6_659e_11e9_9848_0242ac130002row1_col2 {\n",
       "            background-color:  #81a4d1;\n",
       "            max-width:  80px;\n",
       "            font-size:  10pt;\n",
       "        }    #T_17143ff6_659e_11e9_9848_0242ac130002row1_col3 {\n",
       "            background-color:  #6a94c9;\n",
       "            max-width:  80px;\n",
       "            font-size:  10pt;\n",
       "        }    #T_17143ff6_659e_11e9_9848_0242ac130002row1_col4 {\n",
       "            background-color:  #4479bb;\n",
       "            max-width:  80px;\n",
       "            font-size:  10pt;\n",
       "        }    #T_17143ff6_659e_11e9_9848_0242ac130002row1_col5 {\n",
       "            background-color:  #8cacd5;\n",
       "            max-width:  80px;\n",
       "            font-size:  10pt;\n",
       "        }    #T_17143ff6_659e_11e9_9848_0242ac130002row1_col6 {\n",
       "            background-color:  #85a7d2;\n",
       "            max-width:  80px;\n",
       "            font-size:  10pt;\n",
       "        }    #T_17143ff6_659e_11e9_9848_0242ac130002row1_col7 {\n",
       "            background-color:  #7099cb;\n",
       "            max-width:  80px;\n",
       "            font-size:  10pt;\n",
       "        }    #T_17143ff6_659e_11e9_9848_0242ac130002row1_col8 {\n",
       "            background-color:  #a9c1e0;\n",
       "            max-width:  80px;\n",
       "            font-size:  10pt;\n",
       "        }    #T_17143ff6_659e_11e9_9848_0242ac130002row1_col9 {\n",
       "            background-color:  #9cb8db;\n",
       "            max-width:  80px;\n",
       "            font-size:  10pt;\n",
       "        }    #T_17143ff6_659e_11e9_9848_0242ac130002row1_col10 {\n",
       "            background-color:  #89aad4;\n",
       "            max-width:  80px;\n",
       "            font-size:  10pt;\n",
       "        }    #T_17143ff6_659e_11e9_9848_0242ac130002row1_col11 {\n",
       "            background-color:  #9ab6da;\n",
       "            max-width:  80px;\n",
       "            font-size:  10pt;\n",
       "        }    #T_17143ff6_659e_11e9_9848_0242ac130002row1_col12 {\n",
       "            background-color:  #f2f2f2;\n",
       "            max-width:  80px;\n",
       "            font-size:  10pt;\n",
       "        }    #T_17143ff6_659e_11e9_9848_0242ac130002row1_col13 {\n",
       "            background-color:  #c0d2e8;\n",
       "            max-width:  80px;\n",
       "            font-size:  10pt;\n",
       "        }    #T_17143ff6_659e_11e9_9848_0242ac130002row1_col14 {\n",
       "            background-color:  #cfddee;\n",
       "            max-width:  80px;\n",
       "            font-size:  10pt;\n",
       "        }    #T_17143ff6_659e_11e9_9848_0242ac130002row2_col0 {\n",
       "            background-color:  #b8cce5;\n",
       "            max-width:  80px;\n",
       "            font-size:  10pt;\n",
       "        }    #T_17143ff6_659e_11e9_9848_0242ac130002row2_col1 {\n",
       "            background-color:  #9fbadc;\n",
       "            max-width:  80px;\n",
       "            font-size:  10pt;\n",
       "        }    #T_17143ff6_659e_11e9_9848_0242ac130002row2_col2 {\n",
       "            background-color:  #da3b46;\n",
       "            max-width:  80px;\n",
       "            font-size:  10pt;\n",
       "        }    #T_17143ff6_659e_11e9_9848_0242ac130002row2_col3 {\n",
       "            background-color:  #92b1d7;\n",
       "            max-width:  80px;\n",
       "            font-size:  10pt;\n",
       "        }    #T_17143ff6_659e_11e9_9848_0242ac130002row2_col4 {\n",
       "            background-color:  #b0c6e2;\n",
       "            max-width:  80px;\n",
       "            font-size:  10pt;\n",
       "        }    #T_17143ff6_659e_11e9_9848_0242ac130002row2_col5 {\n",
       "            background-color:  #91b0d7;\n",
       "            max-width:  80px;\n",
       "            font-size:  10pt;\n",
       "        }    #T_17143ff6_659e_11e9_9848_0242ac130002row2_col6 {\n",
       "            background-color:  #aec5e1;\n",
       "            max-width:  80px;\n",
       "            font-size:  10pt;\n",
       "        }    #T_17143ff6_659e_11e9_9848_0242ac130002row2_col7 {\n",
       "            background-color:  #4479bb;\n",
       "            max-width:  80px;\n",
       "            font-size:  10pt;\n",
       "        }    #T_17143ff6_659e_11e9_9848_0242ac130002row2_col8 {\n",
       "            background-color:  #fae4e6;\n",
       "            max-width:  80px;\n",
       "            font-size:  10pt;\n",
       "        }    #T_17143ff6_659e_11e9_9848_0242ac130002row2_col9 {\n",
       "            background-color:  #d1deee;\n",
       "            max-width:  80px;\n",
       "            font-size:  10pt;\n",
       "        }    #T_17143ff6_659e_11e9_9848_0242ac130002row2_col10 {\n",
       "            background-color:  #c5d5ea;\n",
       "            max-width:  80px;\n",
       "            font-size:  10pt;\n",
       "        }    #T_17143ff6_659e_11e9_9848_0242ac130002row2_col11 {\n",
       "            background-color:  #d9e4f1;\n",
       "            max-width:  80px;\n",
       "            font-size:  10pt;\n",
       "        }    #T_17143ff6_659e_11e9_9848_0242ac130002row2_col12 {\n",
       "            background-color:  #e2eaf4;\n",
       "            max-width:  80px;\n",
       "            font-size:  10pt;\n",
       "        }    #T_17143ff6_659e_11e9_9848_0242ac130002row2_col13 {\n",
       "            background-color:  #f9dddf;\n",
       "            max-width:  80px;\n",
       "            font-size:  10pt;\n",
       "        }    #T_17143ff6_659e_11e9_9848_0242ac130002row2_col14 {\n",
       "            background-color:  #f8dcde;\n",
       "            max-width:  80px;\n",
       "            font-size:  10pt;\n",
       "        }    #T_17143ff6_659e_11e9_9848_0242ac130002row3_col0 {\n",
       "            background-color:  #b8cce5;\n",
       "            max-width:  80px;\n",
       "            font-size:  10pt;\n",
       "        }    #T_17143ff6_659e_11e9_9848_0242ac130002row3_col1 {\n",
       "            background-color:  #4479bb;\n",
       "            max-width:  80px;\n",
       "            font-size:  10pt;\n",
       "        }    #T_17143ff6_659e_11e9_9848_0242ac130002row3_col2 {\n",
       "            background-color:  #4c7ebd;\n",
       "            max-width:  80px;\n",
       "            font-size:  10pt;\n",
       "        }    #T_17143ff6_659e_11e9_9848_0242ac130002row3_col3 {\n",
       "            background-color:  #da3b46;\n",
       "            max-width:  80px;\n",
       "            font-size:  10pt;\n",
       "        }    #T_17143ff6_659e_11e9_9848_0242ac130002row3_col4 {\n",
       "            background-color:  #83a6d2;\n",
       "            max-width:  80px;\n",
       "            font-size:  10pt;\n",
       "        }    #T_17143ff6_659e_11e9_9848_0242ac130002row3_col5 {\n",
       "            background-color:  #92b1d7;\n",
       "            max-width:  80px;\n",
       "            font-size:  10pt;\n",
       "        }    #T_17143ff6_659e_11e9_9848_0242ac130002row3_col6 {\n",
       "            background-color:  #89aad4;\n",
       "            max-width:  80px;\n",
       "            font-size:  10pt;\n",
       "        }    #T_17143ff6_659e_11e9_9848_0242ac130002row3_col7 {\n",
       "            background-color:  #497dbd;\n",
       "            max-width:  80px;\n",
       "            font-size:  10pt;\n",
       "        }    #T_17143ff6_659e_11e9_9848_0242ac130002row3_col8 {\n",
       "            background-color:  #6f98ca;\n",
       "            max-width:  80px;\n",
       "            font-size:  10pt;\n",
       "        }    #T_17143ff6_659e_11e9_9848_0242ac130002row3_col9 {\n",
       "            background-color:  #96b4d9;\n",
       "            max-width:  80px;\n",
       "            font-size:  10pt;\n",
       "        }    #T_17143ff6_659e_11e9_9848_0242ac130002row3_col10 {\n",
       "            background-color:  #7fa3d0;\n",
       "            max-width:  80px;\n",
       "            font-size:  10pt;\n",
       "        }    #T_17143ff6_659e_11e9_9848_0242ac130002row3_col11 {\n",
       "            background-color:  #799fce;\n",
       "            max-width:  80px;\n",
       "            font-size:  10pt;\n",
       "        }    #T_17143ff6_659e_11e9_9848_0242ac130002row3_col12 {\n",
       "            background-color:  #85a7d2;\n",
       "            max-width:  80px;\n",
       "            font-size:  10pt;\n",
       "        }    #T_17143ff6_659e_11e9_9848_0242ac130002row3_col13 {\n",
       "            background-color:  #8dadd5;\n",
       "            max-width:  80px;\n",
       "            font-size:  10pt;\n",
       "        }    #T_17143ff6_659e_11e9_9848_0242ac130002row3_col14 {\n",
       "            background-color:  #8babd4;\n",
       "            max-width:  80px;\n",
       "            font-size:  10pt;\n",
       "        }    #T_17143ff6_659e_11e9_9848_0242ac130002row4_col0 {\n",
       "            background-color:  #bccfe7;\n",
       "            max-width:  80px;\n",
       "            font-size:  10pt;\n",
       "        }    #T_17143ff6_659e_11e9_9848_0242ac130002row4_col1 {\n",
       "            background-color:  #4479bb;\n",
       "            max-width:  80px;\n",
       "            font-size:  10pt;\n",
       "        }    #T_17143ff6_659e_11e9_9848_0242ac130002row4_col2 {\n",
       "            background-color:  #94b2d8;\n",
       "            max-width:  80px;\n",
       "            font-size:  10pt;\n",
       "        }    #T_17143ff6_659e_11e9_9848_0242ac130002row4_col3 {\n",
       "            background-color:  #a4bede;\n",
       "            max-width:  80px;\n",
       "            font-size:  10pt;\n",
       "        }    #T_17143ff6_659e_11e9_9848_0242ac130002row4_col4 {\n",
       "            background-color:  #da3b46;\n",
       "            max-width:  80px;\n",
       "            font-size:  10pt;\n",
       "        }    #T_17143ff6_659e_11e9_9848_0242ac130002row4_col5 {\n",
       "            background-color:  #81a4d1;\n",
       "            max-width:  80px;\n",
       "            font-size:  10pt;\n",
       "        }    #T_17143ff6_659e_11e9_9848_0242ac130002row4_col6 {\n",
       "            background-color:  #b1c7e2;\n",
       "            max-width:  80px;\n",
       "            font-size:  10pt;\n",
       "        }    #T_17143ff6_659e_11e9_9848_0242ac130002row4_col7 {\n",
       "            background-color:  #7da2cf;\n",
       "            max-width:  80px;\n",
       "            font-size:  10pt;\n",
       "        }    #T_17143ff6_659e_11e9_9848_0242ac130002row4_col8 {\n",
       "            background-color:  #90afd6;\n",
       "            max-width:  80px;\n",
       "            font-size:  10pt;\n",
       "        }    #T_17143ff6_659e_11e9_9848_0242ac130002row4_col9 {\n",
       "            background-color:  #8cacd5;\n",
       "            max-width:  80px;\n",
       "            font-size:  10pt;\n",
       "        }    #T_17143ff6_659e_11e9_9848_0242ac130002row4_col10 {\n",
       "            background-color:  #7da2cf;\n",
       "            max-width:  80px;\n",
       "            font-size:  10pt;\n",
       "        }    #T_17143ff6_659e_11e9_9848_0242ac130002row4_col11 {\n",
       "            background-color:  #a0bbdc;\n",
       "            max-width:  80px;\n",
       "            font-size:  10pt;\n",
       "        }    #T_17143ff6_659e_11e9_9848_0242ac130002row4_col12 {\n",
       "            background-color:  #82a5d1;\n",
       "            max-width:  80px;\n",
       "            font-size:  10pt;\n",
       "        }    #T_17143ff6_659e_11e9_9848_0242ac130002row4_col13 {\n",
       "            background-color:  #92b1d7;\n",
       "            max-width:  80px;\n",
       "            font-size:  10pt;\n",
       "        }    #T_17143ff6_659e_11e9_9848_0242ac130002row4_col14 {\n",
       "            background-color:  #96b4d9;\n",
       "            max-width:  80px;\n",
       "            font-size:  10pt;\n",
       "        }    #T_17143ff6_659e_11e9_9848_0242ac130002row5_col0 {\n",
       "            background-color:  #799fce;\n",
       "            max-width:  80px;\n",
       "            font-size:  10pt;\n",
       "        }    #T_17143ff6_659e_11e9_9848_0242ac130002row5_col1 {\n",
       "            background-color:  #618ec5;\n",
       "            max-width:  80px;\n",
       "            font-size:  10pt;\n",
       "        }    #T_17143ff6_659e_11e9_9848_0242ac130002row5_col2 {\n",
       "            background-color:  #4479bb;\n",
       "            max-width:  80px;\n",
       "            font-size:  10pt;\n",
       "        }    #T_17143ff6_659e_11e9_9848_0242ac130002row5_col3 {\n",
       "            background-color:  #8dadd5;\n",
       "            max-width:  80px;\n",
       "            font-size:  10pt;\n",
       "        }    #T_17143ff6_659e_11e9_9848_0242ac130002row5_col4 {\n",
       "            background-color:  #5485c1;\n",
       "            max-width:  80px;\n",
       "            font-size:  10pt;\n",
       "        }    #T_17143ff6_659e_11e9_9848_0242ac130002row5_col5 {\n",
       "            background-color:  #da3b46;\n",
       "            max-width:  80px;\n",
       "            font-size:  10pt;\n",
       "        }    #T_17143ff6_659e_11e9_9848_0242ac130002row5_col6 {\n",
       "            background-color:  #6892c8;\n",
       "            max-width:  80px;\n",
       "            font-size:  10pt;\n",
       "        }    #T_17143ff6_659e_11e9_9848_0242ac130002row5_col7 {\n",
       "            background-color:  #4d7fbe;\n",
       "            max-width:  80px;\n",
       "            font-size:  10pt;\n",
       "        }    #T_17143ff6_659e_11e9_9848_0242ac130002row5_col8 {\n",
       "            background-color:  #5a88c3;\n",
       "            max-width:  80px;\n",
       "            font-size:  10pt;\n",
       "        }    #T_17143ff6_659e_11e9_9848_0242ac130002row5_col9 {\n",
       "            background-color:  #5384c0;\n",
       "            max-width:  80px;\n",
       "            font-size:  10pt;\n",
       "        }    #T_17143ff6_659e_11e9_9848_0242ac130002row5_col10 {\n",
       "            background-color:  #6590c7;\n",
       "            max-width:  80px;\n",
       "            font-size:  10pt;\n",
       "        }    #T_17143ff6_659e_11e9_9848_0242ac130002row5_col11 {\n",
       "            background-color:  #82a5d1;\n",
       "            max-width:  80px;\n",
       "            font-size:  10pt;\n",
       "        }    #T_17143ff6_659e_11e9_9848_0242ac130002row5_col12 {\n",
       "            background-color:  #6993c8;\n",
       "            max-width:  80px;\n",
       "            font-size:  10pt;\n",
       "        }    #T_17143ff6_659e_11e9_9848_0242ac130002row5_col13 {\n",
       "            background-color:  #6590c7;\n",
       "            max-width:  80px;\n",
       "            font-size:  10pt;\n",
       "        }    #T_17143ff6_659e_11e9_9848_0242ac130002row5_col14 {\n",
       "            background-color:  #5a88c3;\n",
       "            max-width:  80px;\n",
       "            font-size:  10pt;\n",
       "        }    #T_17143ff6_659e_11e9_9848_0242ac130002row6_col0 {\n",
       "            background-color:  #8faed6;\n",
       "            max-width:  80px;\n",
       "            font-size:  10pt;\n",
       "        }    #T_17143ff6_659e_11e9_9848_0242ac130002row6_col1 {\n",
       "            background-color:  #6590c7;\n",
       "            max-width:  80px;\n",
       "            font-size:  10pt;\n",
       "        }    #T_17143ff6_659e_11e9_9848_0242ac130002row6_col2 {\n",
       "            background-color:  #749bcc;\n",
       "            max-width:  80px;\n",
       "            font-size:  10pt;\n",
       "        }    #T_17143ff6_659e_11e9_9848_0242ac130002row6_col3 {\n",
       "            background-color:  #8faed6;\n",
       "            max-width:  80px;\n",
       "            font-size:  10pt;\n",
       "        }    #T_17143ff6_659e_11e9_9848_0242ac130002row6_col4 {\n",
       "            background-color:  #96b4d9;\n",
       "            max-width:  80px;\n",
       "            font-size:  10pt;\n",
       "        }    #T_17143ff6_659e_11e9_9848_0242ac130002row6_col5 {\n",
       "            background-color:  #759ccd;\n",
       "            max-width:  80px;\n",
       "            font-size:  10pt;\n",
       "        }    #T_17143ff6_659e_11e9_9848_0242ac130002row6_col6 {\n",
       "            background-color:  #da3b46;\n",
       "            max-width:  80px;\n",
       "            font-size:  10pt;\n",
       "        }    #T_17143ff6_659e_11e9_9848_0242ac130002row6_col7 {\n",
       "            background-color:  #4479bb;\n",
       "            max-width:  80px;\n",
       "            font-size:  10pt;\n",
       "        }    #T_17143ff6_659e_11e9_9848_0242ac130002row6_col8 {\n",
       "            background-color:  #799fce;\n",
       "            max-width:  80px;\n",
       "            font-size:  10pt;\n",
       "        }    #T_17143ff6_659e_11e9_9848_0242ac130002row6_col9 {\n",
       "            background-color:  #83a6d2;\n",
       "            max-width:  80px;\n",
       "            font-size:  10pt;\n",
       "        }    #T_17143ff6_659e_11e9_9848_0242ac130002row6_col10 {\n",
       "            background-color:  #8babd4;\n",
       "            max-width:  80px;\n",
       "            font-size:  10pt;\n",
       "        }    #T_17143ff6_659e_11e9_9848_0242ac130002row6_col11 {\n",
       "            background-color:  #87a9d3;\n",
       "            max-width:  80px;\n",
       "            font-size:  10pt;\n",
       "        }    #T_17143ff6_659e_11e9_9848_0242ac130002row6_col12 {\n",
       "            background-color:  #6691c7;\n",
       "            max-width:  80px;\n",
       "            font-size:  10pt;\n",
       "        }    #T_17143ff6_659e_11e9_9848_0242ac130002row6_col13 {\n",
       "            background-color:  #9bb7da;\n",
       "            max-width:  80px;\n",
       "            font-size:  10pt;\n",
       "        }    #T_17143ff6_659e_11e9_9848_0242ac130002row6_col14 {\n",
       "            background-color:  #95b3d8;\n",
       "            max-width:  80px;\n",
       "            font-size:  10pt;\n",
       "        }    #T_17143ff6_659e_11e9_9848_0242ac130002row7_col0 {\n",
       "            background-color:  #497dbd;\n",
       "            max-width:  80px;\n",
       "            font-size:  10pt;\n",
       "        }    #T_17143ff6_659e_11e9_9848_0242ac130002row7_col1 {\n",
       "            background-color:  #9fbadc;\n",
       "            max-width:  80px;\n",
       "            font-size:  10pt;\n",
       "        }    #T_17143ff6_659e_11e9_9848_0242ac130002row7_col2 {\n",
       "            background-color:  #5787c2;\n",
       "            max-width:  80px;\n",
       "            font-size:  10pt;\n",
       "        }    #T_17143ff6_659e_11e9_9848_0242ac130002row7_col3 {\n",
       "            background-color:  #a0bbdc;\n",
       "            max-width:  80px;\n",
       "            font-size:  10pt;\n",
       "        }    #T_17143ff6_659e_11e9_9848_0242ac130002row7_col4 {\n",
       "            background-color:  #aac2e0;\n",
       "            max-width:  80px;\n",
       "            font-size:  10pt;\n",
       "        }    #T_17143ff6_659e_11e9_9848_0242ac130002row7_col5 {\n",
       "            background-color:  #a9c1e0;\n",
       "            max-width:  80px;\n",
       "            font-size:  10pt;\n",
       "        }    #T_17143ff6_659e_11e9_9848_0242ac130002row7_col6 {\n",
       "            background-color:  #96b4d9;\n",
       "            max-width:  80px;\n",
       "            font-size:  10pt;\n",
       "        }    #T_17143ff6_659e_11e9_9848_0242ac130002row7_col7 {\n",
       "            background-color:  #da3b46;\n",
       "            max-width:  80px;\n",
       "            font-size:  10pt;\n",
       "        }    #T_17143ff6_659e_11e9_9848_0242ac130002row7_col8 {\n",
       "            background-color:  #4d7fbe;\n",
       "            max-width:  80px;\n",
       "            font-size:  10pt;\n",
       "        }    #T_17143ff6_659e_11e9_9848_0242ac130002row7_col9 {\n",
       "            background-color:  #5686c1;\n",
       "            max-width:  80px;\n",
       "            font-size:  10pt;\n",
       "        }    #T_17143ff6_659e_11e9_9848_0242ac130002row7_col10 {\n",
       "            background-color:  #4a7ebd;\n",
       "            max-width:  80px;\n",
       "            font-size:  10pt;\n",
       "        }    #T_17143ff6_659e_11e9_9848_0242ac130002row7_col11 {\n",
       "            background-color:  #6993c8;\n",
       "            max-width:  80px;\n",
       "            font-size:  10pt;\n",
       "        }    #T_17143ff6_659e_11e9_9848_0242ac130002row7_col12 {\n",
       "            background-color:  #6691c7;\n",
       "            max-width:  80px;\n",
       "            font-size:  10pt;\n",
       "        }    #T_17143ff6_659e_11e9_9848_0242ac130002row7_col13 {\n",
       "            background-color:  #4479bb;\n",
       "            max-width:  80px;\n",
       "            font-size:  10pt;\n",
       "        }    #T_17143ff6_659e_11e9_9848_0242ac130002row7_col14 {\n",
       "            background-color:  #4479bb;\n",
       "            max-width:  80px;\n",
       "            font-size:  10pt;\n",
       "        }    #T_17143ff6_659e_11e9_9848_0242ac130002row8_col0 {\n",
       "            background-color:  #bccfe7;\n",
       "            max-width:  80px;\n",
       "            font-size:  10pt;\n",
       "        }    #T_17143ff6_659e_11e9_9848_0242ac130002row8_col1 {\n",
       "            background-color:  #cad9ec;\n",
       "            max-width:  80px;\n",
       "            font-size:  10pt;\n",
       "        }    #T_17143ff6_659e_11e9_9848_0242ac130002row8_col2 {\n",
       "            background-color:  #f9dfe1;\n",
       "            max-width:  80px;\n",
       "            font-size:  10pt;\n",
       "        }    #T_17143ff6_659e_11e9_9848_0242ac130002row8_col3 {\n",
       "            background-color:  #b5cae4;\n",
       "            max-width:  80px;\n",
       "            font-size:  10pt;\n",
       "        }    #T_17143ff6_659e_11e9_9848_0242ac130002row8_col4 {\n",
       "            background-color:  #b3c9e3;\n",
       "            max-width:  80px;\n",
       "            font-size:  10pt;\n",
       "        }    #T_17143ff6_659e_11e9_9848_0242ac130002row8_col5 {\n",
       "            background-color:  #acc3e1;\n",
       "            max-width:  80px;\n",
       "            font-size:  10pt;\n",
       "        }    #T_17143ff6_659e_11e9_9848_0242ac130002row8_col6 {\n",
       "            background-color:  #bbcee6;\n",
       "            max-width:  80px;\n",
       "            font-size:  10pt;\n",
       "        }    #T_17143ff6_659e_11e9_9848_0242ac130002row8_col7 {\n",
       "            background-color:  #4479bb;\n",
       "            max-width:  80px;\n",
       "            font-size:  10pt;\n",
       "        }    #T_17143ff6_659e_11e9_9848_0242ac130002row8_col8 {\n",
       "            background-color:  #da3b46;\n",
       "            max-width:  80px;\n",
       "            font-size:  10pt;\n",
       "        }    #T_17143ff6_659e_11e9_9848_0242ac130002row8_col9 {\n",
       "            background-color:  #f2f2f2;\n",
       "            max-width:  80px;\n",
       "            font-size:  10pt;\n",
       "        }    #T_17143ff6_659e_11e9_9848_0242ac130002row8_col10 {\n",
       "            background-color:  #e7eef6;\n",
       "            max-width:  80px;\n",
       "            font-size:  10pt;\n",
       "        }    #T_17143ff6_659e_11e9_9848_0242ac130002row8_col11 {\n",
       "            background-color:  #cad9ec;\n",
       "            max-width:  80px;\n",
       "            font-size:  10pt;\n",
       "        }    #T_17143ff6_659e_11e9_9848_0242ac130002row8_col12 {\n",
       "            background-color:  #f2f2f2;\n",
       "            max-width:  80px;\n",
       "            font-size:  10pt;\n",
       "        }    #T_17143ff6_659e_11e9_9848_0242ac130002row8_col13 {\n",
       "            background-color:  #f8dcde;\n",
       "            max-width:  80px;\n",
       "            font-size:  10pt;\n",
       "        }    #T_17143ff6_659e_11e9_9848_0242ac130002row8_col14 {\n",
       "            background-color:  #f6d2d4;\n",
       "            max-width:  80px;\n",
       "            font-size:  10pt;\n",
       "        }    #T_17143ff6_659e_11e9_9848_0242ac130002row9_col0 {\n",
       "            background-color:  #d4e0ef;\n",
       "            max-width:  80px;\n",
       "            font-size:  10pt;\n",
       "        }    #T_17143ff6_659e_11e9_9848_0242ac130002row9_col1 {\n",
       "            background-color:  #b8cce5;\n",
       "            max-width:  80px;\n",
       "            font-size:  10pt;\n",
       "        }    #T_17143ff6_659e_11e9_9848_0242ac130002row9_col2 {\n",
       "            background-color:  #d3dfef;\n",
       "            max-width:  80px;\n",
       "            font-size:  10pt;\n",
       "        }    #T_17143ff6_659e_11e9_9848_0242ac130002row9_col3 {\n",
       "            background-color:  #cfddee;\n",
       "            max-width:  80px;\n",
       "            font-size:  10pt;\n",
       "        }    #T_17143ff6_659e_11e9_9848_0242ac130002row9_col4 {\n",
       "            background-color:  #aac2e0;\n",
       "            max-width:  80px;\n",
       "            font-size:  10pt;\n",
       "        }    #T_17143ff6_659e_11e9_9848_0242ac130002row9_col5 {\n",
       "            background-color:  #9fbadc;\n",
       "            max-width:  80px;\n",
       "            font-size:  10pt;\n",
       "        }    #T_17143ff6_659e_11e9_9848_0242ac130002row9_col6 {\n",
       "            background-color:  #bccfe7;\n",
       "            max-width:  80px;\n",
       "            font-size:  10pt;\n",
       "        }    #T_17143ff6_659e_11e9_9848_0242ac130002row9_col7 {\n",
       "            background-color:  #4479bb;\n",
       "            max-width:  80px;\n",
       "            font-size:  10pt;\n",
       "        }    #T_17143ff6_659e_11e9_9848_0242ac130002row9_col8 {\n",
       "            background-color:  #eaf0f7;\n",
       "            max-width:  80px;\n",
       "            font-size:  10pt;\n",
       "        }    #T_17143ff6_659e_11e9_9848_0242ac130002row9_col9 {\n",
       "            background-color:  #da3b46;\n",
       "            max-width:  80px;\n",
       "            font-size:  10pt;\n",
       "        }    #T_17143ff6_659e_11e9_9848_0242ac130002row9_col10 {\n",
       "            background-color:  #f0adb2;\n",
       "            max-width:  80px;\n",
       "            font-size:  10pt;\n",
       "        }    #T_17143ff6_659e_11e9_9848_0242ac130002row9_col11 {\n",
       "            background-color:  #ebf1f8;\n",
       "            max-width:  80px;\n",
       "            font-size:  10pt;\n",
       "        }    #T_17143ff6_659e_11e9_9848_0242ac130002row9_col12 {\n",
       "            background-color:  #f2f2f2;\n",
       "            max-width:  80px;\n",
       "            font-size:  10pt;\n",
       "        }    #T_17143ff6_659e_11e9_9848_0242ac130002row9_col13 {\n",
       "            background-color:  #f3c2c5;\n",
       "            max-width:  80px;\n",
       "            font-size:  10pt;\n",
       "        }    #T_17143ff6_659e_11e9_9848_0242ac130002row9_col14 {\n",
       "            background-color:  #f7d7d9;\n",
       "            max-width:  80px;\n",
       "            font-size:  10pt;\n",
       "        }    #T_17143ff6_659e_11e9_9848_0242ac130002row10_col0 {\n",
       "            background-color:  #cfddee;\n",
       "            max-width:  80px;\n",
       "            font-size:  10pt;\n",
       "        }    #T_17143ff6_659e_11e9_9848_0242ac130002row10_col1 {\n",
       "            background-color:  #b0c6e2;\n",
       "            max-width:  80px;\n",
       "            font-size:  10pt;\n",
       "        }    #T_17143ff6_659e_11e9_9848_0242ac130002row10_col2 {\n",
       "            background-color:  #cddbed;\n",
       "            max-width:  80px;\n",
       "            font-size:  10pt;\n",
       "        }    #T_17143ff6_659e_11e9_9848_0242ac130002row10_col3 {\n",
       "            background-color:  #c3d4e9;\n",
       "            max-width:  80px;\n",
       "            font-size:  10pt;\n",
       "        }    #T_17143ff6_659e_11e9_9848_0242ac130002row10_col4 {\n",
       "            background-color:  #a4bede;\n",
       "            max-width:  80px;\n",
       "            font-size:  10pt;\n",
       "        }    #T_17143ff6_659e_11e9_9848_0242ac130002row10_col5 {\n",
       "            background-color:  #b5cae4;\n",
       "            max-width:  80px;\n",
       "            font-size:  10pt;\n",
       "        }    #T_17143ff6_659e_11e9_9848_0242ac130002row10_col6 {\n",
       "            background-color:  #c7d7eb;\n",
       "            max-width:  80px;\n",
       "            font-size:  10pt;\n",
       "        }    #T_17143ff6_659e_11e9_9848_0242ac130002row10_col7 {\n",
       "            background-color:  #4479bb;\n",
       "            max-width:  80px;\n",
       "            font-size:  10pt;\n",
       "        }    #T_17143ff6_659e_11e9_9848_0242ac130002row10_col8 {\n",
       "            background-color:  #e7eef6;\n",
       "            max-width:  80px;\n",
       "            font-size:  10pt;\n",
       "        }    #T_17143ff6_659e_11e9_9848_0242ac130002row10_col9 {\n",
       "            background-color:  #efaab0;\n",
       "            max-width:  80px;\n",
       "            font-size:  10pt;\n",
       "        }    #T_17143ff6_659e_11e9_9848_0242ac130002row10_col10 {\n",
       "            background-color:  #da3b46;\n",
       "            max-width:  80px;\n",
       "            font-size:  10pt;\n",
       "        }    #T_17143ff6_659e_11e9_9848_0242ac130002row10_col11 {\n",
       "            background-color:  #c1d3e8;\n",
       "            max-width:  80px;\n",
       "            font-size:  10pt;\n",
       "        }    #T_17143ff6_659e_11e9_9848_0242ac130002row10_col12 {\n",
       "            background-color:  #f2f2f2;\n",
       "            max-width:  80px;\n",
       "            font-size:  10pt;\n",
       "        }    #T_17143ff6_659e_11e9_9848_0242ac130002row10_col13 {\n",
       "            background-color:  #f9dfe1;\n",
       "            max-width:  80px;\n",
       "            font-size:  10pt;\n",
       "        }    #T_17143ff6_659e_11e9_9848_0242ac130002row10_col14 {\n",
       "            background-color:  #fbeaeb;\n",
       "            max-width:  80px;\n",
       "            font-size:  10pt;\n",
       "        }    #T_17143ff6_659e_11e9_9848_0242ac130002row11_col0 {\n",
       "            background-color:  #f2f2f2;\n",
       "            max-width:  80px;\n",
       "            font-size:  10pt;\n",
       "        }    #T_17143ff6_659e_11e9_9848_0242ac130002row11_col1 {\n",
       "            background-color:  #a8c0df;\n",
       "            max-width:  80px;\n",
       "            font-size:  10pt;\n",
       "        }    #T_17143ff6_659e_11e9_9848_0242ac130002row11_col2 {\n",
       "            background-color:  #cedced;\n",
       "            max-width:  80px;\n",
       "            font-size:  10pt;\n",
       "        }    #T_17143ff6_659e_11e9_9848_0242ac130002row11_col3 {\n",
       "            background-color:  #a9c1e0;\n",
       "            max-width:  80px;\n",
       "            font-size:  10pt;\n",
       "        }    #T_17143ff6_659e_11e9_9848_0242ac130002row11_col4 {\n",
       "            background-color:  #aec5e1;\n",
       "            max-width:  80px;\n",
       "            font-size:  10pt;\n",
       "        }    #T_17143ff6_659e_11e9_9848_0242ac130002row11_col5 {\n",
       "            background-color:  #b5cae4;\n",
       "            max-width:  80px;\n",
       "            font-size:  10pt;\n",
       "        }    #T_17143ff6_659e_11e9_9848_0242ac130002row11_col6 {\n",
       "            background-color:  #b1c7e2;\n",
       "            max-width:  80px;\n",
       "            font-size:  10pt;\n",
       "        }    #T_17143ff6_659e_11e9_9848_0242ac130002row11_col7 {\n",
       "            background-color:  #4479bb;\n",
       "            max-width:  80px;\n",
       "            font-size:  10pt;\n",
       "        }    #T_17143ff6_659e_11e9_9848_0242ac130002row11_col8 {\n",
       "            background-color:  #b5cae4;\n",
       "            max-width:  80px;\n",
       "            font-size:  10pt;\n",
       "        }    #T_17143ff6_659e_11e9_9848_0242ac130002row11_col9 {\n",
       "            background-color:  #e0e9f4;\n",
       "            max-width:  80px;\n",
       "            font-size:  10pt;\n",
       "        }    #T_17143ff6_659e_11e9_9848_0242ac130002row11_col10 {\n",
       "            background-color:  #acc3e1;\n",
       "            max-width:  80px;\n",
       "            font-size:  10pt;\n",
       "        }    #T_17143ff6_659e_11e9_9848_0242ac130002row11_col11 {\n",
       "            background-color:  #da3b46;\n",
       "            max-width:  80px;\n",
       "            font-size:  10pt;\n",
       "        }    #T_17143ff6_659e_11e9_9848_0242ac130002row11_col12 {\n",
       "            background-color:  #d4e0ef;\n",
       "            max-width:  80px;\n",
       "            font-size:  10pt;\n",
       "        }    #T_17143ff6_659e_11e9_9848_0242ac130002row11_col13 {\n",
       "            background-color:  #f4c6c9;\n",
       "            max-width:  80px;\n",
       "            font-size:  10pt;\n",
       "        }    #T_17143ff6_659e_11e9_9848_0242ac130002row11_col14 {\n",
       "            background-color:  #f7d7d9;\n",
       "            max-width:  80px;\n",
       "            font-size:  10pt;\n",
       "        }    #T_17143ff6_659e_11e9_9848_0242ac130002row12_col0 {\n",
       "            background-color:  #b3c9e3;\n",
       "            max-width:  80px;\n",
       "            font-size:  10pt;\n",
       "        }    #T_17143ff6_659e_11e9_9848_0242ac130002row12_col1 {\n",
       "            background-color:  #f2f2f2;\n",
       "            max-width:  80px;\n",
       "            font-size:  10pt;\n",
       "        }    #T_17143ff6_659e_11e9_9848_0242ac130002row12_col2 {\n",
       "            background-color:  #d9e4f1;\n",
       "            max-width:  80px;\n",
       "            font-size:  10pt;\n",
       "        }    #T_17143ff6_659e_11e9_9848_0242ac130002row12_col3 {\n",
       "            background-color:  #b5cae4;\n",
       "            max-width:  80px;\n",
       "            font-size:  10pt;\n",
       "        }    #T_17143ff6_659e_11e9_9848_0242ac130002row12_col4 {\n",
       "            background-color:  #94b2d8;\n",
       "            max-width:  80px;\n",
       "            font-size:  10pt;\n",
       "        }    #T_17143ff6_659e_11e9_9848_0242ac130002row12_col5 {\n",
       "            background-color:  #a3bddd;\n",
       "            max-width:  80px;\n",
       "            font-size:  10pt;\n",
       "        }    #T_17143ff6_659e_11e9_9848_0242ac130002row12_col6 {\n",
       "            background-color:  #96b4d9;\n",
       "            max-width:  80px;\n",
       "            font-size:  10pt;\n",
       "        }    #T_17143ff6_659e_11e9_9848_0242ac130002row12_col7 {\n",
       "            background-color:  #4479bb;\n",
       "            max-width:  80px;\n",
       "            font-size:  10pt;\n",
       "        }    #T_17143ff6_659e_11e9_9848_0242ac130002row12_col8 {\n",
       "            background-color:  #ebf1f8;\n",
       "            max-width:  80px;\n",
       "            font-size:  10pt;\n",
       "        }    #T_17143ff6_659e_11e9_9848_0242ac130002row12_col9 {\n",
       "            background-color:  #f2f2f2;\n",
       "            max-width:  80px;\n",
       "            font-size:  10pt;\n",
       "        }    #T_17143ff6_659e_11e9_9848_0242ac130002row12_col10 {\n",
       "            background-color:  #e0e9f4;\n",
       "            max-width:  80px;\n",
       "            font-size:  10pt;\n",
       "        }    #T_17143ff6_659e_11e9_9848_0242ac130002row12_col11 {\n",
       "            background-color:  #d7e2f0;\n",
       "            max-width:  80px;\n",
       "            font-size:  10pt;\n",
       "        }    #T_17143ff6_659e_11e9_9848_0242ac130002row12_col12 {\n",
       "            background-color:  #da3b46;\n",
       "            max-width:  80px;\n",
       "            font-size:  10pt;\n",
       "        }    #T_17143ff6_659e_11e9_9848_0242ac130002row12_col13 {\n",
       "            background-color:  #f4c7cb;\n",
       "            max-width:  80px;\n",
       "            font-size:  10pt;\n",
       "        }    #T_17143ff6_659e_11e9_9848_0242ac130002row12_col14 {\n",
       "            background-color:  #f4c3c7;\n",
       "            max-width:  80px;\n",
       "            font-size:  10pt;\n",
       "        }    #T_17143ff6_659e_11e9_9848_0242ac130002row13_col0 {\n",
       "            background-color:  #e3ebf5;\n",
       "            max-width:  80px;\n",
       "            font-size:  10pt;\n",
       "        }    #T_17143ff6_659e_11e9_9848_0242ac130002row13_col1 {\n",
       "            background-color:  #e3ebf5;\n",
       "            max-width:  80px;\n",
       "            font-size:  10pt;\n",
       "        }    #T_17143ff6_659e_11e9_9848_0242ac130002row13_col2 {\n",
       "            background-color:  #f7d4d7;\n",
       "            max-width:  80px;\n",
       "            font-size:  10pt;\n",
       "        }    #T_17143ff6_659e_11e9_9848_0242ac130002row13_col3 {\n",
       "            background-color:  #d3dfef;\n",
       "            max-width:  80px;\n",
       "            font-size:  10pt;\n",
       "        }    #T_17143ff6_659e_11e9_9848_0242ac130002row13_col4 {\n",
       "            background-color:  #bccfe7;\n",
       "            max-width:  80px;\n",
       "            font-size:  10pt;\n",
       "        }    #T_17143ff6_659e_11e9_9848_0242ac130002row13_col5 {\n",
       "            background-color:  #b9cde6;\n",
       "            max-width:  80px;\n",
       "            font-size:  10pt;\n",
       "        }    #T_17143ff6_659e_11e9_9848_0242ac130002row13_col6 {\n",
       "            background-color:  #d9e4f1;\n",
       "            max-width:  80px;\n",
       "            font-size:  10pt;\n",
       "        }    #T_17143ff6_659e_11e9_9848_0242ac130002row13_col7 {\n",
       "            background-color:  #4479bb;\n",
       "            max-width:  80px;\n",
       "            font-size:  10pt;\n",
       "        }    #T_17143ff6_659e_11e9_9848_0242ac130002row13_col8 {\n",
       "            background-color:  #f7d7d9;\n",
       "            max-width:  80px;\n",
       "            font-size:  10pt;\n",
       "        }    #T_17143ff6_659e_11e9_9848_0242ac130002row13_col9 {\n",
       "            background-color:  #f2babe;\n",
       "            max-width:  80px;\n",
       "            font-size:  10pt;\n",
       "        }    #T_17143ff6_659e_11e9_9848_0242ac130002row13_col10 {\n",
       "            background-color:  #f8dcde;\n",
       "            max-width:  80px;\n",
       "            font-size:  10pt;\n",
       "        }    #T_17143ff6_659e_11e9_9848_0242ac130002row13_col11 {\n",
       "            background-color:  #f1b7bc;\n",
       "            max-width:  80px;\n",
       "            font-size:  10pt;\n",
       "        }    #T_17143ff6_659e_11e9_9848_0242ac130002row13_col12 {\n",
       "            background-color:  #f2b9bd;\n",
       "            max-width:  80px;\n",
       "            font-size:  10pt;\n",
       "        }    #T_17143ff6_659e_11e9_9848_0242ac130002row13_col13 {\n",
       "            background-color:  #da3b46;\n",
       "            max-width:  80px;\n",
       "            font-size:  10pt;\n",
       "        }    #T_17143ff6_659e_11e9_9848_0242ac130002row13_col14 {\n",
       "            background-color:  #e2656e;\n",
       "            max-width:  80px;\n",
       "            font-size:  10pt;\n",
       "        }    #T_17143ff6_659e_11e9_9848_0242ac130002row14_col0 {\n",
       "            background-color:  #e3ebf5;\n",
       "            max-width:  80px;\n",
       "            font-size:  10pt;\n",
       "        }    #T_17143ff6_659e_11e9_9848_0242ac130002row14_col1 {\n",
       "            background-color:  #f2f2f2;\n",
       "            max-width:  80px;\n",
       "            font-size:  10pt;\n",
       "        }    #T_17143ff6_659e_11e9_9848_0242ac130002row14_col2 {\n",
       "            background-color:  #f6d2d4;\n",
       "            max-width:  80px;\n",
       "            font-size:  10pt;\n",
       "        }    #T_17143ff6_659e_11e9_9848_0242ac130002row14_col3 {\n",
       "            background-color:  #d1deee;\n",
       "            max-width:  80px;\n",
       "            font-size:  10pt;\n",
       "        }    #T_17143ff6_659e_11e9_9848_0242ac130002row14_col4 {\n",
       "            background-color:  #c0d2e8;\n",
       "            max-width:  80px;\n",
       "            font-size:  10pt;\n",
       "        }    #T_17143ff6_659e_11e9_9848_0242ac130002row14_col5 {\n",
       "            background-color:  #b1c7e2;\n",
       "            max-width:  80px;\n",
       "            font-size:  10pt;\n",
       "        }    #T_17143ff6_659e_11e9_9848_0242ac130002row14_col6 {\n",
       "            background-color:  #d5e1f0;\n",
       "            max-width:  80px;\n",
       "            font-size:  10pt;\n",
       "        }    #T_17143ff6_659e_11e9_9848_0242ac130002row14_col7 {\n",
       "            background-color:  #4479bb;\n",
       "            max-width:  80px;\n",
       "            font-size:  10pt;\n",
       "        }    #T_17143ff6_659e_11e9_9848_0242ac130002row14_col8 {\n",
       "            background-color:  #f6cdd0;\n",
       "            max-width:  80px;\n",
       "            font-size:  10pt;\n",
       "        }    #T_17143ff6_659e_11e9_9848_0242ac130002row14_col9 {\n",
       "            background-color:  #f6cfd2;\n",
       "            max-width:  80px;\n",
       "            font-size:  10pt;\n",
       "        }    #T_17143ff6_659e_11e9_9848_0242ac130002row14_col10 {\n",
       "            background-color:  #fae5e7;\n",
       "            max-width:  80px;\n",
       "            font-size:  10pt;\n",
       "        }    #T_17143ff6_659e_11e9_9848_0242ac130002row14_col11 {\n",
       "            background-color:  #f4c6c9;\n",
       "            max-width:  80px;\n",
       "            font-size:  10pt;\n",
       "        }    #T_17143ff6_659e_11e9_9848_0242ac130002row14_col12 {\n",
       "            background-color:  #f1b5b9;\n",
       "            max-width:  80px;\n",
       "            font-size:  10pt;\n",
       "        }    #T_17143ff6_659e_11e9_9848_0242ac130002row14_col13 {\n",
       "            background-color:  #e2656e;\n",
       "            max-width:  80px;\n",
       "            font-size:  10pt;\n",
       "        }    #T_17143ff6_659e_11e9_9848_0242ac130002row14_col14 {\n",
       "            background-color:  #da3b46;\n",
       "            max-width:  80px;\n",
       "            font-size:  10pt;\n",
       "        }</style>  \n",
       "<table id=\"T_17143ff6_659e_11e9_9848_0242ac130002\" ><caption>Hover to magify</caption> \n",
       "<thead>    <tr> \n",
       "        <th class=\"blank level0\" ></th> \n",
       "        <th class=\"col_heading level0 col0\" >age</th> \n",
       "        <th class=\"col_heading level0 col1\" >sex</th> \n",
       "        <th class=\"col_heading level0 col2\" >chest_pain</th> \n",
       "        <th class=\"col_heading level0 col3\" >blood pressure</th> \n",
       "        <th class=\"col_heading level0 col4\" >serum_cholestoral</th> \n",
       "        <th class=\"col_heading level0 col5\" >fasting_blood_sugar</th> \n",
       "        <th class=\"col_heading level0 col6\" >electrocardiographic</th> \n",
       "        <th class=\"col_heading level0 col7\" >max_heart_rate</th> \n",
       "        <th class=\"col_heading level0 col8\" >induced_angina</th> \n",
       "        <th class=\"col_heading level0 col9\" >ST_depression</th> \n",
       "        <th class=\"col_heading level0 col10\" >slope</th> \n",
       "        <th class=\"col_heading level0 col11\" >vessels</th> \n",
       "        <th class=\"col_heading level0 col12\" >thal</th> \n",
       "        <th class=\"col_heading level0 col13\" >diagnosis</th> \n",
       "        <th class=\"col_heading level0 col14\" >diag_int</th> \n",
       "    </tr></thead> \n",
       "<tbody>    <tr> \n",
       "        <th id=\"T_17143ff6_659e_11e9_9848_0242ac130002level0_row0\" class=\"row_heading level0 row0\" >age</th> \n",
       "        <td id=\"T_17143ff6_659e_11e9_9848_0242ac130002row0_col0\" class=\"data row0 col0\" >1</td> \n",
       "        <td id=\"T_17143ff6_659e_11e9_9848_0242ac130002row0_col1\" class=\"data row0 col1\" >-0.098</td> \n",
       "        <td id=\"T_17143ff6_659e_11e9_9848_0242ac130002row0_col2\" class=\"data row0 col2\" >0.1</td> \n",
       "        <td id=\"T_17143ff6_659e_11e9_9848_0242ac130002row0_col3\" class=\"data row0 col3\" >0.28</td> \n",
       "        <td id=\"T_17143ff6_659e_11e9_9848_0242ac130002row0_col4\" class=\"data row0 col4\" >0.21</td> \n",
       "        <td id=\"T_17143ff6_659e_11e9_9848_0242ac130002row0_col5\" class=\"data row0 col5\" >0.12</td> \n",
       "        <td id=\"T_17143ff6_659e_11e9_9848_0242ac130002row0_col6\" class=\"data row0 col6\" >0.15</td> \n",
       "        <td id=\"T_17143ff6_659e_11e9_9848_0242ac130002row0_col7\" class=\"data row0 col7\" >-0.39</td> \n",
       "        <td id=\"T_17143ff6_659e_11e9_9848_0242ac130002row0_col8\" class=\"data row0 col8\" >0.092</td> \n",
       "        <td id=\"T_17143ff6_659e_11e9_9848_0242ac130002row0_col9\" class=\"data row0 col9\" >0.2</td> \n",
       "        <td id=\"T_17143ff6_659e_11e9_9848_0242ac130002row0_col10\" class=\"data row0 col10\" >0.16</td> \n",
       "        <td id=\"T_17143ff6_659e_11e9_9848_0242ac130002row0_col11\" class=\"data row0 col11\" >0.36</td> \n",
       "        <td id=\"T_17143ff6_659e_11e9_9848_0242ac130002row0_col12\" class=\"data row0 col12\" >0.13</td> \n",
       "        <td id=\"T_17143ff6_659e_11e9_9848_0242ac130002row0_col13\" class=\"data row0 col13\" >0.22</td> \n",
       "        <td id=\"T_17143ff6_659e_11e9_9848_0242ac130002row0_col14\" class=\"data row0 col14\" >0.22</td> \n",
       "    </tr>    <tr> \n",
       "        <th id=\"T_17143ff6_659e_11e9_9848_0242ac130002level0_row1\" class=\"row_heading level0 row1\" >sex</th> \n",
       "        <td id=\"T_17143ff6_659e_11e9_9848_0242ac130002row1_col0\" class=\"data row1 col0\" >-0.098</td> \n",
       "        <td id=\"T_17143ff6_659e_11e9_9848_0242ac130002row1_col1\" class=\"data row1 col1\" >1</td> \n",
       "        <td id=\"T_17143ff6_659e_11e9_9848_0242ac130002row1_col2\" class=\"data row1 col2\" >0.01</td> \n",
       "        <td id=\"T_17143ff6_659e_11e9_9848_0242ac130002row1_col3\" class=\"data row1 col3\" >-0.064</td> \n",
       "        <td id=\"T_17143ff6_659e_11e9_9848_0242ac130002row1_col4\" class=\"data row1 col4\" >-0.2</td> \n",
       "        <td id=\"T_17143ff6_659e_11e9_9848_0242ac130002row1_col5\" class=\"data row1 col5\" >0.048</td> \n",
       "        <td id=\"T_17143ff6_659e_11e9_9848_0242ac130002row1_col6\" class=\"data row1 col6\" >0.022</td> \n",
       "        <td id=\"T_17143ff6_659e_11e9_9848_0242ac130002row1_col7\" class=\"data row1 col7\" >-0.049</td> \n",
       "        <td id=\"T_17143ff6_659e_11e9_9848_0242ac130002row1_col8\" class=\"data row1 col8\" >0.15</td> \n",
       "        <td id=\"T_17143ff6_659e_11e9_9848_0242ac130002row1_col9\" class=\"data row1 col9\" >0.1</td> \n",
       "        <td id=\"T_17143ff6_659e_11e9_9848_0242ac130002row1_col10\" class=\"data row1 col10\" >0.038</td> \n",
       "        <td id=\"T_17143ff6_659e_11e9_9848_0242ac130002row1_col11\" class=\"data row1 col11\" >0.093</td> \n",
       "        <td id=\"T_17143ff6_659e_11e9_9848_0242ac130002row1_col12\" class=\"data row1 col12\" >0.38</td> \n",
       "        <td id=\"T_17143ff6_659e_11e9_9848_0242ac130002row1_col13\" class=\"data row1 col13\" >0.22</td> \n",
       "        <td id=\"T_17143ff6_659e_11e9_9848_0242ac130002row1_col14\" class=\"data row1 col14\" >0.28</td> \n",
       "    </tr>    <tr> \n",
       "        <th id=\"T_17143ff6_659e_11e9_9848_0242ac130002level0_row2\" class=\"row_heading level0 row2\" >chest_pain</th> \n",
       "        <td id=\"T_17143ff6_659e_11e9_9848_0242ac130002row2_col0\" class=\"data row2 col0\" >0.1</td> \n",
       "        <td id=\"T_17143ff6_659e_11e9_9848_0242ac130002row2_col1\" class=\"data row2 col1\" >0.01</td> \n",
       "        <td id=\"T_17143ff6_659e_11e9_9848_0242ac130002row2_col2\" class=\"data row2 col2\" >1</td> \n",
       "        <td id=\"T_17143ff6_659e_11e9_9848_0242ac130002row2_col3\" class=\"data row2 col3\" >-0.036</td> \n",
       "        <td id=\"T_17143ff6_659e_11e9_9848_0242ac130002row2_col4\" class=\"data row2 col4\" >0.072</td> \n",
       "        <td id=\"T_17143ff6_659e_11e9_9848_0242ac130002row2_col5\" class=\"data row2 col5\" >-0.04</td> \n",
       "        <td id=\"T_17143ff6_659e_11e9_9848_0242ac130002row2_col6\" class=\"data row2 col6\" >0.068</td> \n",
       "        <td id=\"T_17143ff6_659e_11e9_9848_0242ac130002row2_col7\" class=\"data row2 col7\" >-0.33</td> \n",
       "        <td id=\"T_17143ff6_659e_11e9_9848_0242ac130002row2_col8\" class=\"data row2 col8\" >0.38</td> \n",
       "        <td id=\"T_17143ff6_659e_11e9_9848_0242ac130002row2_col9\" class=\"data row2 col9\" >0.2</td> \n",
       "        <td id=\"T_17143ff6_659e_11e9_9848_0242ac130002row2_col10\" class=\"data row2 col10\" >0.15</td> \n",
       "        <td id=\"T_17143ff6_659e_11e9_9848_0242ac130002row2_col11\" class=\"data row2 col11\" >0.23</td> \n",
       "        <td id=\"T_17143ff6_659e_11e9_9848_0242ac130002row2_col12\" class=\"data row2 col12\" >0.26</td> \n",
       "        <td id=\"T_17143ff6_659e_11e9_9848_0242ac130002row2_col13\" class=\"data row2 col13\" >0.41</td> \n",
       "        <td id=\"T_17143ff6_659e_11e9_9848_0242ac130002row2_col14\" class=\"data row2 col14\" >0.41</td> \n",
       "    </tr>    <tr> \n",
       "        <th id=\"T_17143ff6_659e_11e9_9848_0242ac130002level0_row3\" class=\"row_heading level0 row3\" >blood pressure</th> \n",
       "        <td id=\"T_17143ff6_659e_11e9_9848_0242ac130002row3_col0\" class=\"data row3 col0\" >0.28</td> \n",
       "        <td id=\"T_17143ff6_659e_11e9_9848_0242ac130002row3_col1\" class=\"data row3 col1\" >-0.064</td> \n",
       "        <td id=\"T_17143ff6_659e_11e9_9848_0242ac130002row3_col2\" class=\"data row3 col2\" >-0.036</td> \n",
       "        <td id=\"T_17143ff6_659e_11e9_9848_0242ac130002row3_col3\" class=\"data row3 col3\" >1</td> \n",
       "        <td id=\"T_17143ff6_659e_11e9_9848_0242ac130002row3_col4\" class=\"data row3 col4\" >0.13</td> \n",
       "        <td id=\"T_17143ff6_659e_11e9_9848_0242ac130002row3_col5\" class=\"data row3 col5\" >0.18</td> \n",
       "        <td id=\"T_17143ff6_659e_11e9_9848_0242ac130002row3_col6\" class=\"data row3 col6\" >0.15</td> \n",
       "        <td id=\"T_17143ff6_659e_11e9_9848_0242ac130002row3_col7\" class=\"data row3 col7\" >-0.045</td> \n",
       "        <td id=\"T_17143ff6_659e_11e9_9848_0242ac130002row3_col8\" class=\"data row3 col8\" >0.065</td> \n",
       "        <td id=\"T_17143ff6_659e_11e9_9848_0242ac130002row3_col9\" class=\"data row3 col9\" >0.19</td> \n",
       "        <td id=\"T_17143ff6_659e_11e9_9848_0242ac130002row3_col10\" class=\"data row3 col10\" >0.12</td> \n",
       "        <td id=\"T_17143ff6_659e_11e9_9848_0242ac130002row3_col11\" class=\"data row3 col11\" >0.099</td> \n",
       "        <td id=\"T_17143ff6_659e_11e9_9848_0242ac130002row3_col12\" class=\"data row3 col12\" >0.13</td> \n",
       "        <td id=\"T_17143ff6_659e_11e9_9848_0242ac130002row3_col13\" class=\"data row3 col13\" >0.16</td> \n",
       "        <td id=\"T_17143ff6_659e_11e9_9848_0242ac130002row3_col14\" class=\"data row3 col14\" >0.15</td> \n",
       "    </tr>    <tr> \n",
       "        <th id=\"T_17143ff6_659e_11e9_9848_0242ac130002level0_row4\" class=\"row_heading level0 row4\" >serum_cholestoral</th> \n",
       "        <td id=\"T_17143ff6_659e_11e9_9848_0242ac130002row4_col0\" class=\"data row4 col0\" >0.21</td> \n",
       "        <td id=\"T_17143ff6_659e_11e9_9848_0242ac130002row4_col1\" class=\"data row4 col1\" >-0.2</td> \n",
       "        <td id=\"T_17143ff6_659e_11e9_9848_0242ac130002row4_col2\" class=\"data row4 col2\" >0.072</td> \n",
       "        <td id=\"T_17143ff6_659e_11e9_9848_0242ac130002row4_col3\" class=\"data row4 col3\" >0.13</td> \n",
       "        <td id=\"T_17143ff6_659e_11e9_9848_0242ac130002row4_col4\" class=\"data row4 col4\" >1</td> \n",
       "        <td id=\"T_17143ff6_659e_11e9_9848_0242ac130002row4_col5\" class=\"data row4 col5\" >0.0098</td> \n",
       "        <td id=\"T_17143ff6_659e_11e9_9848_0242ac130002row4_col6\" class=\"data row4 col6\" >0.17</td> \n",
       "        <td id=\"T_17143ff6_659e_11e9_9848_0242ac130002row4_col7\" class=\"data row4 col7\" >-0.0034</td> \n",
       "        <td id=\"T_17143ff6_659e_11e9_9848_0242ac130002row4_col8\" class=\"data row4 col8\" >0.061</td> \n",
       "        <td id=\"T_17143ff6_659e_11e9_9848_0242ac130002row4_col9\" class=\"data row4 col9\" >0.047</td> \n",
       "        <td id=\"T_17143ff6_659e_11e9_9848_0242ac130002row4_col10\" class=\"data row4 col10\" >-0.0041</td> \n",
       "        <td id=\"T_17143ff6_659e_11e9_9848_0242ac130002row4_col11\" class=\"data row4 col11\" >0.12</td> \n",
       "        <td id=\"T_17143ff6_659e_11e9_9848_0242ac130002row4_col12\" class=\"data row4 col12\" >0.014</td> \n",
       "        <td id=\"T_17143ff6_659e_11e9_9848_0242ac130002row4_col13\" class=\"data row4 col13\" >0.071</td> \n",
       "        <td id=\"T_17143ff6_659e_11e9_9848_0242ac130002row4_col14\" class=\"data row4 col14\" >0.085</td> \n",
       "    </tr>    <tr> \n",
       "        <th id=\"T_17143ff6_659e_11e9_9848_0242ac130002level0_row5\" class=\"row_heading level0 row5\" >fasting_blood_sugar</th> \n",
       "        <td id=\"T_17143ff6_659e_11e9_9848_0242ac130002row5_col0\" class=\"data row5 col0\" >0.12</td> \n",
       "        <td id=\"T_17143ff6_659e_11e9_9848_0242ac130002row5_col1\" class=\"data row5 col1\" >0.048</td> \n",
       "        <td id=\"T_17143ff6_659e_11e9_9848_0242ac130002row5_col2\" class=\"data row5 col2\" >-0.04</td> \n",
       "        <td id=\"T_17143ff6_659e_11e9_9848_0242ac130002row5_col3\" class=\"data row5 col3\" >0.18</td> \n",
       "        <td id=\"T_17143ff6_659e_11e9_9848_0242ac130002row5_col4\" class=\"data row5 col4\" >0.0098</td> \n",
       "        <td id=\"T_17143ff6_659e_11e9_9848_0242ac130002row5_col5\" class=\"data row5 col5\" >1</td> \n",
       "        <td id=\"T_17143ff6_659e_11e9_9848_0242ac130002row5_col6\" class=\"data row5 col6\" >0.07</td> \n",
       "        <td id=\"T_17143ff6_659e_11e9_9848_0242ac130002row5_col7\" class=\"data row5 col7\" >-0.0079</td> \n",
       "        <td id=\"T_17143ff6_659e_11e9_9848_0242ac130002row5_col8\" class=\"data row5 col8\" >0.026</td> \n",
       "        <td id=\"T_17143ff6_659e_11e9_9848_0242ac130002row5_col9\" class=\"data row5 col9\" >0.0057</td> \n",
       "        <td id=\"T_17143ff6_659e_11e9_9848_0242ac130002row5_col10\" class=\"data row5 col10\" >0.06</td> \n",
       "        <td id=\"T_17143ff6_659e_11e9_9848_0242ac130002row5_col11\" class=\"data row5 col11\" >0.14</td> \n",
       "        <td id=\"T_17143ff6_659e_11e9_9848_0242ac130002row5_col12\" class=\"data row5 col12\" >0.071</td> \n",
       "        <td id=\"T_17143ff6_659e_11e9_9848_0242ac130002row5_col13\" class=\"data row5 col13\" >0.059</td> \n",
       "        <td id=\"T_17143ff6_659e_11e9_9848_0242ac130002row5_col14\" class=\"data row5 col14\" >0.025</td> \n",
       "    </tr>    <tr> \n",
       "        <th id=\"T_17143ff6_659e_11e9_9848_0242ac130002level0_row6\" class=\"row_heading level0 row6\" >electrocardiographic</th> \n",
       "        <td id=\"T_17143ff6_659e_11e9_9848_0242ac130002row6_col0\" class=\"data row6 col0\" >0.15</td> \n",
       "        <td id=\"T_17143ff6_659e_11e9_9848_0242ac130002row6_col1\" class=\"data row6 col1\" >0.022</td> \n",
       "        <td id=\"T_17143ff6_659e_11e9_9848_0242ac130002row6_col2\" class=\"data row6 col2\" >0.068</td> \n",
       "        <td id=\"T_17143ff6_659e_11e9_9848_0242ac130002row6_col3\" class=\"data row6 col3\" >0.15</td> \n",
       "        <td id=\"T_17143ff6_659e_11e9_9848_0242ac130002row6_col4\" class=\"data row6 col4\" >0.17</td> \n",
       "        <td id=\"T_17143ff6_659e_11e9_9848_0242ac130002row6_col5\" class=\"data row6 col5\" >0.07</td> \n",
       "        <td id=\"T_17143ff6_659e_11e9_9848_0242ac130002row6_col6\" class=\"data row6 col6\" >1</td> \n",
       "        <td id=\"T_17143ff6_659e_11e9_9848_0242ac130002row6_col7\" class=\"data row6 col7\" >-0.083</td> \n",
       "        <td id=\"T_17143ff6_659e_11e9_9848_0242ac130002row6_col8\" class=\"data row6 col8\" >0.085</td> \n",
       "        <td id=\"T_17143ff6_659e_11e9_9848_0242ac130002row6_col9\" class=\"data row6 col9\" >0.11</td> \n",
       "        <td id=\"T_17143ff6_659e_11e9_9848_0242ac130002row6_col10\" class=\"data row6 col10\" >0.13</td> \n",
       "        <td id=\"T_17143ff6_659e_11e9_9848_0242ac130002row6_col11\" class=\"data row6 col11\" >0.13</td> \n",
       "        <td id=\"T_17143ff6_659e_11e9_9848_0242ac130002row6_col12\" class=\"data row6 col12\" >0.024</td> \n",
       "        <td id=\"T_17143ff6_659e_11e9_9848_0242ac130002row6_col13\" class=\"data row6 col13\" >0.18</td> \n",
       "        <td id=\"T_17143ff6_659e_11e9_9848_0242ac130002row6_col14\" class=\"data row6 col14\" >0.17</td> \n",
       "    </tr>    <tr> \n",
       "        <th id=\"T_17143ff6_659e_11e9_9848_0242ac130002level0_row7\" class=\"row_heading level0 row7\" >max_heart_rate</th> \n",
       "        <td id=\"T_17143ff6_659e_11e9_9848_0242ac130002row7_col0\" class=\"data row7 col0\" >-0.39</td> \n",
       "        <td id=\"T_17143ff6_659e_11e9_9848_0242ac130002row7_col1\" class=\"data row7 col1\" >-0.049</td> \n",
       "        <td id=\"T_17143ff6_659e_11e9_9848_0242ac130002row7_col2\" class=\"data row7 col2\" >-0.33</td> \n",
       "        <td id=\"T_17143ff6_659e_11e9_9848_0242ac130002row7_col3\" class=\"data row7 col3\" >-0.045</td> \n",
       "        <td id=\"T_17143ff6_659e_11e9_9848_0242ac130002row7_col4\" class=\"data row7 col4\" >-0.0034</td> \n",
       "        <td id=\"T_17143ff6_659e_11e9_9848_0242ac130002row7_col5\" class=\"data row7 col5\" >-0.0079</td> \n",
       "        <td id=\"T_17143ff6_659e_11e9_9848_0242ac130002row7_col6\" class=\"data row7 col6\" >-0.083</td> \n",
       "        <td id=\"T_17143ff6_659e_11e9_9848_0242ac130002row7_col7\" class=\"data row7 col7\" >1</td> \n",
       "        <td id=\"T_17143ff6_659e_11e9_9848_0242ac130002row7_col8\" class=\"data row7 col8\" >-0.38</td> \n",
       "        <td id=\"T_17143ff6_659e_11e9_9848_0242ac130002row7_col9\" class=\"data row7 col9\" >-0.34</td> \n",
       "        <td id=\"T_17143ff6_659e_11e9_9848_0242ac130002row7_col10\" class=\"data row7 col10\" >-0.39</td> \n",
       "        <td id=\"T_17143ff6_659e_11e9_9848_0242ac130002row7_col11\" class=\"data row7 col11\" >-0.26</td> \n",
       "        <td id=\"T_17143ff6_659e_11e9_9848_0242ac130002row7_col12\" class=\"data row7 col12\" >-0.28</td> \n",
       "        <td id=\"T_17143ff6_659e_11e9_9848_0242ac130002row7_col13\" class=\"data row7 col13\" >-0.42</td> \n",
       "        <td id=\"T_17143ff6_659e_11e9_9848_0242ac130002row7_col14\" class=\"data row7 col14\" >-0.42</td> \n",
       "    </tr>    <tr> \n",
       "        <th id=\"T_17143ff6_659e_11e9_9848_0242ac130002level0_row8\" class=\"row_heading level0 row8\" >induced_angina</th> \n",
       "        <td id=\"T_17143ff6_659e_11e9_9848_0242ac130002row8_col0\" class=\"data row8 col0\" >0.092</td> \n",
       "        <td id=\"T_17143ff6_659e_11e9_9848_0242ac130002row8_col1\" class=\"data row8 col1\" >0.15</td> \n",
       "        <td id=\"T_17143ff6_659e_11e9_9848_0242ac130002row8_col2\" class=\"data row8 col2\" >0.38</td> \n",
       "        <td id=\"T_17143ff6_659e_11e9_9848_0242ac130002row8_col3\" class=\"data row8 col3\" >0.065</td> \n",
       "        <td id=\"T_17143ff6_659e_11e9_9848_0242ac130002row8_col4\" class=\"data row8 col4\" >0.061</td> \n",
       "        <td id=\"T_17143ff6_659e_11e9_9848_0242ac130002row8_col5\" class=\"data row8 col5\" >0.026</td> \n",
       "        <td id=\"T_17143ff6_659e_11e9_9848_0242ac130002row8_col6\" class=\"data row8 col6\" >0.085</td> \n",
       "        <td id=\"T_17143ff6_659e_11e9_9848_0242ac130002row8_col7\" class=\"data row8 col7\" >-0.38</td> \n",
       "        <td id=\"T_17143ff6_659e_11e9_9848_0242ac130002row8_col8\" class=\"data row8 col8\" >1</td> \n",
       "        <td id=\"T_17143ff6_659e_11e9_9848_0242ac130002row8_col9\" class=\"data row8 col9\" >0.29</td> \n",
       "        <td id=\"T_17143ff6_659e_11e9_9848_0242ac130002row8_col10\" class=\"data row8 col10\" >0.26</td> \n",
       "        <td id=\"T_17143ff6_659e_11e9_9848_0242ac130002row8_col11\" class=\"data row8 col11\" >0.14</td> \n",
       "        <td id=\"T_17143ff6_659e_11e9_9848_0242ac130002row8_col12\" class=\"data row8 col12\" >0.33</td> \n",
       "        <td id=\"T_17143ff6_659e_11e9_9848_0242ac130002row8_col13\" class=\"data row8 col13\" >0.4</td> \n",
       "        <td id=\"T_17143ff6_659e_11e9_9848_0242ac130002row8_col14\" class=\"data row8 col14\" >0.43</td> \n",
       "    </tr>    <tr> \n",
       "        <th id=\"T_17143ff6_659e_11e9_9848_0242ac130002level0_row9\" class=\"row_heading level0 row9\" >ST_depression</th> \n",
       "        <td id=\"T_17143ff6_659e_11e9_9848_0242ac130002row9_col0\" class=\"data row9 col0\" >0.2</td> \n",
       "        <td id=\"T_17143ff6_659e_11e9_9848_0242ac130002row9_col1\" class=\"data row9 col1\" >0.1</td> \n",
       "        <td id=\"T_17143ff6_659e_11e9_9848_0242ac130002row9_col2\" class=\"data row9 col2\" >0.2</td> \n",
       "        <td id=\"T_17143ff6_659e_11e9_9848_0242ac130002row9_col3\" class=\"data row9 col3\" >0.19</td> \n",
       "        <td id=\"T_17143ff6_659e_11e9_9848_0242ac130002row9_col4\" class=\"data row9 col4\" >0.047</td> \n",
       "        <td id=\"T_17143ff6_659e_11e9_9848_0242ac130002row9_col5\" class=\"data row9 col5\" >0.0057</td> \n",
       "        <td id=\"T_17143ff6_659e_11e9_9848_0242ac130002row9_col6\" class=\"data row9 col6\" >0.11</td> \n",
       "        <td id=\"T_17143ff6_659e_11e9_9848_0242ac130002row9_col7\" class=\"data row9 col7\" >-0.34</td> \n",
       "        <td id=\"T_17143ff6_659e_11e9_9848_0242ac130002row9_col8\" class=\"data row9 col8\" >0.29</td> \n",
       "        <td id=\"T_17143ff6_659e_11e9_9848_0242ac130002row9_col9\" class=\"data row9 col9\" >1</td> \n",
       "        <td id=\"T_17143ff6_659e_11e9_9848_0242ac130002row9_col10\" class=\"data row9 col10\" >0.58</td> \n",
       "        <td id=\"T_17143ff6_659e_11e9_9848_0242ac130002row9_col11\" class=\"data row9 col11\" >0.29</td> \n",
       "        <td id=\"T_17143ff6_659e_11e9_9848_0242ac130002row9_col12\" class=\"data row9 col12\" >0.34</td> \n",
       "        <td id=\"T_17143ff6_659e_11e9_9848_0242ac130002row9_col13\" class=\"data row9 col13\" >0.5</td> \n",
       "        <td id=\"T_17143ff6_659e_11e9_9848_0242ac130002row9_col14\" class=\"data row9 col14\" >0.42</td> \n",
       "    </tr>    <tr> \n",
       "        <th id=\"T_17143ff6_659e_11e9_9848_0242ac130002level0_row10\" class=\"row_heading level0 row10\" >slope</th> \n",
       "        <td id=\"T_17143ff6_659e_11e9_9848_0242ac130002row10_col0\" class=\"data row10 col0\" >0.16</td> \n",
       "        <td id=\"T_17143ff6_659e_11e9_9848_0242ac130002row10_col1\" class=\"data row10 col1\" >0.038</td> \n",
       "        <td id=\"T_17143ff6_659e_11e9_9848_0242ac130002row10_col2\" class=\"data row10 col2\" >0.15</td> \n",
       "        <td id=\"T_17143ff6_659e_11e9_9848_0242ac130002row10_col3\" class=\"data row10 col3\" >0.12</td> \n",
       "        <td id=\"T_17143ff6_659e_11e9_9848_0242ac130002row10_col4\" class=\"data row10 col4\" >-0.0041</td> \n",
       "        <td id=\"T_17143ff6_659e_11e9_9848_0242ac130002row10_col5\" class=\"data row10 col5\" >0.06</td> \n",
       "        <td id=\"T_17143ff6_659e_11e9_9848_0242ac130002row10_col6\" class=\"data row10 col6\" >0.13</td> \n",
       "        <td id=\"T_17143ff6_659e_11e9_9848_0242ac130002row10_col7\" class=\"data row10 col7\" >-0.39</td> \n",
       "        <td id=\"T_17143ff6_659e_11e9_9848_0242ac130002row10_col8\" class=\"data row10 col8\" >0.26</td> \n",
       "        <td id=\"T_17143ff6_659e_11e9_9848_0242ac130002row10_col9\" class=\"data row10 col9\" >0.58</td> \n",
       "        <td id=\"T_17143ff6_659e_11e9_9848_0242ac130002row10_col10\" class=\"data row10 col10\" >1</td> \n",
       "        <td id=\"T_17143ff6_659e_11e9_9848_0242ac130002row10_col11\" class=\"data row10 col11\" >0.11</td> \n",
       "        <td id=\"T_17143ff6_659e_11e9_9848_0242ac130002row10_col12\" class=\"data row10 col12\" >0.29</td> \n",
       "        <td id=\"T_17143ff6_659e_11e9_9848_0242ac130002row10_col13\" class=\"data row10 col13\" >0.38</td> \n",
       "        <td id=\"T_17143ff6_659e_11e9_9848_0242ac130002row10_col14\" class=\"data row10 col14\" >0.34</td> \n",
       "    </tr>    <tr> \n",
       "        <th id=\"T_17143ff6_659e_11e9_9848_0242ac130002level0_row11\" class=\"row_heading level0 row11\" >vessels</th> \n",
       "        <td id=\"T_17143ff6_659e_11e9_9848_0242ac130002row11_col0\" class=\"data row11 col0\" >0.36</td> \n",
       "        <td id=\"T_17143ff6_659e_11e9_9848_0242ac130002row11_col1\" class=\"data row11 col1\" >0.093</td> \n",
       "        <td id=\"T_17143ff6_659e_11e9_9848_0242ac130002row11_col2\" class=\"data row11 col2\" >0.23</td> \n",
       "        <td id=\"T_17143ff6_659e_11e9_9848_0242ac130002row11_col3\" class=\"data row11 col3\" >0.099</td> \n",
       "        <td id=\"T_17143ff6_659e_11e9_9848_0242ac130002row11_col4\" class=\"data row11 col4\" >0.12</td> \n",
       "        <td id=\"T_17143ff6_659e_11e9_9848_0242ac130002row11_col5\" class=\"data row11 col5\" >0.14</td> \n",
       "        <td id=\"T_17143ff6_659e_11e9_9848_0242ac130002row11_col6\" class=\"data row11 col6\" >0.13</td> \n",
       "        <td id=\"T_17143ff6_659e_11e9_9848_0242ac130002row11_col7\" class=\"data row11 col7\" >-0.26</td> \n",
       "        <td id=\"T_17143ff6_659e_11e9_9848_0242ac130002row11_col8\" class=\"data row11 col8\" >0.14</td> \n",
       "        <td id=\"T_17143ff6_659e_11e9_9848_0242ac130002row11_col9\" class=\"data row11 col9\" >0.29</td> \n",
       "        <td id=\"T_17143ff6_659e_11e9_9848_0242ac130002row11_col10\" class=\"data row11 col10\" >0.11</td> \n",
       "        <td id=\"T_17143ff6_659e_11e9_9848_0242ac130002row11_col11\" class=\"data row11 col11\" >1</td> \n",
       "        <td id=\"T_17143ff6_659e_11e9_9848_0242ac130002row11_col12\" class=\"data row11 col12\" >0.25</td> \n",
       "        <td id=\"T_17143ff6_659e_11e9_9848_0242ac130002row11_col13\" class=\"data row11 col13\" >0.52</td> \n",
       "        <td id=\"T_17143ff6_659e_11e9_9848_0242ac130002row11_col14\" class=\"data row11 col14\" >0.46</td> \n",
       "    </tr>    <tr> \n",
       "        <th id=\"T_17143ff6_659e_11e9_9848_0242ac130002level0_row12\" class=\"row_heading level0 row12\" >thal</th> \n",
       "        <td id=\"T_17143ff6_659e_11e9_9848_0242ac130002row12_col0\" class=\"data row12 col0\" >0.13</td> \n",
       "        <td id=\"T_17143ff6_659e_11e9_9848_0242ac130002row12_col1\" class=\"data row12 col1\" >0.38</td> \n",
       "        <td id=\"T_17143ff6_659e_11e9_9848_0242ac130002row12_col2\" class=\"data row12 col2\" >0.26</td> \n",
       "        <td id=\"T_17143ff6_659e_11e9_9848_0242ac130002row12_col3\" class=\"data row12 col3\" >0.13</td> \n",
       "        <td id=\"T_17143ff6_659e_11e9_9848_0242ac130002row12_col4\" class=\"data row12 col4\" >0.014</td> \n",
       "        <td id=\"T_17143ff6_659e_11e9_9848_0242ac130002row12_col5\" class=\"data row12 col5\" >0.071</td> \n",
       "        <td id=\"T_17143ff6_659e_11e9_9848_0242ac130002row12_col6\" class=\"data row12 col6\" >0.024</td> \n",
       "        <td id=\"T_17143ff6_659e_11e9_9848_0242ac130002row12_col7\" class=\"data row12 col7\" >-0.28</td> \n",
       "        <td id=\"T_17143ff6_659e_11e9_9848_0242ac130002row12_col8\" class=\"data row12 col8\" >0.33</td> \n",
       "        <td id=\"T_17143ff6_659e_11e9_9848_0242ac130002row12_col9\" class=\"data row12 col9\" >0.34</td> \n",
       "        <td id=\"T_17143ff6_659e_11e9_9848_0242ac130002row12_col10\" class=\"data row12 col10\" >0.29</td> \n",
       "        <td id=\"T_17143ff6_659e_11e9_9848_0242ac130002row12_col11\" class=\"data row12 col11\" >0.25</td> \n",
       "        <td id=\"T_17143ff6_659e_11e9_9848_0242ac130002row12_col12\" class=\"data row12 col12\" >1</td> \n",
       "        <td id=\"T_17143ff6_659e_11e9_9848_0242ac130002row12_col13\" class=\"data row12 col13\" >0.51</td> \n",
       "        <td id=\"T_17143ff6_659e_11e9_9848_0242ac130002row12_col14\" class=\"data row12 col14\" >0.52</td> \n",
       "    </tr>    <tr> \n",
       "        <th id=\"T_17143ff6_659e_11e9_9848_0242ac130002level0_row13\" class=\"row_heading level0 row13\" >diagnosis</th> \n",
       "        <td id=\"T_17143ff6_659e_11e9_9848_0242ac130002row13_col0\" class=\"data row13 col0\" >0.22</td> \n",
       "        <td id=\"T_17143ff6_659e_11e9_9848_0242ac130002row13_col1\" class=\"data row13 col1\" >0.22</td> \n",
       "        <td id=\"T_17143ff6_659e_11e9_9848_0242ac130002row13_col2\" class=\"data row13 col2\" >0.41</td> \n",
       "        <td id=\"T_17143ff6_659e_11e9_9848_0242ac130002row13_col3\" class=\"data row13 col3\" >0.16</td> \n",
       "        <td id=\"T_17143ff6_659e_11e9_9848_0242ac130002row13_col4\" class=\"data row13 col4\" >0.071</td> \n",
       "        <td id=\"T_17143ff6_659e_11e9_9848_0242ac130002row13_col5\" class=\"data row13 col5\" >0.059</td> \n",
       "        <td id=\"T_17143ff6_659e_11e9_9848_0242ac130002row13_col6\" class=\"data row13 col6\" >0.18</td> \n",
       "        <td id=\"T_17143ff6_659e_11e9_9848_0242ac130002row13_col7\" class=\"data row13 col7\" >-0.42</td> \n",
       "        <td id=\"T_17143ff6_659e_11e9_9848_0242ac130002row13_col8\" class=\"data row13 col8\" >0.4</td> \n",
       "        <td id=\"T_17143ff6_659e_11e9_9848_0242ac130002row13_col9\" class=\"data row13 col9\" >0.5</td> \n",
       "        <td id=\"T_17143ff6_659e_11e9_9848_0242ac130002row13_col10\" class=\"data row13 col10\" >0.38</td> \n",
       "        <td id=\"T_17143ff6_659e_11e9_9848_0242ac130002row13_col11\" class=\"data row13 col11\" >0.52</td> \n",
       "        <td id=\"T_17143ff6_659e_11e9_9848_0242ac130002row13_col12\" class=\"data row13 col12\" >0.51</td> \n",
       "        <td id=\"T_17143ff6_659e_11e9_9848_0242ac130002row13_col13\" class=\"data row13 col13\" >1</td> \n",
       "        <td id=\"T_17143ff6_659e_11e9_9848_0242ac130002row13_col14\" class=\"data row13 col14\" >0.83</td> \n",
       "    </tr>    <tr> \n",
       "        <th id=\"T_17143ff6_659e_11e9_9848_0242ac130002level0_row14\" class=\"row_heading level0 row14\" >diag_int</th> \n",
       "        <td id=\"T_17143ff6_659e_11e9_9848_0242ac130002row14_col0\" class=\"data row14 col0\" >0.22</td> \n",
       "        <td id=\"T_17143ff6_659e_11e9_9848_0242ac130002row14_col1\" class=\"data row14 col1\" >0.28</td> \n",
       "        <td id=\"T_17143ff6_659e_11e9_9848_0242ac130002row14_col2\" class=\"data row14 col2\" >0.41</td> \n",
       "        <td id=\"T_17143ff6_659e_11e9_9848_0242ac130002row14_col3\" class=\"data row14 col3\" >0.15</td> \n",
       "        <td id=\"T_17143ff6_659e_11e9_9848_0242ac130002row14_col4\" class=\"data row14 col4\" >0.085</td> \n",
       "        <td id=\"T_17143ff6_659e_11e9_9848_0242ac130002row14_col5\" class=\"data row14 col5\" >0.025</td> \n",
       "        <td id=\"T_17143ff6_659e_11e9_9848_0242ac130002row14_col6\" class=\"data row14 col6\" >0.17</td> \n",
       "        <td id=\"T_17143ff6_659e_11e9_9848_0242ac130002row14_col7\" class=\"data row14 col7\" >-0.42</td> \n",
       "        <td id=\"T_17143ff6_659e_11e9_9848_0242ac130002row14_col8\" class=\"data row14 col8\" >0.43</td> \n",
       "        <td id=\"T_17143ff6_659e_11e9_9848_0242ac130002row14_col9\" class=\"data row14 col9\" >0.42</td> \n",
       "        <td id=\"T_17143ff6_659e_11e9_9848_0242ac130002row14_col10\" class=\"data row14 col10\" >0.34</td> \n",
       "        <td id=\"T_17143ff6_659e_11e9_9848_0242ac130002row14_col11\" class=\"data row14 col11\" >0.46</td> \n",
       "        <td id=\"T_17143ff6_659e_11e9_9848_0242ac130002row14_col12\" class=\"data row14 col12\" >0.52</td> \n",
       "        <td id=\"T_17143ff6_659e_11e9_9848_0242ac130002row14_col13\" class=\"data row14 col13\" >0.83</td> \n",
       "        <td id=\"T_17143ff6_659e_11e9_9848_0242ac130002row14_col14\" class=\"data row14 col14\" >1</td> \n",
       "    </tr></tbody> \n",
       "</table> "
      ],
      "text/plain": [
       "<pandas.io.formats.style.Styler at 0x7f830aa7e908>"
      ]
     },
     "execution_count": 39,
     "metadata": {},
     "output_type": "execute_result"
    }
   ],
   "source": [
    "#build heatmap\n",
    "\n",
    "cmap = sns.diverging_palette(250, 10, n=3, as_cmap=True)\n",
    "\n",
    "def magnify():\n",
    "    return [dict(selector=\"th\",\n",
    "                 props=[(\"font-size\", \"7pt\")]),\n",
    "            dict(selector=\"td\",\n",
    "                 props=[('padding', \"0em 0em\")]),\n",
    "            dict(selector=\"th:hover\",\n",
    "                 props=[(\"font-size\", \"12pt\")]),\n",
    "            dict(selector=\"tr:hover td:hover\",\n",
    "                 props=[('max-width', '200px'),\n",
    "                        ('font-size', '12pt')])\n",
    "]\n",
    "\n",
    "corr.style.background_gradient(cmap, axis=1)\\\n",
    "    .set_properties(**{'max-width': '80px', 'font-size': '10pt'})\\\n",
    "    .set_caption(\"Hover to magify\")\\\n",
    "    .set_precision(2)\\\n",
    "    .set_table_styles(magnify())"
   ]
  },
  {
   "cell_type": "markdown",
   "metadata": {},
   "source": [
    "## 9 Exploratory Visualization"
   ]
  },
  {
   "cell_type": "code",
   "execution_count": 40,
   "metadata": {},
   "outputs": [
    {
     "data": {
      "image/png": "[encoded data removed]",
      "text/plain": [
       "<Figure size 432x288 with 1 Axes>"
      ]
     },
     "metadata": {},
     "output_type": "display_data"
    }
   ],
   "source": [
    "import matplotlib.pyplot as plt\n",
    "%matplotlib inline\n",
    "\n",
    "plt.xlabel(\"age\")\n",
    "plt.ylabel(\"blood pressure\")\n",
    "\n",
    "# define title\n",
    "plt.title(\"Relationship between age and blood pressure\")\n",
    "\n",
    "# plot\n",
    "plt.scatter(heart['age'], heart['blood pressure'])\n",
    "plt.show()"
   ]
  },
  {
   "cell_type": "code",
   "execution_count": 41,
   "metadata": {},
   "outputs": [
    {
     "data": {
      "image/png": "[encoded data removed]",
      "text/plain": [
       "<Figure size 432x288 with 1 Axes>"
      ]
     },
     "metadata": {},
     "output_type": "display_data"
    }
   ],
   "source": [
    "plt.xlabel(\"age\")\n",
    "plt.ylabel(\"electrocardiographic\")\n",
    "\n",
    "# define title\n",
    "plt.title(\"Relationship between age and electrocardiographic\")\n",
    "\n",
    "# plot\n",
    "plt.scatter(heart['age'], heart['electrocardiographic'], color = 'red')\n",
    "plt.show()"
   ]
  },
  {
   "cell_type": "code",
   "execution_count": 42,
   "metadata": {},
   "outputs": [
    {
     "data": {
      "image/png": "[encoded data removed]",
      "text/plain": [
       "<Figure size 432x288 with 1 Axes>"
      ]
     },
     "metadata": {},
     "output_type": "display_data"
    }
   ],
   "source": [
    "plt.xlabel(\"age\")\n",
    "plt.ylabel(\"max_heart_rate\")\n",
    "\n",
    "# define title\n",
    "plt.title(\"Relationship between age and max_heart_rate\")\n",
    "\n",
    "# plot\n",
    "plt.scatter(heart['age'], heart['max_heart_rate'], color = 'green')\n",
    "plt.show()"
   ]
  },
  {
   "cell_type": "markdown",
   "metadata": {},
   "source": [
    "## 10 correlation search"
   ]
  },
  {
   "cell_type": "code",
   "execution_count": 43,
   "metadata": {},
   "outputs": [
    {
     "data": {
      "text/plain": [
       "<seaborn.axisgrid.PairGrid at 0x7f830ab17f28>"
      ]
     },
     "execution_count": 43,
     "metadata": {},
     "output_type": "execute_result"
    },
    {
     "data": {
      "image/png": "[encoded data removed]",
      "text/plain": [
       "<Figure size 288x288 with 1 Axes>"
      ]
     },
     "metadata": {},
     "output_type": "display_data"
    },
    {
     "data": {
      "image/png": "[encoded data removed]",
      "text/plain": [
       "<Figure size 288x288 with 1 Axes>"
      ]
     },
     "metadata": {},
     "output_type": "display_data"
    },
    {
     "data": {
      "image/png": "[encoded data removed]",
      "text/plain": [
       "<Figure size 288x288 with 1 Axes>"
      ]
     },
     "metadata": {},
     "output_type": "display_data"
    },
    {
     "data": {
      "image/png": "[encoded data removed]",
      "text/plain": [
       "<Figure size 288x288 with 1 Axes>"
      ]
     },
     "metadata": {},
     "output_type": "display_data"
    },
    {
     "data": {
      "image/png": "[encoded data removed]",
      "text/plain": [
       "<Figure size 288x288 with 1 Axes>"
      ]
     },
     "metadata": {},
     "output_type": "display_data"
    },
    {
     "data": {
      "image/png": "[encoded data removed]",
      "text/plain": [
       "<Figure size 288x288 with 1 Axes>"
      ]
     },
     "metadata": {},
     "output_type": "display_data"
    },
    {
     "data": {
      "image/png": "[encoded data removed]",
      "text/plain": [
       "<Figure size 288x288 with 1 Axes>"
      ]
     },
     "metadata": {},
     "output_type": "display_data"
    },
    {
     "data": {
      "image/png": "[encoded data removed]",
      "text/plain": [
       "<Figure size 288x288 with 1 Axes>"
      ]
     },
     "metadata": {},
     "output_type": "display_data"
    },
    {
     "data": {
      "image/png": "[encoded data removed]",
      "text/plain": [
       "<Figure size 288x288 with 1 Axes>"
      ]
     },
     "metadata": {},
     "output_type": "display_data"
    },
    {
     "data": {
      "image/png": "[encoded data removed]",
      "text/plain": [
       "<Figure size 288x288 with 1 Axes>"
      ]
     },
     "metadata": {},
     "output_type": "display_data"
    },
    {
     "data": {
      "image/png": "[encoded data removed]",
      "text/plain": [
       "<Figure size 288x288 with 1 Axes>"
      ]
     },
     "metadata": {},
     "output_type": "display_data"
    },
    {
     "data": {
      "image/png": "[encoded data removed]",
      "text/plain": [
       "<Figure size 288x288 with 1 Axes>"
      ]
     },
     "metadata": {},
     "output_type": "display_data"
    },
    {
     "data": {
      "image/png": "[encoded data removed]",
      "text/plain": [
       "<Figure size 288x288 with 1 Axes>"
      ]
     },
     "metadata": {},
     "output_type": "display_data"
    }
   ],
   "source": [
    "# search by the correlation between dependent variable and each feature\n",
    "\n",
    "df = heart\n",
    "g1 = sns.PairGrid(df, y_vars=[\"diag_int\"], x_vars=[\"age\"], height=4)\n",
    "g1.map(sns.regplot, color=\"blue\")\n",
    "\n",
    "g2 = sns.PairGrid(df, y_vars=[\"diag_int\"], x_vars=[\"sex\"], height=4)\n",
    "g2.map(sns.regplot, color=\"red\")\n",
    "\n",
    "g = sns.PairGrid(df, y_vars=[\"diag_int\"], x_vars=[\"chest_pain\"], height=4)\n",
    "g.map(sns.regplot, color=\"0.3\")\n",
    "\n",
    "gg = sns.PairGrid(df, y_vars=[\"diag_int\"], x_vars=[\"blood pressure\"], height=4)\n",
    "gg.map(sns.regplot, color=\"green\")\n",
    "\n",
    "g1 = sns.PairGrid(df, y_vars=[\"diag_int\"], x_vars=[\"serum_cholestoral\"], height=4)\n",
    "g1.map(sns.regplot, color=\"blue\")\n",
    "\n",
    "g2 = sns.PairGrid(df, y_vars=[\"diag_int\"], x_vars=[\"fasting_blood_sugar\"], height=4)\n",
    "g2.map(sns.regplot, color=\"red\")\n",
    "\n",
    "g = sns.PairGrid(df, y_vars=[\"diag_int\"], x_vars=[\"electrocardiographic\"], height=4)\n",
    "g.map(sns.regplot, color=\"0.3\")\n",
    "\n",
    "gg = sns.PairGrid(df, y_vars=[\"diag_int\"], x_vars=[\"max_heart_rate\"], height=4)\n",
    "gg.map(sns.regplot, color=\"green\")\n",
    "\n",
    "gg = sns.PairGrid(df, y_vars=[\"diag_int\"], x_vars=[\"induced_angina\"], height=4)\n",
    "gg.map(sns.regplot, color=\"green\")\n",
    "\n",
    "g1 = sns.PairGrid(df, y_vars=[\"diag_int\"], x_vars=[\"ST_depression\"], height=4)\n",
    "g1.map(sns.regplot, color=\"blue\")\n",
    "\n",
    "g2 = sns.PairGrid(df, y_vars=[\"diag_int\"], x_vars=[\"slope\"], height=4)\n",
    "g2.map(sns.regplot, color=\"red\")\n",
    "\n",
    "g = sns.PairGrid(df, y_vars=[\"diag_int\"], x_vars=[\"vessels\"], height=4)\n",
    "g.map(sns.regplot, color=\"0.3\")\n",
    "\n",
    "gg = sns.PairGrid(df, y_vars=[\"diag_int\"], x_vars=[\"thal\"], height=4)\n",
    "gg.map(sns.regplot, color=\"green\")"
   ]
  },
  {
   "cell_type": "markdown",
   "metadata": {},
   "source": [
    "#### From the charts above we can see that there are no correlation between each pair of symptoms. So, we should use them all for model building"
   ]
  },
  {
   "cell_type": "code",
   "execution_count": 44,
   "metadata": {},
   "outputs": [
    {
     "ename": "NameError",
     "evalue": "name 'true' is not defined",
     "output_type": "error",
     "traceback": [
      "\u001b[0;31m---------------------------------------------------------------------------\u001b[0m",
      "\u001b[0;31mNameError\u001b[0m                                 Traceback (most recent call last)",
      "\u001b[0;32m<ipython-input-44-ab650d2d82ca>\u001b[0m in \u001b[0;36m<module>\u001b[0;34m()\u001b[0m\n\u001b[1;32m     12\u001b[0m         \u001b[0;32mreturn\u001b[0m \u001b[0minputs\u001b[0m\u001b[0;34m\u001b[0m\u001b[0m\n\u001b[1;32m     13\u001b[0m \u001b[0;34m\u001b[0m\u001b[0m\n\u001b[0;32m---> 14\u001b[0;31m \u001b[0mtake_input\u001b[0m\u001b[0;34m(\u001b[0m\u001b[0mtrue\u001b[0m\u001b[0;34m)\u001b[0m\u001b[0;34m\u001b[0m\u001b[0m\n\u001b[0m",
      "\u001b[0;31mNameError\u001b[0m: name 'true' is not defined"
     ]
    }
   ],
   "source": [
    "def take_input(exists):\n",
    "    inputs = []\n",
    "    header_row = ['age','sex','chest_pain','blood pressure','serum_cholestoral','fasting_blood_sugar',\\\n",
    "               'electrocardiographic','max_heart_rate','induced_angina','ST_depression','slope','vessels',\\\n",
    "                'thal']\n",
    "    if exists:\n",
    "        return \n",
    "    else :\n",
    "        for n in range(0,13):\n",
    "            print(\"Enter value for \",header_row[n])\n",
    "            a = input()\n",
    "            inputs.append(a)\n",
    "        print(inputs)\n",
    "        return inputs \n",
    "\n",
    "take_input(true)"
   ]
  },
  {
   "cell_type": "markdown",
   "metadata": {},
   "source": [
    "## 11. Build training set and estimate the LSS parameters (Model 1)"
   ]
  },
  {
   "cell_type": "code",
   "execution_count": 45,
   "metadata": {},
   "outputs": [
    {
     "name": "stdout",
     "output_type": "stream",
     "text": [
      "Parameters for model ('hinge', 'l1', 0.1, 500)\n",
      "Linear regression SGD Cross-Validation scores:\n",
      "[0.54545455 0.63636364 0.63636364 0.53125    0.41935484 0.4137931\n",
      " 0.46428571 0.57142857 0.57142857 0.5       ]\n",
      "Mean Linear regression SGD Cross-Validation score =  0.5289722617482628\n",
      "Parameters for model ('hinge', 'l1', 0.1, 1000)\n",
      "Linear regression SGD Cross-Validation scores:\n",
      "[0.57575758 0.57575758 0.57575758 0.6875     0.51612903 0.4137931\n",
      " 0.53571429 0.60714286 0.60714286 0.53571429]\n",
      "Mean Linear regression SGD Cross-Validation score =  0.5630409148693353\n",
      "Parameters for model ('hinge', 'l1', 0.05, 500)\n",
      "Linear regression SGD Cross-Validation scores:\n",
      "[0.54545455 0.57575758 0.45454545 0.65625    0.58064516 0.37931034\n",
      " 0.46428571 0.60714286 0.53571429 0.5       ]\n",
      "Mean Linear regression SGD Cross-Validation score =  0.5299105939018343\n",
      "Parameters for model ('hinge', 'l1', 0.05, 1000)\n",
      "Linear regression SGD Cross-Validation scores:\n",
      "[0.66666667 0.54545455 0.63636364 0.59375    0.48387097 0.4137931\n",
      " 0.42857143 0.67857143 0.53571429 0.57142857]\n",
      "Mean Linear regression SGD Cross-Validation score =  0.5554184633960774\n",
      "Parameters for model ('hinge', 'l1', 0.01, 500)\n",
      "Linear regression SGD Cross-Validation scores:\n",
      "[0.48484848 0.57575758 0.51515152 0.59375    0.5483871  0.37931034\n",
      " 0.46428571 0.60714286 0.60714286 0.60714286]\n",
      "Mean Linear regression SGD Cross-Validation score =  0.538291930307364\n",
      "Parameters for model ('hinge', 'l1', 0.01, 1000)\n",
      "Linear regression SGD Cross-Validation scores:\n",
      "[0.57575758 0.51515152 0.51515152 0.65625    0.51612903 0.44827586\n",
      " 0.53571429 0.71428571 0.60714286 0.5       ]\n",
      "Mean Linear regression SGD Cross-Validation score =  0.5583858357530492\n",
      "Parameters for model ('hinge', 'l2', 0.1, 500)\n",
      "Linear regression SGD Cross-Validation scores:\n",
      "[0.54545455 0.60606061 0.24242424 0.625      0.48387097 0.4137931\n",
      " 0.5        0.60714286 0.57142857 0.57142857]\n",
      "Mean Linear regression SGD Cross-Validation score =  0.5166603465129604\n",
      "Parameters for model ('hinge', 'l2', 0.1, 1000)\n",
      "Linear regression SGD Cross-Validation scores:\n",
      "[0.63636364 0.3030303  0.57575758 0.625      0.67741935 0.51724138\n",
      " 0.28571429 0.71428571 0.53571429 0.57142857]\n",
      "Mean Linear regression SGD Cross-Validation score =  0.5441955106443426\n",
      "Parameters for model ('hinge', 'l2', 0.05, 500)\n",
      "Linear regression SGD Cross-Validation scores:\n",
      "[0.57575758 0.54545455 0.18181818 0.46875    0.58064516 0.55172414\n",
      " 0.53571429 0.64285714 0.57142857 0.57142857]\n",
      "Mean Linear regression SGD Cross-Validation score =  0.5225578173680231\n",
      "Parameters for model ('hinge', 'l2', 0.05, 1000)\n",
      "Linear regression SGD Cross-Validation scores:\n",
      "[0.57575758 0.57575758 0.51515152 0.25       0.5483871  0.27586207\n",
      " 0.64285714 0.64285714 0.57142857 0.64285714]\n",
      "Mean Linear regression SGD Cross-Validation score =  0.5240915832406378\n",
      "Parameters for model ('hinge', 'l2', 0.01, 500)\n",
      "Linear regression SGD Cross-Validation scores:\n",
      "[0.57575758 0.18181818 0.63636364 0.59375    0.48387097 0.34482759\n",
      " 0.57142857 0.57142857 0.5        0.39285714]\n",
      "Mean Linear regression SGD Cross-Validation score =  0.4852102233602512\n",
      "Parameters for model ('hinge', 'l2', 0.01, 1000)\n",
      "Linear regression SGD Cross-Validation scores:\n",
      "[0.54545455 0.57575758 0.21212121 0.5625     0.51612903 0.24137931\n",
      " 0.57142857 0.60714286 0.53571429 0.57142857]\n",
      "Mean Linear regression SGD Cross-Validation score =  0.4939055961650511\n",
      "Parameters for model ('log', 'l1', 0.1, 500)\n",
      "Linear regression SGD Cross-Validation scores:\n",
      "[0.57575758 0.60606061 0.57575758 0.46875    0.58064516 0.48275862\n",
      " 0.46428571 0.60714286 0.5        0.53571429]\n",
      "Mean Linear regression SGD Cross-Validation score =  0.5396872396698592\n",
      "Parameters for model ('log', 'l1', 0.1, 1000)\n",
      "Linear regression SGD Cross-Validation scores:\n",
      "[0.54545455 0.57575758 0.51515152 0.71875    0.5483871  0.31034483\n",
      " 0.57142857 0.57142857 0.57142857 0.5       ]\n",
      "Mean Linear regression SGD Cross-Validation score =  0.5428131275009751\n",
      "Parameters for model ('log', 'l1', 0.05, 500)\n",
      "Linear regression SGD Cross-Validation scores:\n",
      "[0.60606061 0.51515152 0.54545455 0.625      0.5483871  0.34482759\n",
      " 0.5        0.60714286 0.53571429 0.5       ]\n",
      "Mean Linear regression SGD Cross-Validation score =  0.53277384925049\n",
      "Parameters for model ('log', 'l1', 0.05, 1000)\n",
      "Linear regression SGD Cross-Validation scores:\n",
      "[0.54545455 0.51515152 0.54545455 0.5625     0.4516129  0.44827586\n",
      " 0.46428571 0.60714286 0.5        0.57142857]\n",
      "Mean Linear regression SGD Cross-Validation score =  0.521130651421252\n",
      "Parameters for model ('log', 'l1', 0.01, 500)\n",
      "Linear regression SGD Cross-Validation scores:\n",
      "[0.54545455 0.60606061 0.60606061 0.6875     0.61290323 0.34482759\n",
      " 0.46428571 0.64285714 0.53571429 0.60714286]\n",
      "Mean Linear regression SGD Cross-Validation score =  0.5652806569589105\n",
      "Parameters for model ('log', 'l1', 0.01, 1000)\n",
      "Linear regression SGD Cross-Validation scores:\n",
      "[0.57575758 0.60606061 0.54545455 0.65625    0.5483871  0.44827586\n",
      " 0.57142857 0.67857143 0.64285714 0.64285714]\n",
      "Mean Linear regression SGD Cross-Validation score =  0.5915899971830173\n",
      "Parameters for model ('log', 'l2', 0.1, 500)\n",
      "Linear regression SGD Cross-Validation scores:\n",
      "[0.57575758 0.54545455 0.54545455 0.625      0.51612903 0.5862069\n",
      " 0.5        0.60714286 0.53571429 0.60714286]\n",
      "Mean Linear regression SGD Cross-Validation score =  0.5644002595476454\n",
      "Parameters for model ('log', 'l2', 0.1, 1000)\n",
      "Linear regression SGD Cross-Validation scores:\n",
      "[0.51515152 0.60606061 0.54545455 0.65625    0.5483871  0.48275862\n",
      " 0.60714286 0.60714286 0.25       0.60714286]\n",
      "Mean Linear regression SGD Cross-Validation score =  0.5425490955559087\n",
      "Parameters for model ('log', 'l2', 0.05, 500)\n",
      "Linear regression SGD Cross-Validation scores:\n",
      "[0.54545455 0.51515152 0.51515152 0.59375    0.51612903 0.17241379\n",
      " 0.57142857 0.60714286 0.57142857 0.46428571]\n",
      "Mean Linear regression SGD Cross-Validation score =  0.5072336115404803\n",
      "Parameters for model ('log', 'l2', 0.05, 1000)\n",
      "Linear regression SGD Cross-Validation scores:\n",
      "[0.18181818 0.57575758 0.57575758 0.625      0.48387097 0.37931034\n",
      " 0.60714286 0.60714286 0.53571429 0.46428571]\n",
      "Mean Linear regression SGD Cross-Validation score =  0.5035800360188569\n",
      "Parameters for model ('log', 'l2', 0.01, 500)\n",
      "Linear regression SGD Cross-Validation scores:\n",
      "[0.60606061 0.60606061 0.60606061 0.5625     0.5483871  0.06896552\n",
      " 0.57142857 0.57142857 0.53571429 0.53571429]\n",
      "Mean Linear regression SGD Cross-Validation score =  0.5212320146483105\n",
      "Parameters for model ('log', 'l2', 0.01, 1000)\n",
      "Linear regression SGD Cross-Validation scores:\n",
      "[0.54545455 0.42424242 0.18181818 0.625      0.64516129 0.5862069\n",
      " 0.60714286 0.57142857 0.46428571 0.60714286]\n",
      "Mean Linear regression SGD Cross-Validation score =  0.5257883338389455\n",
      "The best parameters for model are  ('log', 'l1', 0.01, 1000)\n",
      "The Cross-Validation score =  0.5915899971830173\n"
     ]
    }
   ],
   "source": [
    "# add parameters for grid search\n",
    "loss = [\"hinge\", \"log\"]\n",
    "penalty = [\"l1\", \"l2\"]\n",
    "alpha = [0.1, 0.05, 0.01]\n",
    "max_iter = [500, 1000]\n",
    "\n",
    "# build the models with different parameters and select the best combination for the highest Accuracy\n",
    "best_score = 0\n",
    "best_param = (0,0,0,0)\n",
    "for l in loss:\n",
    "    for p in penalty:\n",
    "        for a in alpha:\n",
    "            for n in max_iter:\n",
    "                print(\"Parameters for model\", (l,p,a,n))\n",
    "                lss = SGDClassifier(loss=l, penalty=p, alpha=a, max_iter=n)\n",
    "                lss.fit(heart_train, goal_train)\n",
    "                print(\"Linear regression SGD Cross-Validation scores:\")\n",
    "                scores = model_selection.cross_val_score(lss, heart.loc[:,'age':'thal'], heart.loc[:,'diagnosis'], cv=10)\n",
    "                print (scores)\n",
    "                print(\"Mean Linear regression SGD Cross-Validation score = \", np.mean(scores))\n",
    "                \n",
    "                if np.mean(scores) > best_score:\n",
    "                    best_score = np.mean(scores)\n",
    "                    best_param = (l,p,a,n)\n",
    "                    \n",
    "    \n",
    "print(\"The best parameters for model are \", best_param)\n",
    "print(\"The Cross-Validation score = \", best_score)\n"
   ]
  },
  {
   "cell_type": "markdown",
   "metadata": {},
   "source": [
    "#### We can see that the best parameters are  ('log', 'l1', 0.01, 1000)"
   ]
  },
  {
   "cell_type": "code",
   "execution_count": 46,
   "metadata": {},
   "outputs": [
    {
     "name": "stdout",
     "output_type": "stream",
     "text": [
      "Linear regression SGD Test score:\n",
      "0.78\n"
     ]
    }
   ],
   "source": [
    "# develop the model with the best parameters\n",
    "\n",
    "lss_best = SGDClassifier(alpha=0.05, fit_intercept=True, loss='log', max_iter=1000,\n",
    "penalty='l1')\n",
    "lss_best.fit(heart_train, goal_train)\n",
    "print(\"Linear regression SGD Test score:\")\n",
    "print(lss_best.score(heart_test, goal_test))   "
   ]
  },
  {
   "cell_type": "code",
   "execution_count": 47,
   "metadata": {},
   "outputs": [
    {
     "data": {
      "text/html": [
       "<div>\n",
       "<style scoped>\n",
       "    .dataframe tbody tr th:only-of-type {\n",
       "        vertical-align: middle;\n",
       "    }\n",
       "\n",
       "    .dataframe tbody tr th {\n",
       "        vertical-align: top;\n",
       "    }\n",
       "\n",
       "    .dataframe thead th {\n",
       "        text-align: right;\n",
       "    }\n",
       "</style>\n",
       "<table border=\"1\" class=\"dataframe\">\n",
       "  <thead>\n",
       "    <tr style=\"text-align: right;\">\n",
       "      <th>diagnosis</th>\n",
       "      <th>0</th>\n",
       "      <th>1</th>\n",
       "      <th>2</th>\n",
       "      <th>3</th>\n",
       "      <th>4</th>\n",
       "    </tr>\n",
       "    <tr>\n",
       "      <th>sex</th>\n",
       "      <th></th>\n",
       "      <th></th>\n",
       "      <th></th>\n",
       "      <th></th>\n",
       "      <th></th>\n",
       "    </tr>\n",
       "  </thead>\n",
       "  <tbody>\n",
       "    <tr>\n",
       "      <th>0.0</th>\n",
       "      <td>72</td>\n",
       "      <td>9</td>\n",
       "      <td>7</td>\n",
       "      <td>7</td>\n",
       "      <td>2</td>\n",
       "    </tr>\n",
       "    <tr>\n",
       "      <th>1.0</th>\n",
       "      <td>92</td>\n",
       "      <td>46</td>\n",
       "      <td>29</td>\n",
       "      <td>28</td>\n",
       "      <td>11</td>\n",
       "    </tr>\n",
       "  </tbody>\n",
       "</table>\n",
       "</div>"
      ],
      "text/plain": [
       "diagnosis   0   1   2   3   4\n",
       "sex                          \n",
       "0.0        72   9   7   7   2\n",
       "1.0        92  46  29  28  11"
      ]
     },
     "execution_count": 47,
     "metadata": {},
     "output_type": "execute_result"
    }
   ],
   "source": [
    "abc = pnd.crosstab(heart['sex'],heart['diagnosis'])\n",
    "abc"
   ]
  },
  {
   "cell_type": "markdown",
   "metadata": {},
   "source": [
    "Number of males free from risk = 92 Number of females free from risk = 72"
   ]
  },
  {
   "cell_type": "code",
   "execution_count": 48,
   "metadata": {},
   "outputs": [
    {
     "data": {
      "text/plain": [
       "<matplotlib.axes._subplots.AxesSubplot at 0x7f8308b19c88>"
      ]
     },
     "execution_count": 48,
     "metadata": {},
     "output_type": "execute_result"
    },
    {
     "data": {
      "image/png": "[encoded data removed]",
      "text/plain": [
       "<Figure size 432x288 with 1 Axes>"
      ]
     },
     "metadata": {},
     "output_type": "display_data"
    }
   ],
   "source": [
    "abc.plot(kind='bar', stacked=False, color=['#f5b7b1','#a9cce3'])"
   ]
  },
  {
   "cell_type": "markdown",
   "metadata": {},
   "source": [
    "We should also see that how different ages can have the risk of heart attack\n",
    "Let us draw a barplot between age and target."
   ]
  },
  {
   "cell_type": "code",
   "execution_count": 49,
   "metadata": {},
   "outputs": [
    {
     "data": {
      "text/plain": [
       "<matplotlib.axes._subplots.AxesSubplot at 0x7f83089bc550>"
      ]
     },
     "execution_count": 49,
     "metadata": {},
     "output_type": "execute_result"
    },
    {
     "data": {
      "image/png": "[encoded data removed]",
      "text/plain": [
       "<Figure size 1080x576 with 1 Axes>"
      ]
     },
     "metadata": {},
     "output_type": "display_data"
    }
   ],
   "source": [
    "xyz = pnd.crosstab(heart.age,heart.diagnosis)\n",
    "xyz.plot(kind='bar',stacked=False,figsize=(15,8))"
   ]
  },
  {
   "cell_type": "markdown",
   "metadata": {},
   "source": [
    "## 12 Model evaluation\n"
   ]
  },
  {
   "cell_type": "code",
   "execution_count": 50,
   "metadata": {},
   "outputs": [
    {
     "name": "stdout",
     "output_type": "stream",
     "text": [
      "Confusion matrix, without normalization\n",
      "[[45  4]\n",
      " [18 33]]\n"
     ]
    },
    {
     "data": {
      "image/png": "[encoded data removed]",
      "text/plain": [
       "<Figure size 432x288 with 2 Axes>"
      ]
     },
     "metadata": {},
     "output_type": "display_data"
    }
   ],
   "source": [
    "# Compute confusion matrix\n",
    "cnf_matrix = confusion_matrix(goal_test, lss_best.predict(heart_test))\n",
    "np.set_printoptions(precision=2)\n",
    "\n",
    "# Plot non-normalized confusion matrix\n",
    "plt.figure()\n",
    "plot_confusion_matrix(cnf_matrix, classes=[\"Heart disease\", \"No heart disease\"],\n",
    "                      title='Confusion matrix, without normalization')\n",
    "plt.show()"
   ]
  },
  {
   "cell_type": "markdown",
   "metadata": {},
   "source": [
    "## 13 performance metrics\n",
    "\n",
    "-**Accuracy**: is the ratio between the number of correct predictions and total number of predications. \n",
    "\n",
    "$acc = \\frac{TP + TN}{TP + TN + FP + FN}$\n",
    "\n",
    "-**Precision**: is the ratio between the number of correct positives and the number of true positives plus the number of false positives.\n",
    "\n",
    "$Precision (p) = \\frac{TP}{TP + FP}$\n",
    "\n",
    "-**Recall**: is the ratio between the number of correct positives and the number of true positives plus the number of false negatives.\n",
    "\n",
    "$recall = \\frac{TP}{TP + FN}$\n",
    "\n",
    "-**F-score**: is known as the harmonic mean of precision and recall.\n",
    "\n",
    "$acc = \\frac{1}{\\frac{1}{2}(\\frac{1}{p}+\\frac{1}{r})} = \\frac{2pr}{p+r}$\n",
    "\n",
    "-Problem characteristics in context of our case study:\n",
    "\n",
    "TP = True positive (has heart disease).\n",
    "TN = True negative (has no heart disease).\n",
    "FP = False positive (has no heart disease)\n",
    "FN = False negative (has heart disease)\n"
   ]
  },
  {
   "cell_type": "code",
   "execution_count": 51,
   "metadata": {},
   "outputs": [
    {
     "data": {
      "text/plain": [
       "{'accuracy': 0.7700534759358288,\n",
       " 'f1': 0.7430499325236167,\n",
       " 'precision': 0.8102272727272727,\n",
       " 'recall': 0.6666666666666666}"
      ]
     },
     "execution_count": 51,
     "metadata": {},
     "output_type": "execute_result"
    }
   ],
   "source": [
    "#get the performance metrics\n",
    "scores = ['accuracy', 'f1', 'precision', 'recall']\n",
    "\n",
    "metrics = {score: model_selection.cross_val_score(lss_best,heart_test, goal_test, scoring=score).mean() for score in scores}\n",
    "\n",
    "metrics"
   ]
  },
  {
   "cell_type": "markdown",
   "metadata": {
    "collapsed": true
   },
   "source": [
    "## 14 Probability for test data calculation"
   ]
  },
  {
   "cell_type": "code",
   "execution_count": 52,
   "metadata": {},
   "outputs": [
    {
     "name": "stdout",
     "output_type": "stream",
     "text": [
      "1.4468176629574408e-77\n",
      "0.9999999997027331\n",
      "1.6151361573564707e-10\n",
      "8.540351276416917e-56\n",
      "1.537948844500851e-44\n",
      "0.9999999999999789\n",
      "1.0\n",
      "0.07713021880515118\n",
      "1.0\n",
      "3.636909797773694e-47\n"
     ]
    }
   ],
   "source": [
    "# predict heart disease for test dataset\n",
    "y_pred_proba = lss_best.predict_proba(heart_test)\n",
    "y_pred_proba = [x[1] for x in y_pred_proba]\n",
    "for i in y_pred_proba[:10]:\n",
    "    print (i)"
   ]
  },
  {
   "cell_type": "code",
   "execution_count": 53,
   "metadata": {},
   "outputs": [
    {
     "data": {
      "text/plain": [
       "array([0, 1, 0, 0, 0, 1, 1, 0, 1, 0, 0, 0, 1, 1, 0, 0, 1, 0, 0, 0, 0, 0,\n",
       "       0, 1, 0])"
      ]
     },
     "execution_count": 53,
     "metadata": {},
     "output_type": "execute_result"
    }
   ],
   "source": [
    "# predict heart disease for test dataset\n",
    "y_pred = lss_best.predict(heart_test)\n",
    "y_pred[:25]"
   ]
  },
  {
   "cell_type": "code",
   "execution_count": 54,
   "metadata": {},
   "outputs": [
    {
     "data": {
      "text/html": [
       "<div>\n",
       "<style scoped>\n",
       "    .dataframe tbody tr th:only-of-type {\n",
       "        vertical-align: middle;\n",
       "    }\n",
       "\n",
       "    .dataframe tbody tr th {\n",
       "        vertical-align: top;\n",
       "    }\n",
       "\n",
       "    .dataframe thead th {\n",
       "        text-align: right;\n",
       "    }\n",
       "</style>\n",
       "<table border=\"1\" class=\"dataframe\">\n",
       "  <thead>\n",
       "    <tr style=\"text-align: right;\">\n",
       "      <th></th>\n",
       "      <th>age</th>\n",
       "      <th>sex</th>\n",
       "      <th>chest_pain</th>\n",
       "      <th>blood pressure</th>\n",
       "      <th>serum_cholestoral</th>\n",
       "      <th>fasting_blood_sugar</th>\n",
       "      <th>electrocardiographic</th>\n",
       "      <th>max_heart_rate</th>\n",
       "      <th>induced_angina</th>\n",
       "      <th>ST_depression</th>\n",
       "      <th>slope</th>\n",
       "      <th>vessels</th>\n",
       "      <th>thal</th>\n",
       "      <th>Disease_probability</th>\n",
       "    </tr>\n",
       "  </thead>\n",
       "  <tbody>\n",
       "    <tr>\n",
       "      <th>225</th>\n",
       "      <td>34.0</td>\n",
       "      <td>0.0</td>\n",
       "      <td>2.0</td>\n",
       "      <td>118.0</td>\n",
       "      <td>210.0</td>\n",
       "      <td>0.0</td>\n",
       "      <td>0.0</td>\n",
       "      <td>192.0</td>\n",
       "      <td>0.0</td>\n",
       "      <td>0.7</td>\n",
       "      <td>1.0</td>\n",
       "      <td>0.0</td>\n",
       "      <td>3.0</td>\n",
       "      <td>1.446818e-77</td>\n",
       "    </tr>\n",
       "    <tr>\n",
       "      <th>152</th>\n",
       "      <td>67.0</td>\n",
       "      <td>0.0</td>\n",
       "      <td>3.0</td>\n",
       "      <td>115.0</td>\n",
       "      <td>564.0</td>\n",
       "      <td>0.0</td>\n",
       "      <td>2.0</td>\n",
       "      <td>160.0</td>\n",
       "      <td>0.0</td>\n",
       "      <td>1.6</td>\n",
       "      <td>2.0</td>\n",
       "      <td>0.0</td>\n",
       "      <td>7.0</td>\n",
       "      <td>1.000000e+00</td>\n",
       "    </tr>\n",
       "    <tr>\n",
       "      <th>228</th>\n",
       "      <td>54.0</td>\n",
       "      <td>1.0</td>\n",
       "      <td>4.0</td>\n",
       "      <td>110.0</td>\n",
       "      <td>206.0</td>\n",
       "      <td>0.0</td>\n",
       "      <td>2.0</td>\n",
       "      <td>108.0</td>\n",
       "      <td>1.0</td>\n",
       "      <td>0.0</td>\n",
       "      <td>2.0</td>\n",
       "      <td>1.0</td>\n",
       "      <td>3.0</td>\n",
       "      <td>1.615136e-10</td>\n",
       "    </tr>\n",
       "    <tr>\n",
       "      <th>201</th>\n",
       "      <td>64.0</td>\n",
       "      <td>0.0</td>\n",
       "      <td>4.0</td>\n",
       "      <td>180.0</td>\n",
       "      <td>325.0</td>\n",
       "      <td>0.0</td>\n",
       "      <td>0.0</td>\n",
       "      <td>154.0</td>\n",
       "      <td>1.0</td>\n",
       "      <td>0.0</td>\n",
       "      <td>1.0</td>\n",
       "      <td>0.0</td>\n",
       "      <td>3.0</td>\n",
       "      <td>8.540351e-56</td>\n",
       "    </tr>\n",
       "    <tr>\n",
       "      <th>52</th>\n",
       "      <td>44.0</td>\n",
       "      <td>1.0</td>\n",
       "      <td>4.0</td>\n",
       "      <td>112.0</td>\n",
       "      <td>290.0</td>\n",
       "      <td>0.0</td>\n",
       "      <td>2.0</td>\n",
       "      <td>153.0</td>\n",
       "      <td>0.0</td>\n",
       "      <td>0.0</td>\n",
       "      <td>1.0</td>\n",
       "      <td>1.0</td>\n",
       "      <td>3.0</td>\n",
       "      <td>1.537949e-44</td>\n",
       "    </tr>\n",
       "  </tbody>\n",
       "</table>\n",
       "</div>"
      ],
      "text/plain": [
       "      age  sex         ...           thal  Disease_probability\n",
       "225  34.0  0.0         ...            3.0         1.446818e-77\n",
       "152  67.0  0.0         ...            7.0         1.000000e+00\n",
       "228  54.0  1.0         ...            3.0         1.615136e-10\n",
       "201  64.0  0.0         ...            3.0         8.540351e-56\n",
       "52   44.0  1.0         ...            3.0         1.537949e-44\n",
       "\n",
       "[5 rows x 14 columns]"
      ]
     },
     "execution_count": 54,
     "metadata": {},
     "output_type": "execute_result"
    }
   ],
   "source": [
    "test_df = pnd.DataFrame(heart_test, columns = header_row[:-1])\n",
    "\n",
    "test_df.loc[:, \"Disease_probability\"] = [x[1] for x in lss_best.predict_proba(heart_test)]\n",
    "test_df.to_excel(\"disease_probability.xlsx\", index = False)\n",
    "test_df[:5]"
   ]
  },
  {
   "cell_type": "markdown",
   "metadata": {},
   "source": [
    "## 15 Features coefficients printing"
   ]
  },
  {
   "cell_type": "code",
   "execution_count": 55,
   "metadata": {},
   "outputs": [
    {
     "name": "stdout",
     "output_type": "stream",
     "text": [
      "Weight Coefficients\n"
     ]
    },
    {
     "data": {
      "text/html": [
       "<div>\n",
       "<style scoped>\n",
       "    .dataframe tbody tr th:only-of-type {\n",
       "        vertical-align: middle;\n",
       "    }\n",
       "\n",
       "    .dataframe tbody tr th {\n",
       "        vertical-align: top;\n",
       "    }\n",
       "\n",
       "    .dataframe thead th {\n",
       "        text-align: right;\n",
       "    }\n",
       "</style>\n",
       "<table border=\"1\" class=\"dataframe\">\n",
       "  <thead>\n",
       "    <tr style=\"text-align: right;\">\n",
       "      <th></th>\n",
       "      <th>X_k</th>\n",
       "      <th>coeff</th>\n",
       "    </tr>\n",
       "  </thead>\n",
       "  <tbody>\n",
       "    <tr>\n",
       "      <th>0</th>\n",
       "      <td>age</td>\n",
       "      <td>0.000000</td>\n",
       "    </tr>\n",
       "    <tr>\n",
       "      <th>1</th>\n",
       "      <td>sex</td>\n",
       "      <td>0.000000</td>\n",
       "    </tr>\n",
       "    <tr>\n",
       "      <th>2</th>\n",
       "      <td>chest_pain</td>\n",
       "      <td>8.857076</td>\n",
       "    </tr>\n",
       "    <tr>\n",
       "      <th>3</th>\n",
       "      <td>blood pressure</td>\n",
       "      <td>-0.206343</td>\n",
       "    </tr>\n",
       "    <tr>\n",
       "      <th>4</th>\n",
       "      <td>serum_cholestoral</td>\n",
       "      <td>0.000000</td>\n",
       "    </tr>\n",
       "    <tr>\n",
       "      <th>5</th>\n",
       "      <td>fasting_blood_sugar</td>\n",
       "      <td>0.000000</td>\n",
       "    </tr>\n",
       "    <tr>\n",
       "      <th>6</th>\n",
       "      <td>electrocardiographic</td>\n",
       "      <td>0.000000</td>\n",
       "    </tr>\n",
       "    <tr>\n",
       "      <th>7</th>\n",
       "      <td>max_heart_rate</td>\n",
       "      <td>-1.460727</td>\n",
       "    </tr>\n",
       "    <tr>\n",
       "      <th>8</th>\n",
       "      <td>induced_angina</td>\n",
       "      <td>3.909732</td>\n",
       "    </tr>\n",
       "    <tr>\n",
       "      <th>9</th>\n",
       "      <td>ST_depression</td>\n",
       "      <td>20.297870</td>\n",
       "    </tr>\n",
       "    <tr>\n",
       "      <th>10</th>\n",
       "      <td>slope</td>\n",
       "      <td>8.281732</td>\n",
       "    </tr>\n",
       "    <tr>\n",
       "      <th>11</th>\n",
       "      <td>vessels</td>\n",
       "      <td>14.334340</td>\n",
       "    </tr>\n",
       "    <tr>\n",
       "      <th>12</th>\n",
       "      <td>thal</td>\n",
       "      <td>29.024223</td>\n",
       "    </tr>\n",
       "  </tbody>\n",
       "</table>\n",
       "</div>"
      ],
      "text/plain": [
       "                     X_k      coeff\n",
       "0                    age   0.000000\n",
       "1                    sex   0.000000\n",
       "2             chest_pain   8.857076\n",
       "3         blood pressure  -0.206343\n",
       "4      serum_cholestoral   0.000000\n",
       "5    fasting_blood_sugar   0.000000\n",
       "6   electrocardiographic   0.000000\n",
       "7         max_heart_rate  -1.460727\n",
       "8         induced_angina   3.909732\n",
       "9          ST_depression  20.297870\n",
       "10                 slope   8.281732\n",
       "11               vessels  14.334340\n",
       "12                  thal  29.024223"
      ]
     },
     "execution_count": 55,
     "metadata": {},
     "output_type": "execute_result"
    }
   ],
   "source": [
    "# print weights for each X_k from the built  LSS model\n",
    "w = lss_best.coef_[0]\n",
    "a = -w[0] / w[1]\n",
    "print (\"Weight Coefficients\")\n",
    "coeff_df = pnd.DataFrame(columns = ['X_k', 'coeff'])\n",
    "for c in range(len(heart.loc[:,'age':'thal'].columns)):\n",
    "    coeff_df.loc[len(coeff_df)] = [heart.loc[:,'age':'thal'].columns[c], w[c]]\n",
    "    \n",
    "coeff_df"
   ]
  },
  {
   "cell_type": "markdown",
   "metadata": {},
   "source": [
    "## 16 Model 2: Decision tree"
   ]
  },
  {
   "cell_type": "code",
   "execution_count": 56,
   "metadata": {},
   "outputs": [
    {
     "name": "stdout",
     "output_type": "stream",
     "text": [
      "Decision tree Cross-Validation scores:\n",
      "[0.81 0.84 0.9  0.81 0.73 0.77 0.63 0.73 0.77 0.76]\n",
      "Mean Decision tree Cross-Validation score =  0.7746792732665925\n",
      "Decision tree Cross-Validation scores:\n",
      "[0.84 0.84 0.84 0.87 0.7  0.77 0.6  0.8  0.77 0.72]\n",
      "Mean Decision tree Cross-Validation score =  0.7744568038561365\n",
      "The best parameters for model are  gini\n",
      "The Cross-Validation score =  0.7746792732665925\n"
     ]
    }
   ],
   "source": [
    "# build Decision tree model\n",
    "best_score_dt = 0\n",
    "\n",
    "criterion = ['gini', 'entropy']\n",
    "\n",
    "for c in criterion:             \n",
    "\n",
    "            clf = tree.DecisionTreeClassifier(criterion=c)\n",
    "\n",
    "            clf.fit(heart_train, goal_train)\n",
    "            print(\"Decision tree Cross-Validation scores:\")\n",
    "            scores = model_selection.cross_val_score(clf, heart.loc[:,'age':'thal'], heart.loc[:,'diag_int'], cv=10)\n",
    "            print (scores)\n",
    "            print(\"Mean Decision tree Cross-Validation score = \", np.mean(scores))\n",
    "\n",
    "            if np.mean(scores) > best_score_dt:\n",
    "                best_score_dt = np.mean(scores)\n",
    "                best_param_dt = (c)\n",
    "                    \n",
    "    \n",
    "print(\"The best parameters for model are \", best_param_dt)\n",
    "print(\"The Cross-Validation score = \", best_score_dt)"
   ]
  },
  {
   "cell_type": "code",
   "execution_count": 57,
   "metadata": {},
   "outputs": [
    {
     "name": "stdout",
     "output_type": "stream",
     "text": [
      "Decision tree Test score:\n",
      "0.73\n"
     ]
    }
   ],
   "source": [
    "# develop the model with the best parameters\n",
    "\n",
    "lss_best_dt = tree.DecisionTreeClassifier(criterion = 'entropy')\n",
    "lss_best_dt.fit(heart_train, goal_train)\n",
    "dt= lss_best_dt.predict(heart_test)\n",
    "print(\"Decision tree Test score:\")\n",
    "print(lss_best_dt.score(heart_test, goal_test))"
   ]
  },
  {
   "cell_type": "code",
   "execution_count": 58,
   "metadata": {},
   "outputs": [
    {
     "name": "stdout",
     "output_type": "stream",
     "text": [
      "Confusion matrix, without normalization\n",
      "[[40  9]\n",
      " [18 33]]\n"
     ]
    },
    {
     "data": {
      "image/png": "[encoded data removed]",
      "text/plain": [
       "<Figure size 432x288 with 2 Axes>"
      ]
     },
     "metadata": {},
     "output_type": "display_data"
    }
   ],
   "source": [
    "# Compute confusion matrix\n",
    "cnf_matrix = confusion_matrix(goal_test, lss_best_dt.predict(heart_test))\n",
    "np.set_printoptions(precision=2)\n",
    "\n",
    "# Plot non-normalized confusion matrix\n",
    "plt.figure()\n",
    "plot_confusion_matrix(cnf_matrix, classes=[\"Heart disease\", \"No heart disease\"],\n",
    "                      title='Confusion matrix, without normalization')\n",
    "plt.show()"
   ]
  },
  {
   "cell_type": "code",
   "execution_count": 59,
   "metadata": {},
   "outputs": [],
   "source": [
    "visualize_tree(lss_best_dt, heart.loc[:,'age':'thal'].columns)"
   ]
  },
  {
   "cell_type": "code",
   "execution_count": 60,
   "metadata": {},
   "outputs": [
    {
     "ename": "ModuleNotFoundError",
     "evalue": "No module named 'pydotplus'",
     "output_type": "error",
     "traceback": [
      "\u001b[0;31m---------------------------------------------------------------------------\u001b[0m",
      "\u001b[0;31mModuleNotFoundError\u001b[0m                       Traceback (most recent call last)",
      "\u001b[0;32m<ipython-input-60-81c22626314c>\u001b[0m in \u001b[0;36m<module>\u001b[0;34m()\u001b[0m\n\u001b[1;32m      1\u001b[0m \u001b[0;32mfrom\u001b[0m \u001b[0mIPython\u001b[0m\u001b[0;34m.\u001b[0m\u001b[0mdisplay\u001b[0m \u001b[0;32mimport\u001b[0m \u001b[0mImage\u001b[0m\u001b[0;34m\u001b[0m\u001b[0m\n\u001b[0;32m----> 2\u001b[0;31m \u001b[0;32mimport\u001b[0m \u001b[0mpydotplus\u001b[0m\u001b[0;34m\u001b[0m\u001b[0m\n\u001b[0m\u001b[1;32m      3\u001b[0m \u001b[0mdot_data\u001b[0m \u001b[0;34m=\u001b[0m \u001b[0mtree\u001b[0m\u001b[0;34m.\u001b[0m\u001b[0mexport_graphviz\u001b[0m\u001b[0;34m(\u001b[0m\u001b[0mlss_best_dt\u001b[0m\u001b[0;34m)\u001b[0m\u001b[0;34m\u001b[0m\u001b[0m\n\u001b[1;32m      4\u001b[0m \u001b[0mgraph\u001b[0m \u001b[0;34m=\u001b[0m \u001b[0mpydotplus\u001b[0m\u001b[0;34m.\u001b[0m\u001b[0mgraphviz\u001b[0m\u001b[0;34m.\u001b[0m\u001b[0mgraph_from_dot_file\u001b[0m\u001b[0;34m(\u001b[0m\u001b[0;34m\"dt.dot\"\u001b[0m\u001b[0;34m)\u001b[0m\u001b[0;34m\u001b[0m\u001b[0m\n\u001b[1;32m      5\u001b[0m \u001b[0mgraph\u001b[0m\u001b[0;34m.\u001b[0m\u001b[0mwrite_pdf\u001b[0m\u001b[0;34m(\u001b[0m\u001b[0;34m\"dt.pdf\"\u001b[0m\u001b[0;34m)\u001b[0m\u001b[0;34m\u001b[0m\u001b[0m\n",
      "\u001b[0;31mModuleNotFoundError\u001b[0m: No module named 'pydotplus'"
     ]
    }
   ],
   "source": [
    "from IPython.display import Image  \n",
    "import pydotplus \n",
    "dot_data = tree.export_graphviz(lss_best_dt)\n",
    "graph = pydotplus.graphviz.graph_from_dot_file(\"dt.dot\")\n",
    "graph.write_pdf(\"dt.pdf\")\n",
    "Image(graph.create_png())"
   ]
  },
  {
   "cell_type": "markdown",
   "metadata": {},
   "source": [
    "## 17 Return probabilities for each feature X_s"
   ]
  },
  {
   "cell_type": "code",
   "execution_count": 61,
   "metadata": {},
   "outputs": [
    {
     "data": {
      "text/html": [
       "<div>\n",
       "<style scoped>\n",
       "    .dataframe tbody tr th:only-of-type {\n",
       "        vertical-align: middle;\n",
       "    }\n",
       "\n",
       "    .dataframe tbody tr th {\n",
       "        vertical-align: top;\n",
       "    }\n",
       "\n",
       "    .dataframe thead th {\n",
       "        text-align: right;\n",
       "    }\n",
       "</style>\n",
       "<table border=\"1\" class=\"dataframe\">\n",
       "  <thead>\n",
       "    <tr style=\"text-align: right;\">\n",
       "      <th></th>\n",
       "      <th>X_k</th>\n",
       "      <th>P(X_k)</th>\n",
       "    </tr>\n",
       "  </thead>\n",
       "  <tbody>\n",
       "    <tr>\n",
       "      <th>0</th>\n",
       "      <td>age</td>\n",
       "      <td>0.151299</td>\n",
       "    </tr>\n",
       "    <tr>\n",
       "      <th>1</th>\n",
       "      <td>sex</td>\n",
       "      <td>0.000000</td>\n",
       "    </tr>\n",
       "    <tr>\n",
       "      <th>2</th>\n",
       "      <td>chest_pain</td>\n",
       "      <td>0.095529</td>\n",
       "    </tr>\n",
       "    <tr>\n",
       "      <th>3</th>\n",
       "      <td>blood pressure</td>\n",
       "      <td>0.053624</td>\n",
       "    </tr>\n",
       "    <tr>\n",
       "      <th>4</th>\n",
       "      <td>serum_cholestoral</td>\n",
       "      <td>0.092095</td>\n",
       "    </tr>\n",
       "    <tr>\n",
       "      <th>5</th>\n",
       "      <td>fasting_blood_sugar</td>\n",
       "      <td>0.000000</td>\n",
       "    </tr>\n",
       "    <tr>\n",
       "      <th>6</th>\n",
       "      <td>electrocardiographic</td>\n",
       "      <td>0.019960</td>\n",
       "    </tr>\n",
       "    <tr>\n",
       "      <th>7</th>\n",
       "      <td>max_heart_rate</td>\n",
       "      <td>0.062856</td>\n",
       "    </tr>\n",
       "    <tr>\n",
       "      <th>8</th>\n",
       "      <td>induced_angina</td>\n",
       "      <td>0.058448</td>\n",
       "    </tr>\n",
       "    <tr>\n",
       "      <th>9</th>\n",
       "      <td>ST_depression</td>\n",
       "      <td>0.194875</td>\n",
       "    </tr>\n",
       "    <tr>\n",
       "      <th>10</th>\n",
       "      <td>slope</td>\n",
       "      <td>0.021572</td>\n",
       "    </tr>\n",
       "    <tr>\n",
       "      <th>11</th>\n",
       "      <td>vessels</td>\n",
       "      <td>0.000000</td>\n",
       "    </tr>\n",
       "    <tr>\n",
       "      <th>12</th>\n",
       "      <td>thal</td>\n",
       "      <td>0.249742</td>\n",
       "    </tr>\n",
       "  </tbody>\n",
       "</table>\n",
       "</div>"
      ],
      "text/plain": [
       "                     X_k    P(X_k)\n",
       "0                    age  0.151299\n",
       "1                    sex  0.000000\n",
       "2             chest_pain  0.095529\n",
       "3         blood pressure  0.053624\n",
       "4      serum_cholestoral  0.092095\n",
       "5    fasting_blood_sugar  0.000000\n",
       "6   electrocardiographic  0.019960\n",
       "7         max_heart_rate  0.062856\n",
       "8         induced_angina  0.058448\n",
       "9          ST_depression  0.194875\n",
       "10                 slope  0.021572\n",
       "11               vessels  0.000000\n",
       "12                  thal  0.249742"
      ]
     },
     "execution_count": 61,
     "metadata": {},
     "output_type": "execute_result"
    }
   ],
   "source": [
    "# the probability of reaching each node for each X_k by using Decision trees\n",
    "\n",
    "# print weights for each X_k from the built  LSS model\n",
    "w = lss_best_dt.feature_importances_\n",
    "\n",
    "prob_df = pnd.DataFrame(columns = ['X_k', 'P(X_k)'])\n",
    "for c in range(len(heart.loc[:,'age':'thal'].columns)):\n",
    "    prob_df.loc[len(prob_df)] = [heart.loc[:,'age':'thal'].columns[c], w[c]]\n",
    "    \n",
    "prob_df"
   ]
  },
  {
   "cell_type": "code",
   "execution_count": 62,
   "metadata": {},
   "outputs": [
    {
     "name": "stdout",
     "output_type": "stream",
     "text": [
      "Sum of dependent probabilities =  0.9999999999999999\n"
     ]
    }
   ],
   "source": [
    "print (\"Sum of dependent probabilities = \" , prob_df[\"P(X_k)\"].sum())"
   ]
  },
  {
   "cell_type": "markdown",
   "metadata": {},
   "source": [
    "# Develop a module to combine all the above modules in a sequential manner\n"
   ]
  },
  {
   "cell_type": "code",
   "execution_count": 63,
   "metadata": {},
   "outputs": [
    {
     "name": "stdout",
     "output_type": "stream",
     "text": [
      "The best parameters for model are  ('hinge', 'l2', 0.05, 1000)\n",
      "The Cross-Validation score =  0.5904523243719573\n",
      "Linear regression SGD Test score:\n",
      "0.53\n"
     ]
    }
   ],
   "source": [
    "import pandas as pnd\n",
    "def data_parsing(path):\n",
    "    header_row = ['age','sex','chest_pain','blood pressure','serum_cholestoral','fasting_blood_sugar',\\\n",
    "               'electrocardiographic','max_heart_rate','induced_angina','ST_depression','slope','vessels','thal','diagnosis']\n",
    "\n",
    "    # read csv file with Cleveland heart diseases data\n",
    "    heart = pnd.read_csv(path, names=header_row)\n",
    "    \n",
    "    # we have unknown values '?'\n",
    "    # change unrecognized value '?' into mean value through the column\n",
    "    for c in heart.columns[:-1]:\n",
    "        heart[c] = heart[c].apply(lambda x: heart[heart[c]!='?'][c].astype(float).mean() if x == \"?\" else x)\n",
    "        heart[c] = heart[c].astype(float)\n",
    "        \n",
    "    \n",
    "    # map dependent variable y = \"diagnosis\" into binary label\n",
    "    # if \"diagnosis\" == 0, member does not have disease A - we put 0\n",
    "    # if \"diagnosis\" >= 1, member possess the disease A - we put 1\n",
    "\n",
    "#     heart.loc[:, \"diag_int\"] = heart.loc[:, \"diagnosis\"].apply(lambda x: 1 if x >= 1 else 0)\n",
    "    return heart\n",
    "\n",
    "\n",
    "def subset_decomposition(data):\n",
    "    # split dataset into train and test\n",
    "    heart_train, heart_test, goal_train, goal_test = model_selection.train_test_split(data.loc[:,'age':'thal'], \\\n",
    "                                                     data.loc[:,'diagnosis'], test_size=0.33, random_state=0)\n",
    "    return heart_train, heart_test, goal_train, goal_test\n",
    "\n",
    "def model_building(heart):\n",
    "    # add parameters for grid search\n",
    "    loss = [\"hinge\", \"log\"]\n",
    "    penalty = [\"l1\", \"l2\"]\n",
    "    alpha = [0.05, 0.01]\n",
    "    n_iter = [500, 1000]\n",
    "    heart_train, heart_test, goal_train, goal_test = subset_decomposition(heart)\n",
    "    # build the models with different parameters and select the best combination for the highest Accuracy\n",
    "    best_score = 0\n",
    "    best_param = (0,0,0,0)\n",
    "    for l in loss:\n",
    "        for p in penalty:\n",
    "            for a in alpha:\n",
    "                for n in n_iter:\n",
    "                    #print(\"Parameters for model\", (l,p,a,n))\n",
    "                    lss = SGDClassifier(loss=l, penalty=p, alpha=a, max_iter=n)\n",
    "                    lss.fit(heart_train, goal_train)\n",
    "                    #print(\"Linear regression SGD Cross-Validation scores:\")\n",
    "                    scores = model_selection.cross_val_score(lss, heart.loc[:,'age':'thal'], heart.loc[:,'diagnosis'], cv=10)\n",
    "                    #print scores\n",
    "                    #print(\"Mean Linear regression SGD Cross-Validation score = \", np.mean(scores))\n",
    "\n",
    "                    if np.mean(scores) > best_score:\n",
    "                        best_score = np.mean(scores)\n",
    "                        best_param = (l,p,a,n)\n",
    "\n",
    "\n",
    "    print(\"The best parameters for model are \", best_param)\n",
    "    print(\"The Cross-Validation score = \", best_score)\n",
    "\n",
    "    # develop the model with the best parameters\n",
    "\n",
    "    lss_best = SGDClassifier(loss='log', penalty='l1', alpha=0.05, max_iter=1000)\n",
    "    lss_best.fit(heart_train, goal_train)\n",
    "    print(\"Linear regression SGD Test score:\")\n",
    "    print(lss_best.score(heart_test, goal_test))  \n",
    "    \n",
    "   \n",
    "    return lss_best\n",
    "\n",
    "def self_prediction(heart_test, model):    \n",
    "    # predict heart disease for test dataset\n",
    "    y_pred_proba = model.predict_proba(heart_test)\n",
    "    y_pred_proba = [x[1] for x in y_pred_proba]\n",
    "    for i in y_pred_proba[:10]:\n",
    "        print (i)\n",
    "    return y_pred_proba\n",
    "\n",
    "\n",
    "\n",
    "    \n",
    "if __name__ == '__main__':\n",
    "    heart = data_parsing('../input/cleveland/processed.cleveland.data.csv')\n",
    "    model = model_building(heart)"
   ]
  },
  {
   "cell_type": "code",
   "execution_count": 64,
   "metadata": {},
   "outputs": [],
   "source": []
  },
  {
   "cell_type": "code",
   "execution_count": 64,
   "metadata": {},
   "outputs": [
    {
     "name": "stdout",
     "output_type": "stream",
     "text": [
      "[0 1 0 4 0 0 0 4 2 4 0 0 0 1 0 0 4 0 0 4 0 4 0 3 1 0 4 4 4 4 4 3 4 1 4 4 0\n",
      " 4 4 1 0 0 4 4 2 0 0 0 0 0 0 1 2 0 0 0 0 0 0 3 4 4 4 2 1 4 0 0 3 4 0 1 0 4\n",
      " 4 0 4 2 4 0 4 0 4 0 0 4 4 0 4 0 4 0 0 4 0 0 4 4 0 0]\n"
     ]
    }
   ],
   "source": [
    "from sklearn.naive_bayes import GaussianNB\n",
    "nb = GaussianNB()\n",
    "data = data_parsing('../input/cleveland/processed.cleveland.data.csv')\n",
    "# print(data[data.columns[0:-2]])\n",
    "heart_train, heart_test, goal_train, goal_test = model_selection.train_test_split(data.loc[:,'age':'thal'], \\\n",
    "                                                     data.loc[:,'diagnosis'], test_size=0.33, random_state=1)\n",
    "nb.fit(heart_train,goal_train)\n",
    "\n",
    "Y_pred_nb = nb.predict(heart_test)\n",
    "print(Y_pred_nb)"
   ]
  },
  {
   "cell_type": "code",
   "execution_count": 65,
   "metadata": {},
   "outputs": [
    {
     "name": "stdout",
     "output_type": "stream",
     "text": [
      "Confusion matrix, without normalization\n",
      "[[40  9]\n",
      " [18 33]]\n"
     ]
    },
    {
     "data": {
      "image/png": "[encoded data removed]",
      "text/plain": [
       "<Figure size 432x288 with 2 Axes>"
      ]
     },
     "metadata": {},
     "output_type": "display_data"
    }
   ],
   "source": [
    "# Compute confusion matrix\n",
    "cf_matrix = confusion_matrix(goal_test, nb.predict(heart_test))\n",
    "np.set_printoptions(precision=2)\n",
    "\n",
    "# Plot non-normalized confusion matrix\n",
    "plt.figure()\n",
    "plot_confusion_matrix(cnf_matrix, classes=[\"Heart disease\", \"No heart disease\"],\n",
    "                      title='Confusion matrix, without normalization')\n",
    "plt.show()"
   ]
  },
  {
   "cell_type": "code",
   "execution_count": 66,
   "metadata": {},
   "outputs": [
    {
     "data": {
      "text/plain": [
       "<matplotlib.axes._subplots.AxesSubplot at 0x7f830aa39940>"
      ]
     },
     "execution_count": 66,
     "metadata": {},
     "output_type": "execute_result"
    },
    {
     "data": {
      "image/png": "[encoded data removed]",
      "text/plain": [
       "<Figure size 720x360 with 1 Axes>"
      ]
     },
     "metadata": {},
     "output_type": "display_data"
    }
   ],
   "source": [
    "heart.head(50).plot(kind='area',figsize=(10,5))"
   ]
  },
  {
   "cell_type": "code",
   "execution_count": 67,
   "metadata": {},
   "outputs": [],
   "source": [
    "from sklearn.metrics import accuracy_score\n",
    "from sklearn.metrics import classification_report"
   ]
  },
  {
   "cell_type": "code",
   "execution_count": 68,
   "metadata": {},
   "outputs": [
    {
     "name": "stdout",
     "output_type": "stream",
     "text": [
      "Naive bayes Test score:\n",
      "              precision    recall  f1-score   support\n",
      "\n",
      "           0       0.89      0.76      0.82        55\n",
      "           1       0.25      0.12      0.16        17\n",
      "           2       0.40      0.18      0.25        11\n",
      "           3       0.25      0.07      0.11        14\n",
      "           4       0.06      0.67      0.10         3\n",
      "\n",
      "   micro avg       0.49      0.49      0.49       100\n",
      "   macro avg       0.37      0.36      0.29       100\n",
      "weighted avg       0.61      0.49      0.53       100\n",
      "\n"
     ]
    }
   ],
   "source": [
    "score1 = round(accuracy_score(goal_test, Y_pred_nb)*100,2)\n",
    "print(\"Naive bayes Test score:\")\n",
    "print(classification_report(goal_test, Y_pred_nb))"
   ]
  },
  {
   "cell_type": "code",
   "execution_count": 69,
   "metadata": {},
   "outputs": [
    {
     "name": "stdout",
     "output_type": "stream",
     "text": [
      "Decision tree:\n",
      "              precision    recall  f1-score   support\n",
      "\n",
      "           0       0.48      0.51      0.50        55\n",
      "           1       0.12      0.29      0.17        17\n",
      "           2       0.00      0.00      0.00        11\n",
      "           3       0.00      0.00      0.00        14\n",
      "           4       0.00      0.00      0.00         3\n",
      "\n",
      "   micro avg       0.33      0.33      0.33       100\n",
      "   macro avg       0.12      0.16      0.13       100\n",
      "weighted avg       0.29      0.33      0.30       100\n",
      "\n"
     ]
    }
   ],
   "source": [
    "print(\"Decision tree:\")\n",
    "score2 = round(accuracy_score(goal_test, dt)*100,2)\n",
    "print(classification_report(goal_test, dt))"
   ]
  },
  {
   "cell_type": "code",
   "execution_count": 70,
   "metadata": {},
   "outputs": [
    {
     "name": "stdout",
     "output_type": "stream",
     "text": [
      "Logistic regression\n",
      "              precision    recall  f1-score   support\n",
      "\n",
      "           0       0.51      0.58      0.54        55\n",
      "           1       0.11      0.24      0.15        17\n",
      "           2       0.00      0.00      0.00        11\n",
      "           3       0.00      0.00      0.00        14\n",
      "           4       0.00      0.00      0.00         3\n",
      "\n",
      "   micro avg       0.36      0.36      0.36       100\n",
      "   macro avg       0.12      0.16      0.14       100\n",
      "weighted avg       0.30      0.36      0.32       100\n",
      "\n"
     ]
    }
   ],
   "source": [
    "print(\"Logistic regression\")\n",
    "score3=round(accuracy_score(goal_test, y_pred)*100,2)\n",
    "print(classification_report(goal_test, y_pred))"
   ]
  },
  {
   "cell_type": "code",
   "execution_count": 71,
   "metadata": {},
   "outputs": [
    {
     "name": "stdout",
     "output_type": "stream",
     "text": [
      "The accuracy score achieved using Naive Bayes is: 49.0 %\n",
      "The accuracy score achieved using Decision Tree is: 33.0 %\n",
      "The accuracy score achieved using Logistic Regression is: 36.0 %\n"
     ]
    }
   ],
   "source": [
    "scores = [score1,score2,score3]\n",
    "algorithms = [\"Naive Bayes\",\"Decision Tree\",\"Logistic Regression\"]    \n",
    "\n",
    "for i in range(len(algorithms)):\n",
    "    print(\"The accuracy score achieved using \"+algorithms[i]+\" is: \"+str(scores[i])+\" %\")"
   ]
  },
  {
   "cell_type": "code",
   "execution_count": 72,
   "metadata": {},
   "outputs": [
    {
     "data": {
      "text/plain": [
       "<matplotlib.axes._subplots.AxesSubplot at 0x7f830aba83c8>"
      ]
     },
     "execution_count": 72,
     "metadata": {},
     "output_type": "execute_result"
    },
    {
     "data": {
      "image/png": "[encoded data removed]",
      "text/plain": [
       "<Figure size 1080x576 with 1 Axes>"
      ]
     },
     "metadata": {},
     "output_type": "display_data"
    }
   ],
   "source": [
    "sns.set(rc={'figure.figsize':(15,8)})\n",
    "plt.xlabel(\"Algorithms\")\n",
    "plt.ylabel(\"Accuracy score\")\n",
    "\n",
    "sns.barplot(algorithms,scores)"
   ]
  },
  {
   "cell_type": "code",
   "execution_count": 73,
   "metadata": {},
   "outputs": [
    {
     "data": {
      "text/html": [
       "<div>\n",
       "<style scoped>\n",
       "    .dataframe tbody tr th:only-of-type {\n",
       "        vertical-align: middle;\n",
       "    }\n",
       "\n",
       "    .dataframe tbody tr th {\n",
       "        vertical-align: top;\n",
       "    }\n",
       "\n",
       "    .dataframe thead th {\n",
       "        text-align: right;\n",
       "    }\n",
       "</style>\n",
       "<table border=\"1\" class=\"dataframe\">\n",
       "  <thead>\n",
       "    <tr style=\"text-align: right;\">\n",
       "      <th></th>\n",
       "      <th>age</th>\n",
       "      <th>sex</th>\n",
       "      <th>chest_pain</th>\n",
       "      <th>blood pressure</th>\n",
       "      <th>serum_cholestoral</th>\n",
       "      <th>fasting_blood_sugar</th>\n",
       "      <th>electrocardiographic</th>\n",
       "      <th>max_heart_rate</th>\n",
       "      <th>induced_angina</th>\n",
       "      <th>ST_depression</th>\n",
       "      <th>slope</th>\n",
       "      <th>vessels</th>\n",
       "      <th>thal</th>\n",
       "      <th>diagnosis</th>\n",
       "    </tr>\n",
       "  </thead>\n",
       "  <tbody>\n",
       "    <tr>\n",
       "      <th>0</th>\n",
       "      <td>63</td>\n",
       "      <td>1</td>\n",
       "      <td>1</td>\n",
       "      <td>145</td>\n",
       "      <td>233</td>\n",
       "      <td>1</td>\n",
       "      <td>2</td>\n",
       "      <td>150</td>\n",
       "      <td>0</td>\n",
       "      <td>2.3</td>\n",
       "      <td>3</td>\n",
       "      <td>0</td>\n",
       "      <td>6</td>\n",
       "      <td>0</td>\n",
       "    </tr>\n",
       "    <tr>\n",
       "      <th>1</th>\n",
       "      <td>67</td>\n",
       "      <td>1</td>\n",
       "      <td>4</td>\n",
       "      <td>160</td>\n",
       "      <td>286</td>\n",
       "      <td>0</td>\n",
       "      <td>2</td>\n",
       "      <td>108</td>\n",
       "      <td>1</td>\n",
       "      <td>1.5</td>\n",
       "      <td>2</td>\n",
       "      <td>3</td>\n",
       "      <td>3</td>\n",
       "      <td>2</td>\n",
       "    </tr>\n",
       "    <tr>\n",
       "      <th>2</th>\n",
       "      <td>67</td>\n",
       "      <td>1</td>\n",
       "      <td>4</td>\n",
       "      <td>120</td>\n",
       "      <td>229</td>\n",
       "      <td>0</td>\n",
       "      <td>2</td>\n",
       "      <td>129</td>\n",
       "      <td>1</td>\n",
       "      <td>2.6</td>\n",
       "      <td>2</td>\n",
       "      <td>2</td>\n",
       "      <td>7</td>\n",
       "      <td>1</td>\n",
       "    </tr>\n",
       "    <tr>\n",
       "      <th>3</th>\n",
       "      <td>37</td>\n",
       "      <td>1</td>\n",
       "      <td>3</td>\n",
       "      <td>130</td>\n",
       "      <td>250</td>\n",
       "      <td>0</td>\n",
       "      <td>0</td>\n",
       "      <td>187</td>\n",
       "      <td>0</td>\n",
       "      <td>3.5</td>\n",
       "      <td>3</td>\n",
       "      <td>0</td>\n",
       "      <td>3</td>\n",
       "      <td>0</td>\n",
       "    </tr>\n",
       "    <tr>\n",
       "      <th>4</th>\n",
       "      <td>41</td>\n",
       "      <td>0</td>\n",
       "      <td>2</td>\n",
       "      <td>130</td>\n",
       "      <td>204</td>\n",
       "      <td>0</td>\n",
       "      <td>2</td>\n",
       "      <td>172</td>\n",
       "      <td>0</td>\n",
       "      <td>1.4</td>\n",
       "      <td>1</td>\n",
       "      <td>0</td>\n",
       "      <td>3</td>\n",
       "      <td>0</td>\n",
       "    </tr>\n",
       "  </tbody>\n",
       "</table>\n",
       "</div>"
      ],
      "text/plain": [
       "   age  sex  chest_pain    ...      vessels  thal  diagnosis\n",
       "0   63    1           1    ...            0     6          0\n",
       "1   67    1           4    ...            3     3          2\n",
       "2   67    1           4    ...            2     7          1\n",
       "3   37    1           3    ...            0     3          0\n",
       "4   41    0           2    ...            0     3          0\n",
       "\n",
       "[5 rows x 14 columns]"
      ]
     },
     "execution_count": 73,
     "metadata": {},
     "output_type": "execute_result"
    }
   ],
   "source": [
    "# add the rows names\n",
    "header_row = ['age','sex','chest_pain','blood pressure','serum_cholestoral','fasting_blood_sugar',\\\n",
    "               'electrocardiographic','max_heart_rate','induced_angina','ST_depression','slope','vessels','thal','diagnosis']\n",
    "\n",
    "# read csv file with Cleveland heart diseases data\n",
    "heart = pnd.read_csv('../input/cleveland/processed.cleveland.data.csv', names=header_row)\n",
    "Z=random.randrange(0, 4, 1)\n",
    "heart[:5]"
   ]
  },
  {
   "cell_type": "code",
   "execution_count": 74,
   "metadata": {},
   "outputs": [
    {
     "data": {
      "text/plain": [
       "age                      38\n",
       "sex                       1\n",
       "chest_pain                3\n",
       "blood pressure          138\n",
       "serum_cholestoral       175\n",
       "fasting_blood_sugar       0\n",
       "electrocardiographic      0\n",
       "max_heart_rate          173\n",
       "induced_angina            0\n",
       "ST_depression             0\n",
       "slope                     1\n",
       "vessels                   ?\n",
       "thal                      3\n",
       "diagnosis                 0\n",
       "Name: 302, dtype: object"
      ]
     },
     "execution_count": 74,
     "metadata": {},
     "output_type": "execute_result"
    }
   ],
   "source": [
    "heart_Test= heart.iloc[-1]\n",
    "heart.iloc[-1]"
   ]
  },
  {
   "cell_type": "code",
   "execution_count": 75,
   "metadata": {},
   "outputs": [
    {
     "name": "stdout",
     "output_type": "stream",
     "text": [
      "Enter value for  age\n"
     ]
    },
    {
     "ename": "StdinNotImplementedError",
     "evalue": "raw_input was called, but this frontend does not support input requests.",
     "output_type": "error",
     "traceback": [
      "\u001b[0;31m---------------------------------------------------------------------------\u001b[0m",
      "\u001b[0;31mStdinNotImplementedError\u001b[0m                  Traceback (most recent call last)",
      "\u001b[0;32m<ipython-input-75-673174b8c153>\u001b[0m in \u001b[0;36m<module>\u001b[0;34m()\u001b[0m\n\u001b[1;32m     17\u001b[0m \u001b[0;34m\u001b[0m\u001b[0m\n\u001b[1;32m     18\u001b[0m \u001b[0;34m\u001b[0m\u001b[0m\n\u001b[0;32m---> 19\u001b[0;31m \u001b[0muser_inputs\u001b[0m \u001b[0;34m=\u001b[0m \u001b[0mtake_input\u001b[0m\u001b[0;34m(\u001b[0m\u001b[0;36m0\u001b[0m\u001b[0;34m)\u001b[0m\u001b[0;34m\u001b[0m\u001b[0m\n\u001b[0m\u001b[1;32m     20\u001b[0m \u001b[0mp\u001b[0m\u001b[0;34m=\u001b[0m\u001b[0mnb\u001b[0m\u001b[0;34m.\u001b[0m\u001b[0mpredict\u001b[0m\u001b[0;34m(\u001b[0m\u001b[0muser_inputs\u001b[0m\u001b[0;34m)\u001b[0m\u001b[0;34m\u001b[0m\u001b[0m\n\u001b[1;32m     21\u001b[0m \u001b[0mc\u001b[0m\u001b[0;34m=\u001b[0m \u001b[0mrandom\u001b[0m\u001b[0;34m.\u001b[0m\u001b[0mchoice\u001b[0m\u001b[0;34m(\u001b[0m\u001b[0mp\u001b[0m\u001b[0;34m)\u001b[0m\u001b[0;34m\u001b[0m\u001b[0m\n",
      "\u001b[0;32m<ipython-input-75-673174b8c153>\u001b[0m in \u001b[0;36mtake_input\u001b[0;34m(exists)\u001b[0m\n\u001b[1;32m      8\u001b[0m         \u001b[0;32mfor\u001b[0m \u001b[0mn\u001b[0m \u001b[0;32min\u001b[0m \u001b[0mrange\u001b[0m\u001b[0;34m(\u001b[0m\u001b[0;36m0\u001b[0m\u001b[0;34m,\u001b[0m\u001b[0;36m13\u001b[0m\u001b[0;34m)\u001b[0m\u001b[0;34m:\u001b[0m\u001b[0;34m\u001b[0m\u001b[0m\n\u001b[1;32m      9\u001b[0m             \u001b[0mprint\u001b[0m\u001b[0;34m(\u001b[0m\u001b[0;34m\"Enter value for \"\u001b[0m\u001b[0;34m,\u001b[0m\u001b[0mheader_row\u001b[0m\u001b[0;34m[\u001b[0m\u001b[0mn\u001b[0m\u001b[0;34m]\u001b[0m\u001b[0;34m)\u001b[0m\u001b[0;34m\u001b[0m\u001b[0m\n\u001b[0;32m---> 10\u001b[0;31m             \u001b[0ma\u001b[0m \u001b[0;34m=\u001b[0m \u001b[0minput\u001b[0m\u001b[0;34m(\u001b[0m\u001b[0;34m)\u001b[0m\u001b[0;34m\u001b[0m\u001b[0m\n\u001b[0m\u001b[1;32m     11\u001b[0m             \u001b[0minputs\u001b[0m\u001b[0;34m.\u001b[0m\u001b[0mappend\u001b[0m\u001b[0;34m(\u001b[0m\u001b[0ma\u001b[0m\u001b[0;34m)\u001b[0m\u001b[0;34m\u001b[0m\u001b[0m\n\u001b[1;32m     12\u001b[0m         \u001b[0mprint\u001b[0m\u001b[0;34m(\u001b[0m\u001b[0minputs\u001b[0m\u001b[0;34m)\u001b[0m\u001b[0;34m\u001b[0m\u001b[0m\n",
      "\u001b[0;32m/opt/conda/lib/python3.6/site-packages/ipykernel/kernelbase.py\u001b[0m in \u001b[0;36mraw_input\u001b[0;34m(self, prompt)\u001b[0m\n\u001b[1;32m    697\u001b[0m         \u001b[0;32mif\u001b[0m \u001b[0;32mnot\u001b[0m \u001b[0mself\u001b[0m\u001b[0;34m.\u001b[0m\u001b[0m_allow_stdin\u001b[0m\u001b[0;34m:\u001b[0m\u001b[0;34m\u001b[0m\u001b[0m\n\u001b[1;32m    698\u001b[0m             raise StdinNotImplementedError(\n\u001b[0;32m--> 699\u001b[0;31m                 \u001b[0;34m\"raw_input was called, but this frontend does not support input requests.\"\u001b[0m\u001b[0;34m\u001b[0m\u001b[0m\n\u001b[0m\u001b[1;32m    700\u001b[0m             )\n\u001b[1;32m    701\u001b[0m         return self._input_request(str(prompt),\n",
      "\u001b[0;31mStdinNotImplementedError\u001b[0m: raw_input was called, but this frontend does not support input requests."
     ]
    }
   ],
   "source": [
    "#naive bayes\n",
    "def take_input(exists):\n",
    "    inputs = []\n",
    "    header_row = ['age','sex','chest_pain','blood pressure','serum_cholestoral','fasting_blood_sugar',\\\n",
    "               'electrocardiographic','max_heart_rate','induced_angina','ST_depression','slope','vessels',\\\n",
    "                'thal']\n",
    "    if exists:\n",
    "        return \n",
    "    else :\n",
    "        for n in range(0,13):\n",
    "            print(\"Enter value for \",header_row[n])\n",
    "            a = input()\n",
    "            inputs.append(a)\n",
    "        print(inputs)\n",
    "        inputs = np.expand_dims(inputs, axis=0)\n",
    "        df_inputs = pnd.DataFrame(inputs, columns = header_row)\n",
    "        print(\"data\",df_inputs)\n",
    "        return df_inputs \n",
    "\n",
    "\n",
    "user_inputs = take_input(0)\n",
    "p=nb.predict(user_inputs)\n",
    "c= random.choice(p)\n",
    "if(c==0):\n",
    "    print(\"Patient doesnt have heart disease\")\n",
    "elif(c==1):\n",
    "    print(\"Patient has heart disease type 1\")\n",
    "elif(c==2):\n",
    "    print(\"Patient has heart disease type 2\")\n",
    "elif(c==3):\n",
    "    print(\"Patient has heart disease type 3\")\n",
    "else:\n",
    "    print(\"Patient has heart disease type 4\")\n"
   ]
  },
  {
   "cell_type": "code",
   "execution_count": 76,
   "metadata": {},
   "outputs": [
    {
     "name": "stdout",
     "output_type": "stream",
     "text": [
      "Patient doesnt have heart disease\n"
     ]
    }
   ],
   "source": [
    "#logistic regression\n",
    "p = lss_best.predict(heart_test)\n",
    "c=p[-1]\n",
    "if(c==0):\n",
    "    print(\"Patient doesnt have heart disease\")\n",
    "elif(c==1):\n",
    "    print(\"Patient has heart disease type 1\")\n",
    "elif(c==2):\n",
    "    print(\"Patient has heart disease type 2\")\n",
    "elif(c==3):\n",
    "    print(\"Patient has heart disease type 3\")\n",
    "else:\n",
    "    print(\"Patient has heart disease type 4\")"
   ]
  },
  {
   "cell_type": "code",
   "execution_count": 77,
   "metadata": {},
   "outputs": [
    {
     "name": "stdout",
     "output_type": "stream",
     "text": [
      "Patient doesnt have heart disease\n"
     ]
    }
   ],
   "source": [
    "#decision tree\n",
    "p=lss_best_dt.predict(heart_test)\n",
    "c=p[-1]\n",
    "if(c==0):\n",
    "    print(\"Patient doesnt have heart disease\")\n",
    "elif(c==1):\n",
    "    print(\"Patient has heart disease type 1\")\n",
    "elif(c==2):\n",
    "    print(\"Patient has heart disease type 2\")\n",
    "elif(c==3):\n",
    "    print(\"Patient has heart disease type 3\")\n",
    "else:\n",
    "    print(\"Patient has heart disease type 4\")\n"
   ]
  }
 ],
 "metadata": {
  "kernelspec": {
   "display_name": "Python 3",
   "language": "python",
   "name": "python3"
  },
  "language_info": {
   "codemirror_mode": {
    "name": "ipython",
    "version": 3
   },
   "file_extension": ".py",
   "mimetype": "text/x-python",
   "name": "python",
   "nbconvert_exporter": "python",
   "pygments_lexer": "ipython3",
   "version": "3.6.3"
  }
 },
 "nbformat": 4,
 "nbformat_minor": 1
}
